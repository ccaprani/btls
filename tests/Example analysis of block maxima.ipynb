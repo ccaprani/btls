{
 "cells": [
  {
   "cell_type": "code",
   "execution_count": 1,
   "metadata": {},
   "outputs": [],
   "source": [
    "from PyBTLS.py_module.bridge.bridge import Bridge\n",
    "from PyBTLS.py_module.bridge.flow import LaneFlow, BridgeFlow\n",
    "from PyBTLS.py_module.parallel.parallel import BTLSWrapper\n",
    "from PyBTLS.py_module.traffic.constant_vehicle import ConstantVehicle\n",
    "from PyBTLS.py_module.traffic.garage import Garage, Kernels\n",
    "from PyBTLS.py_module.traffic.PyBtlsDefaultTraffic import Auxerre #OLD CODE, BUT NO REPLACEMENT YET\n",
    "import numpy as np"
   ]
  },
  {
   "cell_type": "code",
   "execution_count": 2,
   "metadata": {},
   "outputs": [],
   "source": [
    "# Define the bridge\n",
    "# This is similar to PyCBA syntax\n",
    "L = [25.0] #m\n",
    "R = [-1, 0, -1, 0] #Simply supported\n",
    "bridge = Bridge(L=L, R=R, n_lane=1)\n",
    "\n",
    "# Define the Load Effects to analyse\n",
    "# Adding load effects can be done in two ways\n",
    "# The first way is to use BTLS built-in influence line\n",
    "# e.g., this is Influence Line 1, which computes moment at midspan\n",
    "# See BTLS manual for full list of built-in load effects\n",
    "bridge.add_load_effect(load_effect = 1) \n",
    "# Another way to define load effects is by specifiying:\n",
    "#   load_effect ('M', 'V', or 'R' for moment, shear or reaction)\n",
    "#   poi         (The point where the load effect is to be measured)\n",
    "#   step        (The resolution of the IL calculation. Higher resolution is provides more accurare result but will slow down run time)\n",
    "# Some other available arguments are:\n",
    "#   lane_factor (The lane_factor. Can be a list for different factors for each lane, or a singular value for same lane_factor for all. default 1.0)\n",
    "#   POT         (Minimum LE to be included in Peak Over Threshold (POT) analysis. default to 0.0)\n",
    "bridge.add_load_effect(load_effect = \"M\", poi = 3/4 * L[0], step = 0.1)\n",
    "\n",
    "# Defining the lane flow\n",
    "# Lane flow can be constructed using:\n",
    "#   - data frame (NOT recommended as it is prone to error)\n",
    "#   - csv file\n",
    "#   - default files\n",
    "# Construction via data frame is done using the Pandas.DataFrame arguments and syntax. See Pandas documentation for details.\n",
    "# Construction via csv file require you to supply the following arguments:\n",
    "#   path        (Path to the csv file, in string)\n",
    "# Construction via the default files can be done using the load_default() method. The method can take the argument:\n",
    "#   sample      (The sample number, either 1 or 2. Currently there are two default lane flow definitions available. Default to 1)\n",
    "lane_1 = LaneFlow()\n",
    "lane_1.load_default()\n",
    "\n",
    "\n",
    "# Define the Bridge Flows\n",
    "# Multiple lanes can be created. This is then added to a BridgeFlow object, which describe the flow of all the lanes in the bridge\n",
    "# Lane can be added at initialisation as list or BtlsFlow object, or after initialisation via:\n",
    "#   - add() method or other aliases of the method: add_lane_flow(), append(), extend())\n",
    "#   - insert(idx, lane_flow) : insert new lane flow into the array\n",
    "#   - list indexing          : This is similar to regular list indexing, e.g. bridge_flow[1] = lane_2, del bridge_flow[0], etc.\n",
    "bridge_flow = BridgeFlow(lane_1)"
   ]
  },
  {
   "cell_type": "code",
   "execution_count": 3,
   "metadata": {},
   "outputs": [
    {
     "name": "stdout",
     "output_type": "stream",
     "text": [
      "PyBTLS BTLSWrapperOptions object at 0x7ff4fc8e4370\n",
      "{\n",
      "  program_mode: Gen & Sim,\n",
      "  num_days: 250,\n",
      "  track_width: 190.0,\n",
      "  eccentricity_std_dev: 20,\n",
      "  vehicle_generation_model: Constant,\n",
      "  headway_model: Free Flow,\n",
      "  traffic_classification: 1,\n",
      "  nom_congested_spacing: 26.1,\n",
      "  congested_speed: 49.7,\n",
      "  congested_gaps_cov: 0.05,\n",
      "\n",
      "  impose_constant_speed: 0,\n",
      "  use_avg_speed_if_impose_constant_speed: 1,\n",
      "  constant_speed_if_not_use_avg_speed: 88,\n",
      "\n",
      "  time_step: 0.01,\n",
      "  min_GVW: 0.0,\n",
      "\n",
      "  write_full_time_history: 0,\n",
      "  write_each_loading_event: 0,\n",
      "  write_each_loading_event_buffer_size: 10000000,\n",
      "  write_fatigue_event: 0,\n",
      "  write_rainflow_algorithm: 0,\n",
      "  num_decimal_rainflow_algorithm: 3,\n",
      "  fatigue_cutoff_value: 5.0,\n",
      "\n",
      "  write_vehicle_file: 0,\n",
      "  write_vehicle_file_format: MON,\n",
      "  write_vehicle_file_buffer_size: 1000000,\n",
      "  write_vehicle_flow_statistics: 0,\n",
      "\n",
      "  analyse_block_max: 1,\n",
      "  size_block_max_in_days: 1,\n",
      "  size_block_max_in_seconds: 0,\n",
      "  write_block_max_separated_vehicle_files: 1,\n",
      "  write_block_max_summary_files: 1,\n",
      "  write_block_max_mixed_analysis: 1,\n",
      "  write_block_max_buffer_size: 250,\n",
      "\n",
      "  analyse_pot: 0,\n",
      "  write_pot_vehicle_files: 0,\n",
      "  write_pot_summary_files: 0,\n",
      "  write_pot_counter_files: 0,\n",
      "  pot_counter_size_in_days: 0,\n",
      "  pot_counter_size_in_seconds: 0,\n",
      "  write_pot_buffer_size: 10000000,\n",
      "\n",
      "  analyse_statistics: 1,\n",
      "  write_cumulative_statistics_file: 1,\n",
      "  write_interval_statistics_files: 1,\n",
      "  interval_statistics_size: 86400,\n",
      "  interval_statistics_size: 86400,\n",
      "  interval_statistics_buffer_size: 10000000,\n",
      "}\n"
     ]
    }
   ],
   "source": [
    "# DEVELOPMENT VERSION\n",
    "# THIS WILL CHANGE IN THE FUTURE AS THE txt FILES ARE DEPRECATED\n",
    "\n",
    "# Creating BTLS wrapper\n",
    "# The bridge needs to then be wrapped in a BTLSWrapper class. This class provides the method of parsing the required input and reading outputs.\n",
    "# Arguments here are:\n",
    "# bridge        (A Bridge object)\n",
    "# num_days      (Number of days for the simulation)\n",
    "# working_dir   (The working directory where all txt files will be created and read)\n",
    "btls = BTLSWrapper(bridge = bridge, bridge_flow = bridge_flow, num_days = 250)\n",
    "\n",
    "# To change analysis types and other options, see the options object\n",
    "# Set the Simulation mods:\n",
    "btls.options.program_mode = \"Gen & Sim\"\n",
    "# In this case, we're interested in block maxima analysis. We could also do interval statistics to get a quick overview later on\n",
    "# We can invoke the setiings one by one, e.g.:\n",
    "#btls.options.analyse_block_max = 1\n",
    "#btls.options.write_block_max_summary_files = 1\n",
    "#btls.options.write_block_max_mixed_analysis = 1\n",
    "# A simpler way to do this is for a set of analysis, you could do:\n",
    "btls.options.group_analyse_block_maxima = True\n",
    "btls.options.group_analyse_statistics = True\n",
    "# Or to turn off an analysis (by default all analysis are off)\n",
    "btls.options.group_analyse_pot = False\n",
    "#Other options, e.g. set simulation time step\n",
    "btls.options.time_step = 0.01\n",
    "\n",
    "\n",
    "# Define the traffic objects\n",
    "# NEED WORK HERE\n",
    "#Traffic Vehicle Settings\n",
    "btls.options.vehicle_generation_model = \"Constant\"\n",
    "btls.options.headway_model = \"Free Flow\"\n",
    "\n",
    "constant_vehicle = ConstantVehicle()\n",
    "constant_vehicle.load_default()\n",
    "btls.constant_vehicle = constant_vehicle\n",
    "\n",
    "garage = Garage()\n",
    "garage.load_default()\n",
    "btls.garage = garage\n",
    "\n",
    "kernels = Kernels()\n",
    "kernels.load_default()\n",
    "btls.kernels = kernels\n",
    "\n",
    "btls.traffic = Auxerre #OLD CODE, BUT NO REPLACEMENT YET\n",
    "\n",
    "#Print the options. Can also use .print() method\n",
    "print(btls.options)"
   ]
  },
  {
   "cell_type": "code",
   "execution_count": 4,
   "metadata": {},
   "outputs": [
    {
     "name": "stdout",
     "output_type": "stream",
     "text": [
      "---------------------------------------------\n",
      "Bridge Traffic Load Simulation - C.C. Caprani\n",
      "                Version 1.3.5\t\t\t      \n",
      "---------------------------------------------\n",
      "\n",
      "Program Mode: 1\n",
      "\n",
      "Reading influence surface file: ./Input/IS.txt\n",
      "Reading influence line file: ./Input/IL.txt\n",
      "Starting simulation...\n",
      "Day complete...\n"
     ]
    },
    {
     "name": "stderr",
     "output_type": "stream",
     "text": [
      "*** Warning: Influence Surface file could not be opened\n"
     ]
    },
    {
     "name": "stdout",
     "output_type": "stream",
     "text": [
      "1\t2\t3\t4\t5\t6\t7\t8\t9\t10\n",
      "11\t12\t13\t14\t15\t16\t17\t18\t19\t20\n",
      "21\t22\t23\t24\t25\t26\t27\t28\t29\t30\n",
      "31\t32\t33\t34\t35\t36\t37\t38\t39\t40\n",
      "41\t42\t43\t44\t45\t46\t47\t48\t49\t50\n",
      "51\t52\t53\t54\t55\t56\t57\t58\t59\t60\n",
      "61\t62\t63\t64\t65\t66\t67\t68\t69\t70\n",
      "71\t72\t73\t74\t75\t76\t77\t78\t79\t80\n",
      "81\t82\t83\t84\t85\t86\t87\t88\t89\t90\n",
      "91\t92\t93\t94\t95\t96\t97\t98\t99\t100\n",
      "101\t102\t103\t104\t105\t106\t107\t108\t109\t110\n",
      "111\t112\t113\t114\t115\t116\t117\t118\t119\t120\n",
      "121\t122\t123\t124\t125\t126\t127\t128\t129\t130\n",
      "131\t132\t133\t134\t135\t136\t137\t138\t139\t140\n",
      "141\t142\t143\t144\t145\t146\t147\t148\t149\t150\n",
      "151\t152\t153\t154\t155\t156\t157\t158\t159\t160\n",
      "161\t162\t163\t164\t165\t166\t167\t168\t169\t170\n",
      "171\t172\t173\t174\t175\t176\t177\t178\t179\t180\n",
      "181\t182\t183\t184\t185\t186\t187\t188\t189\t190\n",
      "191\t192\t193\t194\t195\t196\t197\t198\t199\t200\n",
      "201\t202\t203\t204\t205\t206\t207\t208\t209\t210\n",
      "211\t212\t213\t214\t215\t216\t217\t218\t219\t220\n",
      "221\t222\t223\t224\t225\t226\t227\t228\t229\t230\n",
      "231\t232\t233\t234\t235\t236\t237\t238\t239\t240\n",
      "241\t242\t243\t244\t245\t246\t247\t248\t249\t250\n",
      "\n",
      "\n",
      "Simulation complete\n",
      "\n",
      "Duration of analysis: 175.454 s\n"
     ]
    },
    {
     "ename": "NameError",
     "evalue": "name 'PyBtlsOutput' is not defined",
     "output_type": "error",
     "traceback": [
      "\u001b[0;31m---------------------------------------------------------------------------\u001b[0m",
      "\u001b[0;31mNameError\u001b[0m                                 Traceback (most recent call last)",
      "Cell \u001b[0;32mIn [4], line 2\u001b[0m\n\u001b[1;32m      1\u001b[0m \u001b[39m# We can then run the analysis. Output will be read automatically and the working directory will be purged\u001b[39;00m\n\u001b[0;32m----> 2\u001b[0m btls\u001b[39m.\u001b[39mrun()\n\u001b[1;32m      4\u001b[0m \u001b[39m# Save the object so we don't lose our results!\u001b[39;00m\n\u001b[1;32m      5\u001b[0m fname \u001b[39m=\u001b[39m \u001b[39m'\u001b[39m\u001b[39mExample 1 Bridge Block Maxima Analysis.obj\u001b[39m\u001b[39m'\u001b[39m\n",
      "File \u001b[0;32m/Storage/PhD/python_packages/btls/btls/py_src/PyBTLS/py_module/parallel/parallel.py:314\u001b[0m, in \u001b[0;36mBTLSWrapper.run\u001b[0;34m(self)\u001b[0m\n\u001b[1;32m    312\u001b[0m \u001b[39mself\u001b[39m\u001b[39m.\u001b[39mcreate_py_file()\n\u001b[1;32m    313\u001b[0m \u001b[39mself\u001b[39m\u001b[39m.\u001b[39mrun_py_file()\n\u001b[0;32m--> 314\u001b[0m \u001b[39mself\u001b[39;49m\u001b[39m.\u001b[39;49mread_outputs()\n\u001b[1;32m    315\u001b[0m \u001b[39mself\u001b[39m\u001b[39m.\u001b[39mflush_files()\n",
      "File \u001b[0;32m/Storage/PhD/python_packages/btls/btls/py_src/PyBTLS/py_module/parallel/parallel.py:240\u001b[0m, in \u001b[0;36mBTLSWrapper.read_outputs\u001b[0;34m(self)\u001b[0m\n\u001b[1;32m    238\u001b[0m \u001b[39mdef\u001b[39;00m \u001b[39mread_outputs\u001b[39m(\u001b[39mself\u001b[39m):\n\u001b[1;32m    239\u001b[0m     \u001b[39mif\u001b[39;00m \u001b[39mself\u001b[39m\u001b[39m.\u001b[39moptions\u001b[39m.\u001b[39mwrite_interval_statistics_files:\n\u001b[0;32m--> 240\u001b[0m         \u001b[39mself\u001b[39m\u001b[39m.\u001b[39moutputs\u001b[39m.\u001b[39minterval_statistics \u001b[39m=\u001b[39m \u001b[39mself\u001b[39;49m\u001b[39m.\u001b[39;49m_read_interval_statistics_file()\n\u001b[1;32m    241\u001b[0m     \u001b[39mif\u001b[39;00m (\u001b[39mself\u001b[39m\u001b[39m.\u001b[39moptions\u001b[39m.\u001b[39mwrite_vehicle_file \u001b[39m==\u001b[39m \u001b[39m1\u001b[39m) \u001b[39mor\u001b[39;00m (\u001b[39mself\u001b[39m\u001b[39m.\u001b[39moptions\u001b[39m.\u001b[39mprogram_mode \u001b[39m==\u001b[39m \u001b[39m\"\u001b[39m\u001b[39mGen\u001b[39m\u001b[39m\"\u001b[39m):\n\u001b[1;32m    242\u001b[0m         \u001b[39mself\u001b[39m\u001b[39m.\u001b[39moutputs\u001b[39m.\u001b[39mvehicles \u001b[39m=\u001b[39m \u001b[39mself\u001b[39m\u001b[39m.\u001b[39m_read_generated_vehicles_file()\n",
      "File \u001b[0;32m/Storage/PhD/python_packages/btls/btls/py_src/PyBTLS/py_module/parallel/parallel.py:258\u001b[0m, in \u001b[0;36mBTLSWrapper._read_interval_statistics_file\u001b[0;34m(self)\u001b[0m\n\u001b[1;32m    256\u001b[0m     \u001b[39melse\u001b[39;00m:\n\u001b[1;32m    257\u001b[0m         fpath \u001b[39m=\u001b[39m fpath[\u001b[39m0\u001b[39m]\n\u001b[0;32m--> 258\u001b[0m     out\u001b[39m.\u001b[39mappend(PyBtlsOutput\u001b[39m.\u001b[39mBtlsOutputIntervalStatistics(\n\u001b[1;32m    259\u001b[0m         path \u001b[39m=\u001b[39m fpath,\n\u001b[1;32m    260\u001b[0m         descriptor \u001b[39m=\u001b[39m desc_name\n\u001b[1;32m    261\u001b[0m     ))\n\u001b[1;32m    262\u001b[0m \u001b[39mreturn\u001b[39;00m out\n",
      "\u001b[0;31mNameError\u001b[0m: name 'PyBtlsOutput' is not defined"
     ]
    }
   ],
   "source": [
    "# We can then run the analysis. Output will be read automatically and the working directory will be purged\n",
    "btls.run()\n",
    "\n",
    "# Save the object so we don't lose our results!\n",
    "fname = 'Example 1 Bridge Block Maxima Analysis.obj'\n",
    "btls.save(fname)\n",
    "\n",
    "# We can reload it in the future using the load() method\n",
    "btls = BTLSWrapper()\n",
    "btls.load(fname)"
   ]
  },
  {
   "cell_type": "code",
   "execution_count": 8,
   "metadata": {},
   "outputs": [],
   "source": [
    "# Define Parallelisation\n",
    "# The above BTLSWrapper can be run using the run() method. But"
   ]
  },
  {
   "cell_type": "code",
   "execution_count": 6,
   "metadata": {},
   "outputs": [
    {
     "data": {
      "text/plain": [
       "'.btls_default_working_dir'"
      ]
     },
     "execution_count": 6,
     "metadata": {},
     "output_type": "execute_result"
    }
   ],
   "source": [
    "btls.working_dir"
   ]
  },
  {
   "cell_type": "code",
   "execution_count": 2,
   "metadata": {},
   "outputs": [
    {
     "data": {
      "text/plain": [
       "<PyBTLS.py_module.traffic.PyBtlsTraffic.BtlsTraffic at 0x7f53e1d8f4c0>"
      ]
     },
     "execution_count": 2,
     "metadata": {},
     "output_type": "execute_result"
    }
   ],
   "source": [
    "Auxerre"
   ]
  },
  {
   "cell_type": "code",
   "execution_count": null,
   "metadata": {},
   "outputs": [],
   "source": []
  }
 ],
 "metadata": {
  "kernelspec": {
   "display_name": "Python 3.10.4 ('btls')",
   "language": "python",
   "name": "python3"
  },
  "language_info": {
   "codemirror_mode": {
    "name": "ipython",
    "version": 3
   },
   "file_extension": ".py",
   "mimetype": "text/x-python",
   "name": "python",
   "nbconvert_exporter": "python",
   "pygments_lexer": "ipython3",
   "version": "3.10.4"
  },
  "orig_nbformat": 4,
  "vscode": {
   "interpreter": {
    "hash": "f55ee12770d7aa2138c7bab8a4167708a28726921af6099678c931d5eea76bef"
   }
  }
 },
 "nbformat": 4,
 "nbformat_minor": 2
}
