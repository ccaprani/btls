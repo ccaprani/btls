{
 "cells": [
  {
   "cell_type": "markdown",
   "metadata": {},
   "source": [
    "# Simulation with traffic generation.\n",
    "\n",
    "This demo is for the case of extrapolating the maximum effect caused by a regional traffic flow. \n",
    "\n",
    "The bridge: \n",
    "\n",
    "- Has four 3.5m-width lanes. \n",
    "- Has a length of 20m.\n",
    "- Has a width of 16m.\n",
    "- Has one load effect being considered. \n",
    "\n",
    "The traffic flow: \n",
    "\n",
    "- Vehicles are generated from Garage model. \n",
    "- Headways are in freeflow condition (Poisson arrival model). \n",
    "\n"
   ]
  },
  {
   "cell_type": "markdown",
   "metadata": {},
   "source": [
    "---"
   ]
  },
  {
   "cell_type": "markdown",
   "metadata": {},
   "source": [
    "The part that has already been introduced in the single_vehicle demo. \n",
    "\n",
    "But this time we change to define a 4-lane bridge. "
   ]
  },
  {
   "cell_type": "code",
   "execution_count": 1,
   "metadata": {},
   "outputs": [],
   "source": [
    "import pybtls as pb\n",
    "from pathlib import Path\n",
    "\n",
    "\n",
    "# set the load effect by using a 2D influence surface\n",
    "lanes_position = [(0.5, 4.0), (4.0, 7.5), (8.5, 12.0), (12.0, 15.5)]\n",
    "IS_matrix = [\n",
    "    [0.0, 0.0, 4.0, 8.0, 12.0, 16.0],\n",
    "    [0.0, 0.0, 0.0, 0.0, 0.0, 0.0],\n",
    "    [10.0, 0.0, 2.5, 5.0, 2.5, 0.0],\n",
    "    [20.0, 0.0, 0.0, 0.0, 0.0, 0.0],\n",
    "]\n",
    "load_effect = pb.InfluenceSurface()\n",
    "load_effect.set_IS(IS_matrix, lanes_position)\n",
    "\n",
    "# set the bridge\n",
    "bridge = pb.Bridge(length=20.0, no_lane=4)\n",
    "bridge.add_load_effect(inf_line_surf=load_effect, threshold=0.0)\n",
    "bridge.add_load_effect(\n",
    "    inf_line_surf=load_effect, threshold=1000.0\n",
    ")  # We add the same load effect again, but this time with a threshold of 1000.0 for the later POT analysis"
   ]
  },
  {
   "cell_type": "markdown",
   "metadata": {},
   "source": [
    "Set lane flow compositions (here we just use the same flow for all lanes). \n",
    "\n",
    "For the lane_dir, 1 means from left to right and 2 means from right to left, \n",
    "based on the same coordinate system as the influence surface. "
   ]
  },
  {
   "cell_type": "code",
   "execution_count": 2,
   "metadata": {},
   "outputs": [],
   "source": [
    "lfc_lane1 = pb.LaneFlowComposition(lane_index=1, lane_dir=1)\n",
    "lfc_lane1.assign_lane_data(\n",
    "    hourly_truck_flow=[100] * 24,\n",
    "    hourly_car_flow=[0] * 24,\n",
    "    hourly_speed_mean=[80 / 3.6 * 10] * 24,\n",
    "    hourly_speed_std=[10.0] * 24,\n",
    ")\n",
    "\n",
    "lfc_lane2 = pb.LaneFlowComposition(lane_index=2, lane_dir=1)\n",
    "lfc_lane2.assign_lane_data(\n",
    "    hourly_truck_flow=[100] * 24,\n",
    "    hourly_car_flow=[0] * 24,\n",
    "    hourly_speed_mean=[80 / 3.6 * 10] * 24,\n",
    "    hourly_speed_std=[10.0] * 24,\n",
    ")\n",
    "\n",
    "lfc_lane3 = pb.LaneFlowComposition(lane_index=3, lane_dir=2)\n",
    "lfc_lane3.assign_lane_data(\n",
    "    hourly_truck_flow=[100] * 24,\n",
    "    hourly_car_flow=[0] * 24,\n",
    "    hourly_speed_mean=[80 / 3.6 * 10] * 24,\n",
    "    hourly_speed_std=[10.0] * 24,\n",
    ")\n",
    "\n",
    "lfc_lane4 = pb.LaneFlowComposition(lane_index=4, lane_dir=2)\n",
    "lfc_lane4.assign_lane_data(\n",
    "    hourly_truck_flow=[100] * 24,\n",
    "    hourly_car_flow=[0] * 24,\n",
    "    hourly_speed_mean=[80 / 3.6 * 10] * 24,\n",
    "    hourly_speed_std=[10.0] * 24,\n",
    ")"
   ]
  },
  {
   "cell_type": "markdown",
   "metadata": {},
   "source": [
    "Set vehicle generator. Here we use the garage one.\n"
   ]
  },
  {
   "cell_type": "code",
   "execution_count": 3,
   "metadata": {},
   "outputs": [],
   "source": [
    "# The kernel is to ensure variation between the generated vehicles and garages.\n",
    "kernel = [[1.0, 0.08], [1.0, 0.05], [1.0, 0.02]]\n",
    "\n",
    "vehicle_gen = pb.VehicleGenGarage(\n",
    "    garage=Path(\".\") / \"garage.txt\", kernel=kernel, garage_format=4\n",
    ")"
   ]
  },
  {
   "cell_type": "markdown",
   "metadata": {},
   "source": [
    "Choose headway generator with the freeflow one."
   ]
  },
  {
   "cell_type": "code",
   "execution_count": 4,
   "metadata": {},
   "outputs": [],
   "source": [
    "# set headway generator\n",
    "headway_gen = pb.HeadwayGenFreeflow()"
   ]
  },
  {
   "cell_type": "markdown",
   "metadata": {},
   "source": [
    "Assemble the vehicle generator and the headway generator with the lfc information to get a traffic generator."
   ]
  },
  {
   "cell_type": "code",
   "execution_count": 5,
   "metadata": {},
   "outputs": [],
   "source": [
    "traffic_gen = pb.TrafficGenerator(no_lane=4)\n",
    "traffic_gen.add_lane(vehicle_gen=vehicle_gen, headway_gen=headway_gen, lfc=lfc_lane1)\n",
    "traffic_gen.add_lane(vehicle_gen=vehicle_gen, headway_gen=headway_gen, lfc=lfc_lane2)\n",
    "traffic_gen.add_lane(vehicle_gen=vehicle_gen, headway_gen=headway_gen, lfc=lfc_lane3)\n",
    "traffic_gen.add_lane(vehicle_gen=vehicle_gen, headway_gen=headway_gen, lfc=lfc_lane4)\n",
    "# traffic_gen.set_start_time(0.0)  # optional, the default start_time is 0.0 unless you want to change it."
   ]
  },
  {
   "cell_type": "markdown",
   "metadata": {},
   "source": [
    "Set output, which will be written to HDD. \n",
    "\n",
    "To do the extrapolation, we need the block-max and peak-over-threshold output. "
   ]
  },
  {
   "cell_type": "code",
   "execution_count": 6,
   "metadata": {},
   "outputs": [],
   "source": [
    "output_config = pb.OutputConfig()\n",
    "output_config.set_event_output(write_time_history=True, write_each_event=True)\n",
    "output_config.set_BM_output(write_vehicle=True, write_summary=True, write_mixed=True)\n",
    "output_config.set_POT_output(write_vehicle=True, write_summary=True, write_counter=True)\n",
    "output_config.set_fatigue_output(\n",
    "    write_rainflow_output=True, rainflow_decimal=0, rainflow_cut_off=100.0\n",
    ")"
   ]
  },
  {
   "cell_type": "markdown",
   "metadata": {},
   "source": [
    "Set the simulation and run. "
   ]
  },
  {
   "cell_type": "code",
   "execution_count": 7,
   "metadata": {},
   "outputs": [
    {
     "name": "stdout",
     "output_type": "stream",
     "text": [
      "\n",
      "Bridge 20 m: Flushing AllEvents buffer: 10000 events at 7/1/0 18:19:26\t\n",
      "Bridge 20 m: Flushing AllEvents buffer: 10000 events at 14/1/0 12:52:9\t\n",
      "Bridge 20 m: Flushing AllEvents buffer: 10000 events at 21/1/0 3:23:48\t\n",
      "Bridge 20 m: Flushing AllEvents buffer: 10000 events at 2/2/0 21:13:43\t\n",
      "Bridge 20 m: Flushing AllEvents buffer: 10000 events at 9/2/0 13:39:1\t\n",
      "Bridge 20 m: Flushing AllEvents buffer: 10000 events at 16/2/0 6:27:29\t\n",
      "Bridge 20 m: Flushing AllEvents buffer: 10000 events at 22/2/0 19:17:1\t\n",
      "Bridge 20 m: Flushing AllEvents buffer: 10000 events at 4/3/0 11:17:34\t\n",
      "Bridge 20 m: Flushing AllEvents buffer: 10000 events at 11/3/0 1:15:4\t\n",
      "Bridge 20 m: Flushing AllEvents buffer: 10000 events at 17/3/0 18:17:23\t\n",
      "Bridge 20 m: Flushing AllEvents buffer: 10000 events at 24/3/0 8:4:23\t\n",
      "Bridge 20 m: Flushing AllEvents buffer: 10000 events at 6/4/0 1:46:42\t\n",
      "Bridge 20 m: Flushing AllEvents buffer: 10000 events at 12/4/0 17:3:15\t\n",
      "Bridge 20 m: Flushing AllEvents buffer: 10000 events at 19/4/0 9:27:12\t\n",
      "Bridge 20 m: Flushing AllEvents buffer: 10000 events at 1/5/0 0:14:25\t\n",
      "Bridge 20 m: Flushing AllEvents buffer: 10000 events at 7/5/0 17:1:46\t\n",
      "Bridge 20 m: Flushing AllEvents buffer: 10000 events at 14/5/0 7:14:56\t\n",
      "Bridge 20 m: Flushing AllEvents buffer: 10000 events at 21/5/0 4:4:6\t\n",
      "Bridge 20 m: Flushing AllEvents buffer: 10000 events at 2/6/0 20:42:32\t\n",
      "Bridge 20 m: Flushing AllEvents buffer: 10000 events at 9/6/0 12:8:18\t\n",
      "Bridge 20 m: Flushing AllEvents buffer: 10000 events at 16/6/0 5:48:24\t\n",
      "Bridge 20 m: Flushing AllEvents buffer: 10000 events at 22/6/0 18:44:17\t\n",
      "Bridge 20 m: Flushing AllEvents buffer: 10000 events at 4/7/0 11:5:46\t\n",
      "Bridge 20 m: Flushing AllEvents buffer: 10000 events at 11/7/0 3:22:3\t\n",
      "Bridge 20 m: Flushing AllEvents buffer: 10000 events at 17/7/0 17:5:5\t\n",
      "Bridge 20 m: Flushing AllEvents buffer: 10000 events at 24/7/0 7:58:16\t\n",
      "Bridge 20 m: Flushing AllEvents buffer: 10000 events at 5/8/0 23:54:20\t\n",
      "Bridge 20 m: Flushing AllEvents buffer: 10000 events at 12/8/0 16:4:52\t\n",
      "Bridge 20 m: Flushing AllEvents buffer: 10000 events at 19/8/0 7:54:15\t\n",
      "Bridge 20 m: Flushing AllEvents buffer: 10000 events at 1/9/0 0:23:34\t\n",
      "Bridge 20 m: Flushing AllEvents buffer: 10000 events at 7/9/0 14:52:2\t\n",
      "Bridge 20 m: Flushing AllEvents buffer: 10000 events at 14/9/0 5:4:30\t\n",
      "Bridge 20 m: Flushing AllEvents buffer: 10000 events at 20/9/0 22:4:35\t\n",
      "Bridge 20 m: Flushing AllEvents buffer: 10000 events at 2/10/0 15:24:3\t\n",
      "Bridge 20 m: Flushing AllEvents buffer: 10000 events at 9/10/0 4:4:29\t\n",
      "Bridge 20 m: Flushing AllEvents buffer: 10000 events at 15/10/0 18:46:59\t\n",
      "Bridge 20 m: Flushing AllEvents buffer: 10000 events at 22/10/0 13:41:0\t\n",
      "Bridge 20 m: Flushing AllEvents buffer: 5146 events at 25/10/0 23:58:49\t"
     ]
    }
   ],
   "source": [
    "sim_task = pb.Simulation(Path(\".\") / \"temp\")\n",
    "sim_task.add_sim(\n",
    "    bridge=bridge,\n",
    "    traffic=traffic_gen,\n",
    "    no_day=250,  # 1-year working days\n",
    "    output_config=output_config,\n",
    "    time_step=0.1,\n",
    "    min_gvw=35,  # Ignore vehicles with GVW less than 35 kN.\n",
    "    # active_lane=[1,2,3,4],  # optional, if not set, all lanes will be active.\n",
    "    # track_progress=False,  # optional, if True, the progress print will show up.\n",
    "    tag=\"Case2\",\n",
    ")\n",
    "\n",
    "# run simulation\n",
    "sim_task.run(no_core=1)"
   ]
  },
  {
   "cell_type": "markdown",
   "metadata": {},
   "source": [
    "Check what are the outputs."
   ]
  },
  {
   "cell_type": "code",
   "execution_count": 8,
   "metadata": {},
   "outputs": [
    {
     "name": "stdout",
     "output_type": "stream",
     "text": [
      "dict_keys(['Case2'])\n"
     ]
    }
   ],
   "source": [
    "sim_output = sim_task.get_output()\n",
    "print(sim_output.keys())"
   ]
  },
  {
   "cell_type": "markdown",
   "metadata": {},
   "source": [
    "Use two simple loops to display all the read-in outputs. \n",
    "\n",
    "The data are stored as pandas.DataFrame."
   ]
  },
  {
   "cell_type": "code",
   "execution_count": 9,
   "metadata": {},
   "outputs": [
    {
     "name": "stdout",
     "output_type": "stream",
     "text": [
      "time_history\n",
      "TH_20\n"
     ]
    },
    {
     "data": {
      "application/vnd.microsoft.datawrangler.viewer.v0+json": {
       "columns": [
        {
         "name": "index",
         "rawType": "int64",
         "type": "integer"
        },
        {
         "name": "Time (s)",
         "rawType": "float64",
         "type": "float"
        },
        {
         "name": "No. Trucks",
         "rawType": "int64",
         "type": "integer"
        },
        {
         "name": "Effect 1",
         "rawType": "float64",
         "type": "float"
        },
        {
         "name": "Effect 2",
         "rawType": "float64",
         "type": "float"
        }
       ],
       "ref": "dc2ab1bf-2500-4a9a-adb3-a621fc30804a",
       "rows": [
        [
         "0",
         "42.584",
         "1",
         "0.0",
         "0.0"
        ],
        [
         "1",
         "42.684",
         "1",
         "12.384",
         "12.384"
        ],
        [
         "2",
         "42.784",
         "1",
         "30.136",
         "30.136"
        ],
        [
         "3",
         "42.884",
         "1",
         "58.898",
         "58.898"
        ],
        [
         "4",
         "42.984",
         "1",
         "87.66",
         "87.66"
        ],
        [
         "5",
         "43.084",
         "1",
         "106.719",
         "106.719"
        ],
        [
         "6",
         "43.184",
         "1",
         "110.713",
         "110.713"
        ],
        [
         "7",
         "43.284",
         "1",
         "91.137",
         "91.137"
        ],
        [
         "8",
         "43.384",
         "1",
         "62.375",
         "62.375"
        ],
        [
         "9",
         "43.484",
         "1",
         "33.613",
         "33.613"
        ],
        [
         "10",
         "43.584",
         "1",
         "14.554",
         "14.554"
        ],
        [
         "11",
         "158.317",
         "1",
         "0.0",
         "0.0"
        ],
        [
         "12",
         "158.417",
         "1",
         "12.408",
         "12.408"
        ],
        [
         "13",
         "158.517",
         "1",
         "24.817",
         "24.817"
        ],
        [
         "14",
         "158.617",
         "1",
         "45.898",
         "45.898"
        ],
        [
         "15",
         "158.717",
         "1",
         "83.755",
         "83.755"
        ],
        [
         "16",
         "158.817",
         "1",
         "112.192",
         "112.192"
        ],
        [
         "17",
         "158.917",
         "1",
         "125.232",
         "125.232"
        ],
        [
         "18",
         "159.017",
         "1",
         "138.272",
         "138.272"
        ],
        [
         "19",
         "159.117",
         "1",
         "114.647",
         "114.647"
        ],
        [
         "20",
         "159.217",
         "1",
         "76.79",
         "76.79"
        ],
        [
         "21",
         "159.317",
         "1",
         "48.353",
         "48.353"
        ],
        [
         "22",
         "159.417",
         "1",
         "22.905",
         "22.905"
        ],
        [
         "23",
         "316.663",
         "1",
         "0.0",
         "0.0"
        ],
        [
         "24",
         "316.763",
         "1",
         "5.106",
         "5.106"
        ],
        [
         "25",
         "316.863",
         "1",
         "12.361",
         "12.361"
        ],
        [
         "26",
         "316.963",
         "1",
         "24.051",
         "24.051"
        ],
        [
         "27",
         "317.063",
         "1",
         "35.742",
         "35.742"
        ],
        [
         "28",
         "317.163",
         "1",
         "43.31",
         "43.31"
        ],
        [
         "29",
         "317.263",
         "1",
         "44.788",
         "44.788"
        ],
        [
         "30",
         "317.363",
         "1",
         "36.654",
         "36.654"
        ],
        [
         "31",
         "317.463",
         "1",
         "24.964",
         "24.964"
        ],
        [
         "32",
         "317.563",
         "1",
         "13.274",
         "13.274"
        ],
        [
         "33",
         "317.663",
         "1",
         "5.705",
         "5.705"
        ],
        [
         "34",
         "345.951",
         "1",
         "0.0",
         "0.0"
        ],
        [
         "35",
         "346.051",
         "1",
         "31.434",
         "31.434"
        ],
        [
         "36",
         "346.151",
         "1",
         "67.196",
         "67.196"
        ],
        [
         "37",
         "346.251",
         "1",
         "131.53",
         "131.53"
        ],
        [
         "38",
         "346.351",
         "1",
         "204.906",
         "204.906"
        ],
        [
         "39",
         "346.451",
         "1",
         "267.215",
         "267.215"
        ],
        [
         "40",
         "346.551",
         "1",
         "288.014",
         "288.014"
        ],
        [
         "41",
         "346.651",
         "1",
         "318.2",
         "318.2"
        ],
        [
         "42",
         "346.751",
         "1",
         "298.542",
         "298.542"
        ],
        [
         "43",
         "346.851",
         "1",
         "268.542",
         "268.542"
        ],
        [
         "44",
         "346.951",
         "1",
         "249.609",
         "249.609"
        ],
        [
         "45",
         "347.051",
         "1",
         "220.607",
         "220.607"
        ],
        [
         "46",
         "347.151",
         "1",
         "157.259",
         "157.259"
        ],
        [
         "47",
         "347.251",
         "1",
         "112.583",
         "112.583"
        ],
        [
         "48",
         "347.351",
         "1",
         "69.207",
         "69.207"
        ],
        [
         "49",
         "347.434",
         "1",
         "33.474",
         "33.474"
        ]
       ],
       "shape": {
        "columns": 4,
        "rows": 4702999
       }
      },
      "text/html": [
       "<div>\n",
       "<style scoped>\n",
       "    .dataframe tbody tr th:only-of-type {\n",
       "        vertical-align: middle;\n",
       "    }\n",
       "\n",
       "    .dataframe tbody tr th {\n",
       "        vertical-align: top;\n",
       "    }\n",
       "\n",
       "    .dataframe thead th {\n",
       "        text-align: right;\n",
       "    }\n",
       "</style>\n",
       "<table border=\"1\" class=\"dataframe\">\n",
       "  <thead>\n",
       "    <tr style=\"text-align: right;\">\n",
       "      <th></th>\n",
       "      <th>Time (s)</th>\n",
       "      <th>No. Trucks</th>\n",
       "      <th>Effect 1</th>\n",
       "      <th>Effect 2</th>\n",
       "    </tr>\n",
       "  </thead>\n",
       "  <tbody>\n",
       "    <tr>\n",
       "      <th>0</th>\n",
       "      <td>4.258400e+01</td>\n",
       "      <td>1</td>\n",
       "      <td>0.000</td>\n",
       "      <td>0.000</td>\n",
       "    </tr>\n",
       "    <tr>\n",
       "      <th>1</th>\n",
       "      <td>4.268400e+01</td>\n",
       "      <td>1</td>\n",
       "      <td>12.384</td>\n",
       "      <td>12.384</td>\n",
       "    </tr>\n",
       "    <tr>\n",
       "      <th>2</th>\n",
       "      <td>4.278400e+01</td>\n",
       "      <td>1</td>\n",
       "      <td>30.136</td>\n",
       "      <td>30.136</td>\n",
       "    </tr>\n",
       "    <tr>\n",
       "      <th>3</th>\n",
       "      <td>4.288400e+01</td>\n",
       "      <td>1</td>\n",
       "      <td>58.898</td>\n",
       "      <td>58.898</td>\n",
       "    </tr>\n",
       "    <tr>\n",
       "      <th>4</th>\n",
       "      <td>4.298400e+01</td>\n",
       "      <td>1</td>\n",
       "      <td>87.660</td>\n",
       "      <td>87.660</td>\n",
       "    </tr>\n",
       "    <tr>\n",
       "      <th>...</th>\n",
       "      <td>...</td>\n",
       "      <td>...</td>\n",
       "      <td>...</td>\n",
       "      <td>...</td>\n",
       "    </tr>\n",
       "    <tr>\n",
       "      <th>4702994</th>\n",
       "      <td>2.159993e+07</td>\n",
       "      <td>1</td>\n",
       "      <td>66.352</td>\n",
       "      <td>66.352</td>\n",
       "    </tr>\n",
       "    <tr>\n",
       "      <th>4702995</th>\n",
       "      <td>2.159993e+07</td>\n",
       "      <td>1</td>\n",
       "      <td>45.311</td>\n",
       "      <td>45.311</td>\n",
       "    </tr>\n",
       "    <tr>\n",
       "      <th>4702996</th>\n",
       "      <td>2.159993e+07</td>\n",
       "      <td>1</td>\n",
       "      <td>29.782</td>\n",
       "      <td>29.782</td>\n",
       "    </tr>\n",
       "    <tr>\n",
       "      <th>4702997</th>\n",
       "      <td>2.159993e+07</td>\n",
       "      <td>1</td>\n",
       "      <td>14.254</td>\n",
       "      <td>14.254</td>\n",
       "    </tr>\n",
       "    <tr>\n",
       "      <th>4702998</th>\n",
       "      <td>2.159993e+07</td>\n",
       "      <td>1</td>\n",
       "      <td>2.109</td>\n",
       "      <td>2.109</td>\n",
       "    </tr>\n",
       "  </tbody>\n",
       "</table>\n",
       "<p>4702999 rows × 4 columns</p>\n",
       "</div>"
      ],
      "text/plain": [
       "             Time (s)  No. Trucks  Effect 1  Effect 2\n",
       "0        4.258400e+01           1     0.000     0.000\n",
       "1        4.268400e+01           1    12.384    12.384\n",
       "2        4.278400e+01           1    30.136    30.136\n",
       "3        4.288400e+01           1    58.898    58.898\n",
       "4        4.298400e+01           1    87.660    87.660\n",
       "...               ...         ...       ...       ...\n",
       "4702994  2.159993e+07           1    66.352    66.352\n",
       "4702995  2.159993e+07           1    45.311    45.311\n",
       "4702996  2.159993e+07           1    29.782    29.782\n",
       "4702997  2.159993e+07           1    14.254    14.254\n",
       "4702998  2.159993e+07           1     2.109     2.109\n",
       "\n",
       "[4702999 rows x 4 columns]"
      ]
     },
     "metadata": {},
     "output_type": "display_data"
    },
    {
     "name": "stdout",
     "output_type": "stream",
     "text": [
      "all_events\n",
      "BL_20_AllEvents\n"
     ]
    },
    {
     "data": {
      "application/vnd.microsoft.datawrangler.viewer.v0+json": {
       "columns": [
        {
         "name": "index",
         "rawType": "int64",
         "type": "integer"
        },
        {
         "name": "Time (s)",
         "rawType": "float64",
         "type": "float"
        },
        {
         "name": "No. Trucks",
         "rawType": "int64",
         "type": "integer"
        },
        {
         "name": "Effect 1",
         "rawType": "float64",
         "type": "float"
        },
        {
         "name": "Effect 2",
         "rawType": "float64",
         "type": "float"
        }
       ],
       "ref": "a41958ec-bb80-474e-8894-1d6381edd8d2",
       "rows": [
        [
         "0",
         "42.5836",
         "1",
         "110.713",
         "110.713"
        ],
        [
         "1",
         "158.317",
         "1",
         "138.272",
         "138.272"
        ],
        [
         "2",
         "316.663",
         "1",
         "44.7878",
         "44.7878"
        ],
        [
         "3",
         "345.951",
         "1",
         "318.2",
         "318.2"
        ],
        [
         "4",
         "347.434",
         "1",
         "33.4742",
         "33.4742"
        ],
        [
         "5",
         "455.527",
         "1",
         "285.758",
         "285.758"
        ],
        [
         "6",
         "478.33",
         "1",
         "340.816",
         "340.816"
        ],
        [
         "7",
         "479.721",
         "1",
         "61.4457",
         "61.4457"
        ],
        [
         "8",
         "484.51",
         "1",
         "51.1148",
         "51.1148"
        ],
        [
         "9",
         "545.983",
         "1",
         "386.648",
         "386.648"
        ],
        [
         "10",
         "611.673",
         "1",
         "91.2592",
         "91.2592"
        ],
        [
         "11",
         "671.899",
         "1",
         "262.87",
         "262.87"
        ],
        [
         "12",
         "773.996",
         "1",
         "89.0766",
         "89.0766"
        ],
        [
         "13",
         "917.128",
         "1",
         "158.859",
         "158.859"
        ],
        [
         "14",
         "961.658",
         "1",
         "386.714",
         "386.714"
        ],
        [
         "15",
         "984.877",
         "1",
         "151.518",
         "151.518"
        ],
        [
         "16",
         "1014.93",
         "1",
         "181.644",
         "181.644"
        ],
        [
         "17",
         "1098.7",
         "1",
         "835.656",
         "835.656"
        ],
        [
         "18",
         "1187.62",
         "1",
         "123.309",
         "123.309"
        ],
        [
         "19",
         "1240.51",
         "1",
         "164.08",
         "164.08"
        ],
        [
         "20",
         "1284.77",
         "1",
         "529.571",
         "529.571"
        ],
        [
         "21",
         "1285.28",
         "1",
         "721.841",
         "721.841"
        ],
        [
         "22",
         "1296.3",
         "1",
         "49.7465",
         "49.7465"
        ],
        [
         "23",
         "1305.67",
         "1",
         "127.005",
         "127.005"
        ],
        [
         "24",
         "1337.25",
         "1",
         "135.207",
         "135.207"
        ],
        [
         "25",
         "1524.03",
         "1",
         "119.508",
         "119.508"
        ],
        [
         "26",
         "1525.09",
         "1",
         "145.893",
         "145.893"
        ],
        [
         "27",
         "1529.7",
         "1",
         "49.0847",
         "49.0847"
        ],
        [
         "28",
         "1592.49",
         "1",
         "130.722",
         "130.722"
        ],
        [
         "29",
         "1605.69",
         "1",
         "155.31",
         "155.31"
        ],
        [
         "30",
         "1607.26",
         "1",
         "44.5159",
         "44.5159"
        ],
        [
         "31",
         "1719.54",
         "1",
         "188.18",
         "188.18"
        ],
        [
         "32",
         "1723.61",
         "1",
         "405.883",
         "405.883"
        ],
        [
         "33",
         "1740.22",
         "1",
         "556.012",
         "556.012"
        ],
        [
         "34",
         "1788.86",
         "1",
         "436.821",
         "436.821"
        ],
        [
         "35",
         "1792.61",
         "1",
         "355.91",
         "355.91"
        ],
        [
         "36",
         "1802.16",
         "1",
         "444.796",
         "444.796"
        ],
        [
         "37",
         "1810.33",
         "1",
         "91.7676",
         "91.7676"
        ],
        [
         "38",
         "1841.45",
         "1",
         "93.1277",
         "93.1277"
        ],
        [
         "39",
         "1932.89",
         "1",
         "153.826",
         "153.826"
        ],
        [
         "40",
         "1997.17",
         "1",
         "111.056",
         "111.056"
        ],
        [
         "41",
         "2043.3",
         "1",
         "147.573",
         "147.573"
        ],
        [
         "42",
         "2064.16",
         "1",
         "117.604",
         "117.604"
        ],
        [
         "43",
         "2118.11",
         "1",
         "247.094",
         "247.094"
        ],
        [
         "44",
         "2246.3",
         "1",
         "124.556",
         "124.556"
        ],
        [
         "45",
         "2285.93",
         "1",
         "300.803",
         "300.803"
        ],
        [
         "46",
         "2345.3",
         "1",
         "65.2574",
         "65.2574"
        ],
        [
         "47",
         "2411.0",
         "1",
         "77.9699",
         "77.9699"
        ],
        [
         "48",
         "2464.2",
         "1",
         "123.148",
         "123.148"
        ],
        [
         "49",
         "2467.64",
         "1",
         "108.099",
         "108.099"
        ]
       ],
       "shape": {
        "columns": 4,
        "rows": 375146
       }
      },
      "text/html": [
       "<div>\n",
       "<style scoped>\n",
       "    .dataframe tbody tr th:only-of-type {\n",
       "        vertical-align: middle;\n",
       "    }\n",
       "\n",
       "    .dataframe tbody tr th {\n",
       "        vertical-align: top;\n",
       "    }\n",
       "\n",
       "    .dataframe thead th {\n",
       "        text-align: right;\n",
       "    }\n",
       "</style>\n",
       "<table border=\"1\" class=\"dataframe\">\n",
       "  <thead>\n",
       "    <tr style=\"text-align: right;\">\n",
       "      <th></th>\n",
       "      <th>Time (s)</th>\n",
       "      <th>No. Trucks</th>\n",
       "      <th>Effect 1</th>\n",
       "      <th>Effect 2</th>\n",
       "    </tr>\n",
       "  </thead>\n",
       "  <tbody>\n",
       "    <tr>\n",
       "      <th>0</th>\n",
       "      <td>4.258360e+01</td>\n",
       "      <td>1</td>\n",
       "      <td>110.7130</td>\n",
       "      <td>110.7130</td>\n",
       "    </tr>\n",
       "    <tr>\n",
       "      <th>1</th>\n",
       "      <td>1.583170e+02</td>\n",
       "      <td>1</td>\n",
       "      <td>138.2720</td>\n",
       "      <td>138.2720</td>\n",
       "    </tr>\n",
       "    <tr>\n",
       "      <th>2</th>\n",
       "      <td>3.166630e+02</td>\n",
       "      <td>1</td>\n",
       "      <td>44.7878</td>\n",
       "      <td>44.7878</td>\n",
       "    </tr>\n",
       "    <tr>\n",
       "      <th>3</th>\n",
       "      <td>3.459510e+02</td>\n",
       "      <td>1</td>\n",
       "      <td>318.2000</td>\n",
       "      <td>318.2000</td>\n",
       "    </tr>\n",
       "    <tr>\n",
       "      <th>4</th>\n",
       "      <td>3.474340e+02</td>\n",
       "      <td>1</td>\n",
       "      <td>33.4742</td>\n",
       "      <td>33.4742</td>\n",
       "    </tr>\n",
       "    <tr>\n",
       "      <th>...</th>\n",
       "      <td>...</td>\n",
       "      <td>...</td>\n",
       "      <td>...</td>\n",
       "      <td>...</td>\n",
       "    </tr>\n",
       "    <tr>\n",
       "      <th>375141</th>\n",
       "      <td>2.159990e+07</td>\n",
       "      <td>1</td>\n",
       "      <td>813.5680</td>\n",
       "      <td>813.5680</td>\n",
       "    </tr>\n",
       "    <tr>\n",
       "      <th>375142</th>\n",
       "      <td>2.159990e+07</td>\n",
       "      <td>1</td>\n",
       "      <td>847.5070</td>\n",
       "      <td>847.5070</td>\n",
       "    </tr>\n",
       "    <tr>\n",
       "      <th>375143</th>\n",
       "      <td>2.159990e+07</td>\n",
       "      <td>1</td>\n",
       "      <td>137.7530</td>\n",
       "      <td>137.7530</td>\n",
       "    </tr>\n",
       "    <tr>\n",
       "      <th>375144</th>\n",
       "      <td>2.159990e+07</td>\n",
       "      <td>1</td>\n",
       "      <td>18.6105</td>\n",
       "      <td>18.6105</td>\n",
       "    </tr>\n",
       "    <tr>\n",
       "      <th>375145</th>\n",
       "      <td>2.159990e+07</td>\n",
       "      <td>1</td>\n",
       "      <td>134.1990</td>\n",
       "      <td>134.1990</td>\n",
       "    </tr>\n",
       "  </tbody>\n",
       "</table>\n",
       "<p>375146 rows × 4 columns</p>\n",
       "</div>"
      ],
      "text/plain": [
       "            Time (s)  No. Trucks  Effect 1  Effect 2\n",
       "0       4.258360e+01           1  110.7130  110.7130\n",
       "1       1.583170e+02           1  138.2720  138.2720\n",
       "2       3.166630e+02           1   44.7878   44.7878\n",
       "3       3.459510e+02           1  318.2000  318.2000\n",
       "4       3.474340e+02           1   33.4742   33.4742\n",
       "...              ...         ...       ...       ...\n",
       "375141  2.159990e+07           1  813.5680  813.5680\n",
       "375142  2.159990e+07           1  847.5070  847.5070\n",
       "375143  2.159990e+07           1  137.7530  137.7530\n",
       "375144  2.159990e+07           1   18.6105   18.6105\n",
       "375145  2.159990e+07           1  134.1990  134.1990\n",
       "\n",
       "[375146 rows x 4 columns]"
      ]
     },
     "metadata": {},
     "output_type": "display_data"
    },
    {
     "name": "stdout",
     "output_type": "stream",
     "text": [
      "BM_by_no_trucks\n",
      "BM_V_20_3\n"
     ]
    },
    {
     "data": {
      "application/vnd.microsoft.datawrangler.viewer.v0+json": {
       "columns": [
        {
         "name": "index",
         "rawType": "int64",
         "type": "integer"
        },
        {
         "name": "Index",
         "rawType": "int64",
         "type": "integer"
        },
        {
         "name": "Effect",
         "rawType": "int64",
         "type": "integer"
        },
        {
         "name": "Value",
         "rawType": "float64",
         "type": "float"
        },
        {
         "name": "Time",
         "rawType": "float64",
         "type": "float"
        },
        {
         "name": "Position on Bridge",
         "rawType": "float64",
         "type": "float"
        },
        {
         "name": "No. Trucks",
         "rawType": "int64",
         "type": "integer"
        },
        {
         "name": "Trucks",
         "rawType": "object",
         "type": "unknown"
        }
       ],
       "ref": "a45ddad3-14f4-49c3-b812-395d9606d199",
       "rows": [
        [
         "0",
         "5",
         "1",
         "1011.6",
         "403996.0",
         "8.93",
         "3",
         "[<pybtls.lib.libbtls.Vehicle object at 0x7bfefb75e530>, <pybtls.lib.libbtls.Vehicle object at 0x7bff4e8c28b0>, <pybtls.lib.libbtls.Vehicle object at 0x7bfefb75d930>]"
        ],
        [
         "1",
         "5",
         "2",
         "1011.6",
         "403996.0",
         "8.93",
         "3",
         "[<pybtls.lib.libbtls.Vehicle object at 0x7bfefb75e130>, <pybtls.lib.libbtls.Vehicle object at 0x7bff4e8c2070>, <pybtls.lib.libbtls.Vehicle object at 0x7bff5d4ecc30>]"
        ],
        [
         "2",
         "10",
         "1",
         "294.8",
         "793455.0",
         "9.27",
         "3",
         "[<pybtls.lib.libbtls.Vehicle object at 0x7bfefb75c7b0>, <pybtls.lib.libbtls.Vehicle object at 0x7bff4e8c1a70>, <pybtls.lib.libbtls.Vehicle object at 0x7bfefb75c6f0>]"
        ],
        [
         "3",
         "10",
         "2",
         "294.8",
         "793455.0",
         "9.27",
         "3",
         "[<pybtls.lib.libbtls.Vehicle object at 0x7bff534c9af0>, <pybtls.lib.libbtls.Vehicle object at 0x7bff4e8c0eb0>, <pybtls.lib.libbtls.Vehicle object at 0x7bff534cb6b0>]"
        ],
        [
         "4",
         "13",
         "1",
         "549.8",
         "1082703.2",
         "-5.42",
         "3",
         "[<pybtls.lib.libbtls.Vehicle object at 0x7bff531560b0>, <pybtls.lib.libbtls.Vehicle object at 0x7bff4e8c35b0>, <pybtls.lib.libbtls.Vehicle object at 0x7bff53156df0>]"
        ],
        [
         "5",
         "13",
         "2",
         "549.8",
         "1082703.2",
         "-5.42",
         "3",
         "[<pybtls.lib.libbtls.Vehicle object at 0x7bff5688e570>, <pybtls.lib.libbtls.Vehicle object at 0x7bfefb7658b0>, <pybtls.lib.libbtls.Vehicle object at 0x7bff5688c130>]"
        ],
        [
         "6",
         "15",
         "1",
         "657.2",
         "1216062.6",
         "16.52",
         "3",
         "[<pybtls.lib.libbtls.Vehicle object at 0x7bff53155670>, <pybtls.lib.libbtls.Vehicle object at 0x7bfefb7664f0>, <pybtls.lib.libbtls.Vehicle object at 0x7bff531549f0>]"
        ],
        [
         "7",
         "15",
         "2",
         "657.2",
         "1216062.6",
         "16.52",
         "3",
         "[<pybtls.lib.libbtls.Vehicle object at 0x7bff5d559670>, <pybtls.lib.libbtls.Vehicle object at 0x7bfefb766f30>, <pybtls.lib.libbtls.Vehicle object at 0x7bff5d55a2b0>]"
        ],
        [
         "8",
         "16",
         "1",
         "741.0",
         "1340970.9",
         "30.87",
         "3",
         "[<pybtls.lib.libbtls.Vehicle object at 0x7bff5d559d70>, <pybtls.lib.libbtls.Vehicle object at 0x7bff4e8c16b0>, <pybtls.lib.libbtls.Vehicle object at 0x7bff5d5594b0>]"
        ],
        [
         "9",
         "16",
         "2",
         "741.0",
         "1340970.9",
         "30.87",
         "3",
         "[<pybtls.lib.libbtls.Vehicle object at 0x7bff5d55acf0>, <pybtls.lib.libbtls.Vehicle object at 0x7bfefb765c70>, <pybtls.lib.libbtls.Vehicle object at 0x7bff5688c970>]"
        ],
        [
         "10",
         "18",
         "1",
         "548.1",
         "1535992.7",
         "3.15",
         "3",
         "[<pybtls.lib.libbtls.Vehicle object at 0x7bff53156170>, <pybtls.lib.libbtls.Vehicle object at 0x7bff5d5656b0>, <pybtls.lib.libbtls.Vehicle object at 0x7bff5d55a470>]"
        ],
        [
         "11",
         "18",
         "2",
         "548.1",
         "1535992.7",
         "3.15",
         "3",
         "[<pybtls.lib.libbtls.Vehicle object at 0x7bff5d396c70>, <pybtls.lib.libbtls.Vehicle object at 0x7bff531571b0>, <pybtls.lib.libbtls.Vehicle object at 0x7bff5d3979b0>]"
        ],
        [
         "12",
         "19",
         "1",
         "380.5",
         "1578008.9",
         "-0.54",
         "3",
         "[<pybtls.lib.libbtls.Vehicle object at 0x7bff55633f30>, <pybtls.lib.libbtls.Vehicle object at 0x7bff53157af0>, <pybtls.lib.libbtls.Vehicle object at 0x7bff55632030>]"
        ],
        [
         "13",
         "19",
         "2",
         "380.5",
         "1578008.9",
         "-0.54",
         "3",
         "[<pybtls.lib.libbtls.Vehicle object at 0x7bff55630470>, <pybtls.lib.libbtls.Vehicle object at 0x7bff53155fb0>, <pybtls.lib.libbtls.Vehicle object at 0x7bff55630a70>]"
        ],
        [
         "14",
         "25",
         "1",
         "312.7",
         "2078360.9",
         "23.12",
         "3",
         "[<pybtls.lib.libbtls.Vehicle object at 0x7bff04c5a2b0>, <pybtls.lib.libbtls.Vehicle object at 0x7bff5d396170>, <pybtls.lib.libbtls.Vehicle object at 0x7bff04c5ab70>]"
        ],
        [
         "15",
         "25",
         "2",
         "312.7",
         "2078360.9",
         "23.12",
         "3",
         "[<pybtls.lib.libbtls.Vehicle object at 0x7bff04c598f0>, <pybtls.lib.libbtls.Vehicle object at 0x7bff5d3977f0>, <pybtls.lib.libbtls.Vehicle object at 0x7bff04c5b970>]"
        ],
        [
         "16",
         "28",
         "1",
         "386.0",
         "2415233.7",
         "-3.4",
         "3",
         "[<pybtls.lib.libbtls.Vehicle object at 0x7bff5315ce70>, <pybtls.lib.libbtls.Vehicle object at 0x7bff5d395030>, <pybtls.lib.libbtls.Vehicle object at 0x7bff04c594f0>]"
        ],
        [
         "17",
         "28",
         "2",
         "386.0",
         "2415233.7",
         "-3.4",
         "3",
         "[<pybtls.lib.libbtls.Vehicle object at 0x7bff5315f8f0>, <pybtls.lib.libbtls.Vehicle object at 0x7bff556336b0>, <pybtls.lib.libbtls.Vehicle object at 0x7bff5315cdf0>]"
        ],
        [
         "18",
         "41",
         "1",
         "324.8",
         "3494384.5",
         "24.71",
         "3",
         "[<pybtls.lib.libbtls.Vehicle object at 0x7bff53a8fab0>, <pybtls.lib.libbtls.Vehicle object at 0x7bff55630b30>, <pybtls.lib.libbtls.Vehicle object at 0x7bff53a8eff0>]"
        ],
        [
         "19",
         "41",
         "2",
         "324.8",
         "3494384.5",
         "24.71",
         "3",
         "[<pybtls.lib.libbtls.Vehicle object at 0x7bff53a8c570>, <pybtls.lib.libbtls.Vehicle object at 0x7bff04c5a6f0>, <pybtls.lib.libbtls.Vehicle object at 0x7bff53a8cab0>]"
        ],
        [
         "20",
         "42",
         "1",
         "429.2",
         "3578732.0",
         "6.11",
         "3",
         "[<pybtls.lib.libbtls.Vehicle object at 0x7bff55626a30>, <pybtls.lib.libbtls.Vehicle object at 0x7bff04c5b630>, <pybtls.lib.libbtls.Vehicle object at 0x7bff53a8c7b0>]"
        ],
        [
         "21",
         "42",
         "2",
         "429.2",
         "3578732.0",
         "6.11",
         "3",
         "[<pybtls.lib.libbtls.Vehicle object at 0x7bff55625a30>, <pybtls.lib.libbtls.Vehicle object at 0x7bff5315e370>, <pybtls.lib.libbtls.Vehicle object at 0x7bff55627830>]"
        ],
        [
         "22",
         "46",
         "1",
         "678.0",
         "3909133.7",
         "32.82",
         "3",
         "[<pybtls.lib.libbtls.Vehicle object at 0x7bff532576f0>, <pybtls.lib.libbtls.Vehicle object at 0x7bff5315f9f0>, <pybtls.lib.libbtls.Vehicle object at 0x7bff55624830>]"
        ],
        [
         "23",
         "46",
         "2",
         "678.0",
         "3909133.7",
         "32.82",
         "3",
         "[<pybtls.lib.libbtls.Vehicle object at 0x7bff532541f0>, <pybtls.lib.libbtls.Vehicle object at 0x7bff53a8dd70>, <pybtls.lib.libbtls.Vehicle object at 0x7bff53254030>]"
        ],
        [
         "24",
         "57",
         "1",
         "145.1",
         "4848724.4",
         "-8.0",
         "3",
         "[<pybtls.lib.libbtls.Vehicle object at 0x7bff5325e7b0>, <pybtls.lib.libbtls.Vehicle object at 0x7bff53a8fcb0>, <pybtls.lib.libbtls.Vehicle object at 0x7bff5325e370>]"
        ],
        [
         "25",
         "57",
         "2",
         "145.1",
         "4848724.4",
         "-8.0",
         "3",
         "[<pybtls.lib.libbtls.Vehicle object at 0x7bff5325f530>, <pybtls.lib.libbtls.Vehicle object at 0x7bff53a8d370>, <pybtls.lib.libbtls.Vehicle object at 0x7bff5325f1b0>]"
        ],
        [
         "26",
         "60",
         "1",
         "445.0",
         "5168339.4",
         "-17.66",
         "3",
         "[<pybtls.lib.libbtls.Vehicle object at 0x7bff5d413430>, <pybtls.lib.libbtls.Vehicle object at 0x7bff55624fb0>, <pybtls.lib.libbtls.Vehicle object at 0x7bff5d412db0>]"
        ],
        [
         "27",
         "60",
         "2",
         "445.0",
         "5168339.4",
         "-17.66",
         "3",
         "[<pybtls.lib.libbtls.Vehicle object at 0x7bff5d411f70>, <pybtls.lib.libbtls.Vehicle object at 0x7bff53257270>, <pybtls.lib.libbtls.Vehicle object at 0x7bff5d412870>]"
        ],
        [
         "28",
         "65",
         "1",
         "331.9",
         "5558591.5",
         "-14.83",
         "3",
         "[<pybtls.lib.libbtls.Vehicle object at 0x7bff5d411370>, <pybtls.lib.libbtls.Vehicle object at 0x7bff532567f0>, <pybtls.lib.libbtls.Vehicle object at 0x7bff5d411630>]"
        ],
        [
         "29",
         "65",
         "2",
         "331.9",
         "5558591.5",
         "-14.83",
         "3",
         "[<pybtls.lib.libbtls.Vehicle object at 0x7bff5d3e67b0>, <pybtls.lib.libbtls.Vehicle object at 0x7bff532559f0>, <pybtls.lib.libbtls.Vehicle object at 0x7bff5d410e30>]"
        ],
        [
         "30",
         "80",
         "1",
         "532.0",
         "6884708.3",
         "-10.86",
         "3",
         "[<pybtls.lib.libbtls.Vehicle object at 0x7bff5d3e7430>, <pybtls.lib.libbtls.Vehicle object at 0x7bff53254d70>, <pybtls.lib.libbtls.Vehicle object at 0x7bff5d3e74b0>]"
        ],
        [
         "31",
         "80",
         "2",
         "532.0",
         "6884708.3",
         "-10.86",
         "3",
         "[<pybtls.lib.libbtls.Vehicle object at 0x7bff5d3e4cb0>, <pybtls.lib.libbtls.Vehicle object at 0x7bff5325cff0>, <pybtls.lib.libbtls.Vehicle object at 0x7bff0703f070>]"
        ],
        [
         "32",
         "93",
         "1",
         "407.5",
         "7957012.4",
         "29.34",
         "3",
         "[<pybtls.lib.libbtls.Vehicle object at 0x7bff5d3e7e70>, <pybtls.lib.libbtls.Vehicle object at 0x7bff5325ccb0>, <pybtls.lib.libbtls.Vehicle object at 0x7bff5d3e74f0>]"
        ],
        [
         "33",
         "93",
         "2",
         "407.5",
         "7957012.4",
         "29.34",
         "3",
         "[<pybtls.lib.libbtls.Vehicle object at 0x7bff5d3a8330>, <pybtls.lib.libbtls.Vehicle object at 0x7bff5325c8b0>, <pybtls.lib.libbtls.Vehicle object at 0x7bff5d3a84f0>]"
        ],
        [
         "34",
         "95",
         "1",
         "749.5",
         "8150200.7",
         "21.16",
         "3",
         "[<pybtls.lib.libbtls.Vehicle object at 0x7bff5d3a8a70>, <pybtls.lib.libbtls.Vehicle object at 0x7bff5d4111f0>, <pybtls.lib.libbtls.Vehicle object at 0x7bff5d3e5d30>]"
        ],
        [
         "35",
         "95",
         "2",
         "749.5",
         "8150200.7",
         "21.16",
         "3",
         "[<pybtls.lib.libbtls.Vehicle object at 0x7bff5d3a95f0>, <pybtls.lib.libbtls.Vehicle object at 0x7bff5d3e61b0>, <pybtls.lib.libbtls.Vehicle object at 0x7bff5d3a8e30>]"
        ],
        [
         "36",
         "109",
         "1",
         "211.5",
         "9399793.4",
         "39.34",
         "3",
         "[<pybtls.lib.libbtls.Vehicle object at 0x7bff5d3a9f70>, <pybtls.lib.libbtls.Vehicle object at 0x7bff5d3e4470>, <pybtls.lib.libbtls.Vehicle object at 0x7bff5d3aa0f0>]"
        ],
        [
         "37",
         "109",
         "2",
         "211.5",
         "9399793.4",
         "39.34",
         "3",
         "[<pybtls.lib.libbtls.Vehicle object at 0x7bff5d3a95b0>, <pybtls.lib.libbtls.Vehicle object at 0x7bff5d3e4130>, <pybtls.lib.libbtls.Vehicle object at 0x7bff5d3a9d70>]"
        ],
        [
         "38",
         "111",
         "1",
         "197.8",
         "9546588.3",
         "31.07",
         "3",
         "[<pybtls.lib.libbtls.Vehicle object at 0x7bff5d3a9bb0>, <pybtls.lib.libbtls.Vehicle object at 0x7bff5d3a8cb0>, <pybtls.lib.libbtls.Vehicle object at 0x7bff5d3a9d30>]"
        ],
        [
         "39",
         "111",
         "2",
         "197.8",
         "9546588.3",
         "31.07",
         "3",
         "[<pybtls.lib.libbtls.Vehicle object at 0x7bff5d3a99b0>, <pybtls.lib.libbtls.Vehicle object at 0x7bff5d3aa3b0>, <pybtls.lib.libbtls.Vehicle object at 0x7bff5d3a9b70>]"
        ],
        [
         "40",
         "113",
         "1",
         "382.4",
         "9739845.5",
         "4.9",
         "3",
         "[<pybtls.lib.libbtls.Vehicle object at 0x7bff5d39cf70>, <pybtls.lib.libbtls.Vehicle object at 0x7bff5d3aae30>, <pybtls.lib.libbtls.Vehicle object at 0x7bff5d3abb30>]"
        ],
        [
         "41",
         "113",
         "2",
         "382.4",
         "9739845.5",
         "4.9",
         "3",
         "[<pybtls.lib.libbtls.Vehicle object at 0x7bff5d39c6f0>, <pybtls.lib.libbtls.Vehicle object at 0x7bff5d3ab030>, <pybtls.lib.libbtls.Vehicle object at 0x7bff5d3abd30>]"
        ],
        [
         "42",
         "120",
         "1",
         "123.4",
         "10313176.7",
         "39.88",
         "3",
         "[<pybtls.lib.libbtls.Vehicle object at 0x7bff5d39c470>, <pybtls.lib.libbtls.Vehicle object at 0x7bff5d3ab9b0>, <pybtls.lib.libbtls.Vehicle object at 0x7bff5d39c4f0>]"
        ],
        [
         "43",
         "120",
         "2",
         "123.4",
         "10313176.7",
         "39.88",
         "3",
         "[<pybtls.lib.libbtls.Vehicle object at 0x7bff5d39d4b0>, <pybtls.lib.libbtls.Vehicle object at 0x7bff5d3abb70>, <pybtls.lib.libbtls.Vehicle object at 0x7bff5d39ff70>]"
        ],
        [
         "44",
         "127",
         "1",
         "341.5",
         "10952398.7",
         "22.2",
         "3",
         "[<pybtls.lib.libbtls.Vehicle object at 0x7bff5d39dab0>, <pybtls.lib.libbtls.Vehicle object at 0x7bff5d39e930>, <pybtls.lib.libbtls.Vehicle object at 0x7bff5d39c8f0>]"
        ],
        [
         "45",
         "127",
         "2",
         "341.5",
         "10952398.7",
         "22.2",
         "3",
         "[<pybtls.lib.libbtls.Vehicle object at 0x7bff5d39fdf0>, <pybtls.lib.libbtls.Vehicle object at 0x7bff5d39d0f0>, <pybtls.lib.libbtls.Vehicle object at 0x7bff5d39f0b0>]"
        ],
        [
         "46",
         "128",
         "1",
         "710.5",
         "11041351.8",
         "26.36",
         "3",
         "[<pybtls.lib.libbtls.Vehicle object at 0x7bff5d39d470>, <pybtls.lib.libbtls.Vehicle object at 0x7bff5d39e7f0>, <pybtls.lib.libbtls.Vehicle object at 0x7bff5d39d270>]"
        ],
        [
         "47",
         "128",
         "2",
         "710.5",
         "11041351.8",
         "26.36",
         "3",
         "[<pybtls.lib.libbtls.Vehicle object at 0x7bff5d3a0d70>, <pybtls.lib.libbtls.Vehicle object at 0x7bff5d39fa30>, <pybtls.lib.libbtls.Vehicle object at 0x7bff5d39f7f0>]"
        ],
        [
         "48",
         "134",
         "1",
         "975.8",
         "11546759.7",
         "25.93",
         "3",
         "[<pybtls.lib.libbtls.Vehicle object at 0x7bff5d3a3f30>, <pybtls.lib.libbtls.Vehicle object at 0x7bff5d39dcf0>, <pybtls.lib.libbtls.Vehicle object at 0x7bff5d3a2f30>]"
        ],
        [
         "49",
         "134",
         "2",
         "975.8",
         "11546759.7",
         "25.93",
         "3",
         "[<pybtls.lib.libbtls.Vehicle object at 0x7bff5d3a1470>, <pybtls.lib.libbtls.Vehicle object at 0x7bff5d39f3f0>, <pybtls.lib.libbtls.Vehicle object at 0x7bff5d3a3e70>]"
        ]
       ],
       "shape": {
        "columns": 7,
        "rows": 84
       }
      },
      "text/html": [
       "<div>\n",
       "<style scoped>\n",
       "    .dataframe tbody tr th:only-of-type {\n",
       "        vertical-align: middle;\n",
       "    }\n",
       "\n",
       "    .dataframe tbody tr th {\n",
       "        vertical-align: top;\n",
       "    }\n",
       "\n",
       "    .dataframe thead th {\n",
       "        text-align: right;\n",
       "    }\n",
       "</style>\n",
       "<table border=\"1\" class=\"dataframe\">\n",
       "  <thead>\n",
       "    <tr style=\"text-align: right;\">\n",
       "      <th></th>\n",
       "      <th>Index</th>\n",
       "      <th>Effect</th>\n",
       "      <th>Value</th>\n",
       "      <th>Time</th>\n",
       "      <th>Position on Bridge</th>\n",
       "      <th>No. Trucks</th>\n",
       "      <th>Trucks</th>\n",
       "    </tr>\n",
       "  </thead>\n",
       "  <tbody>\n",
       "    <tr>\n",
       "      <th>0</th>\n",
       "      <td>5</td>\n",
       "      <td>1</td>\n",
       "      <td>1011.6</td>\n",
       "      <td>403996.0</td>\n",
       "      <td>8.93</td>\n",
       "      <td>3</td>\n",
       "      <td>[&lt;pybtls.lib.libbtls.Vehicle object at 0x7bfef...</td>\n",
       "    </tr>\n",
       "    <tr>\n",
       "      <th>1</th>\n",
       "      <td>5</td>\n",
       "      <td>2</td>\n",
       "      <td>1011.6</td>\n",
       "      <td>403996.0</td>\n",
       "      <td>8.93</td>\n",
       "      <td>3</td>\n",
       "      <td>[&lt;pybtls.lib.libbtls.Vehicle object at 0x7bfef...</td>\n",
       "    </tr>\n",
       "    <tr>\n",
       "      <th>2</th>\n",
       "      <td>10</td>\n",
       "      <td>1</td>\n",
       "      <td>294.8</td>\n",
       "      <td>793455.0</td>\n",
       "      <td>9.27</td>\n",
       "      <td>3</td>\n",
       "      <td>[&lt;pybtls.lib.libbtls.Vehicle object at 0x7bfef...</td>\n",
       "    </tr>\n",
       "    <tr>\n",
       "      <th>3</th>\n",
       "      <td>10</td>\n",
       "      <td>2</td>\n",
       "      <td>294.8</td>\n",
       "      <td>793455.0</td>\n",
       "      <td>9.27</td>\n",
       "      <td>3</td>\n",
       "      <td>[&lt;pybtls.lib.libbtls.Vehicle object at 0x7bff5...</td>\n",
       "    </tr>\n",
       "    <tr>\n",
       "      <th>4</th>\n",
       "      <td>13</td>\n",
       "      <td>1</td>\n",
       "      <td>549.8</td>\n",
       "      <td>1082703.2</td>\n",
       "      <td>-5.42</td>\n",
       "      <td>3</td>\n",
       "      <td>[&lt;pybtls.lib.libbtls.Vehicle object at 0x7bff5...</td>\n",
       "    </tr>\n",
       "    <tr>\n",
       "      <th>...</th>\n",
       "      <td>...</td>\n",
       "      <td>...</td>\n",
       "      <td>...</td>\n",
       "      <td>...</td>\n",
       "      <td>...</td>\n",
       "      <td>...</td>\n",
       "      <td>...</td>\n",
       "    </tr>\n",
       "    <tr>\n",
       "      <th>79</th>\n",
       "      <td>238</td>\n",
       "      <td>2</td>\n",
       "      <td>835.8</td>\n",
       "      <td>20557689.2</td>\n",
       "      <td>14.31</td>\n",
       "      <td>3</td>\n",
       "      <td>[&lt;pybtls.lib.libbtls.Vehicle object at 0x7bff5...</td>\n",
       "    </tr>\n",
       "    <tr>\n",
       "      <th>80</th>\n",
       "      <td>239</td>\n",
       "      <td>1</td>\n",
       "      <td>476.0</td>\n",
       "      <td>20621893.3</td>\n",
       "      <td>21.99</td>\n",
       "      <td>3</td>\n",
       "      <td>[&lt;pybtls.lib.libbtls.Vehicle object at 0x7bff5...</td>\n",
       "    </tr>\n",
       "    <tr>\n",
       "      <th>81</th>\n",
       "      <td>239</td>\n",
       "      <td>2</td>\n",
       "      <td>476.0</td>\n",
       "      <td>20621893.3</td>\n",
       "      <td>21.99</td>\n",
       "      <td>3</td>\n",
       "      <td>[&lt;pybtls.lib.libbtls.Vehicle object at 0x7bff5...</td>\n",
       "    </tr>\n",
       "    <tr>\n",
       "      <th>82</th>\n",
       "      <td>245</td>\n",
       "      <td>1</td>\n",
       "      <td>151.5</td>\n",
       "      <td>21126323.3</td>\n",
       "      <td>-0.25</td>\n",
       "      <td>3</td>\n",
       "      <td>[&lt;pybtls.lib.libbtls.Vehicle object at 0x7bff5...</td>\n",
       "    </tr>\n",
       "    <tr>\n",
       "      <th>83</th>\n",
       "      <td>245</td>\n",
       "      <td>2</td>\n",
       "      <td>151.5</td>\n",
       "      <td>21126323.3</td>\n",
       "      <td>-0.25</td>\n",
       "      <td>3</td>\n",
       "      <td>[&lt;pybtls.lib.libbtls.Vehicle object at 0x7bff5...</td>\n",
       "    </tr>\n",
       "  </tbody>\n",
       "</table>\n",
       "<p>84 rows × 7 columns</p>\n",
       "</div>"
      ],
      "text/plain": [
       "    Index  Effect   Value        Time  Position on Bridge  No. Trucks  \\\n",
       "0       5       1  1011.6    403996.0                8.93           3   \n",
       "1       5       2  1011.6    403996.0                8.93           3   \n",
       "2      10       1   294.8    793455.0                9.27           3   \n",
       "3      10       2   294.8    793455.0                9.27           3   \n",
       "4      13       1   549.8   1082703.2               -5.42           3   \n",
       "..    ...     ...     ...         ...                 ...         ...   \n",
       "79    238       2   835.8  20557689.2               14.31           3   \n",
       "80    239       1   476.0  20621893.3               21.99           3   \n",
       "81    239       2   476.0  20621893.3               21.99           3   \n",
       "82    245       1   151.5  21126323.3               -0.25           3   \n",
       "83    245       2   151.5  21126323.3               -0.25           3   \n",
       "\n",
       "                                               Trucks  \n",
       "0   [<pybtls.lib.libbtls.Vehicle object at 0x7bfef...  \n",
       "1   [<pybtls.lib.libbtls.Vehicle object at 0x7bfef...  \n",
       "2   [<pybtls.lib.libbtls.Vehicle object at 0x7bfef...  \n",
       "3   [<pybtls.lib.libbtls.Vehicle object at 0x7bff5...  \n",
       "4   [<pybtls.lib.libbtls.Vehicle object at 0x7bff5...  \n",
       "..                                                ...  \n",
       "79  [<pybtls.lib.libbtls.Vehicle object at 0x7bff5...  \n",
       "80  [<pybtls.lib.libbtls.Vehicle object at 0x7bff5...  \n",
       "81  [<pybtls.lib.libbtls.Vehicle object at 0x7bff5...  \n",
       "82  [<pybtls.lib.libbtls.Vehicle object at 0x7bff5...  \n",
       "83  [<pybtls.lib.libbtls.Vehicle object at 0x7bff5...  \n",
       "\n",
       "[84 rows x 7 columns]"
      ]
     },
     "metadata": {},
     "output_type": "display_data"
    },
    {
     "name": "stdout",
     "output_type": "stream",
     "text": [
      "BM_V_20_2\n"
     ]
    },
    {
     "data": {
      "application/vnd.microsoft.datawrangler.viewer.v0+json": {
       "columns": [
        {
         "name": "index",
         "rawType": "int64",
         "type": "integer"
        },
        {
         "name": "Index",
         "rawType": "int64",
         "type": "integer"
        },
        {
         "name": "Effect",
         "rawType": "int64",
         "type": "integer"
        },
        {
         "name": "Value",
         "rawType": "float64",
         "type": "float"
        },
        {
         "name": "Time",
         "rawType": "float64",
         "type": "float"
        },
        {
         "name": "Position on Bridge",
         "rawType": "float64",
         "type": "float"
        },
        {
         "name": "No. Trucks",
         "rawType": "int64",
         "type": "integer"
        },
        {
         "name": "Trucks",
         "rawType": "object",
         "type": "unknown"
        }
       ],
       "ref": "9fe2bd5d-0e14-4f36-b380-b62361d54082",
       "rows": [
        [
         "0",
         "1",
         "1",
         "705.5",
         "79389.2",
         "26.99",
         "2",
         "[<pybtls.lib.libbtls.Vehicle object at 0x7bff5d3be8b0>, <pybtls.lib.libbtls.Vehicle object at 0x7bff5d3cbf30>]"
        ],
        [
         "1",
         "1",
         "2",
         "705.5",
         "79389.2",
         "26.99",
         "2",
         "[<pybtls.lib.libbtls.Vehicle object at 0x7bff5d3d4270>, <pybtls.lib.libbtls.Vehicle object at 0x7bff5d3cbbb0>]"
        ],
        [
         "2",
         "2",
         "1",
         "577.9",
         "96299.8",
         "6.9",
         "2",
         "[<pybtls.lib.libbtls.Vehicle object at 0x7bff5d3c57f0>, <pybtls.lib.libbtls.Vehicle object at 0x7bff5d3c1bf0>]"
        ],
        [
         "3",
         "2",
         "2",
         "577.9",
         "96299.8",
         "6.9",
         "2",
         "[<pybtls.lib.libbtls.Vehicle object at 0x7bff5d3d6ff0>, <pybtls.lib.libbtls.Vehicle object at 0x7bff5d3a1cf0>]"
        ],
        [
         "4",
         "3",
         "1",
         "1077.4",
         "217474.4",
         "-2.49",
         "2",
         "[<pybtls.lib.libbtls.Vehicle object at 0x7bff5d6538b0>, <pybtls.lib.libbtls.Vehicle object at 0x7bff5d3c50f0>]"
        ],
        [
         "5",
         "3",
         "2",
         "1077.4",
         "217474.4",
         "-2.49",
         "2",
         "[<pybtls.lib.libbtls.Vehicle object at 0x7bff5d3c50b0>, <pybtls.lib.libbtls.Vehicle object at 0x7bff5d42a7f0>]"
        ],
        [
         "6",
         "4",
         "1",
         "753.9",
         "290317.8",
         "23.63",
         "2",
         "[<pybtls.lib.libbtls.Vehicle object at 0x7bff5d42aeb0>, <pybtls.lib.libbtls.Vehicle object at 0x7bff5d3d62b0>]"
        ],
        [
         "7",
         "4",
         "2",
         "753.9",
         "290317.8",
         "23.63",
         "2",
         "[<pybtls.lib.libbtls.Vehicle object at 0x7bff5d4292f0>, <pybtls.lib.libbtls.Vehicle object at 0x7bff5d3d6770>]"
        ],
        [
         "8",
         "5",
         "1",
         "726.4",
         "426456.6",
         "-1.79",
         "2",
         "[<pybtls.lib.libbtls.Vehicle object at 0x7bff5d428130>, <pybtls.lib.libbtls.Vehicle object at 0x7bff5d3b2830>]"
        ],
        [
         "9",
         "5",
         "2",
         "726.4",
         "426456.6",
         "-1.79",
         "2",
         "[<pybtls.lib.libbtls.Vehicle object at 0x7bff5d43db70>, <pybtls.lib.libbtls.Vehicle object at 0x7bff5d3d6970>]"
        ],
        [
         "10",
         "6",
         "1",
         "773.7",
         "452306.3",
         "23.17",
         "2",
         "[<pybtls.lib.libbtls.Vehicle object at 0x7bff5d43fb30>, <pybtls.lib.libbtls.Vehicle object at 0x7bff5d42ac70>]"
        ],
        [
         "11",
         "6",
         "2",
         "773.7",
         "452306.3",
         "23.17",
         "2",
         "[<pybtls.lib.libbtls.Vehicle object at 0x7bff5d43cef0>, <pybtls.lib.libbtls.Vehicle object at 0x7bff5d42a3b0>]"
        ],
        [
         "12",
         "7",
         "1",
         "862.3",
         "518992.4",
         "22.1",
         "2",
         "[<pybtls.lib.libbtls.Vehicle object at 0x7bff5d43c270>, <pybtls.lib.libbtls.Vehicle object at 0x7bff5d43cf70>]"
        ],
        [
         "13",
         "7",
         "2",
         "862.3",
         "518992.4",
         "22.1",
         "2",
         "[<pybtls.lib.libbtls.Vehicle object at 0x7bff5d43e930>, <pybtls.lib.libbtls.Vehicle object at 0x7bff5d43f570>]"
        ],
        [
         "14",
         "8",
         "1",
         "772.0",
         "617872.6",
         "24.41",
         "2",
         "[<pybtls.lib.libbtls.Vehicle object at 0x7bff5d43ec30>, <pybtls.lib.libbtls.Vehicle object at 0x7bff5d43de30>]"
        ],
        [
         "15",
         "8",
         "2",
         "772.0",
         "617872.6",
         "24.41",
         "2",
         "[<pybtls.lib.libbtls.Vehicle object at 0x7bff5d43d070>, <pybtls.lib.libbtls.Vehicle object at 0x7bff5d43ceb0>]"
        ],
        [
         "16",
         "9",
         "1",
         "699.0",
         "739543.7",
         "-1.48",
         "2",
         "[<pybtls.lib.libbtls.Vehicle object at 0x7bff5d43f630>, <pybtls.lib.libbtls.Vehicle object at 0x7bff5d43ea30>]"
        ],
        [
         "17",
         "9",
         "2",
         "699.0",
         "739543.7",
         "-1.48",
         "2",
         "[<pybtls.lib.libbtls.Vehicle object at 0x7bff5d475a30>, <pybtls.lib.libbtls.Vehicle object at 0x7bff5d43cbf0>]"
        ],
        [
         "18",
         "10",
         "1",
         "1206.8",
         "797042.5",
         "10.95",
         "2",
         "[<pybtls.lib.libbtls.Vehicle object at 0x7bff5d476830>, <pybtls.lib.libbtls.Vehicle object at 0x7bff5d43f3f0>]"
        ],
        [
         "19",
         "10",
         "2",
         "1206.8",
         "797042.5",
         "10.95",
         "2",
         "[<pybtls.lib.libbtls.Vehicle object at 0x7bff5d476af0>, <pybtls.lib.libbtls.Vehicle object at 0x7bff5d43f2f0>]"
        ],
        [
         "20",
         "11",
         "1",
         "716.0",
         "949818.1",
         "5.99",
         "2",
         "[<pybtls.lib.libbtls.Vehicle object at 0x7bff5d477c70>, <pybtls.lib.libbtls.Vehicle object at 0x7bff5d475330>]"
        ],
        [
         "21",
         "11",
         "2",
         "716.0",
         "949818.1",
         "5.99",
         "2",
         "[<pybtls.lib.libbtls.Vehicle object at 0x7bff5d4765b0>, <pybtls.lib.libbtls.Vehicle object at 0x7bff5d474f30>]"
        ],
        [
         "22",
         "12",
         "1",
         "594.9",
         "1027839.4",
         "4.98",
         "2",
         "[<pybtls.lib.libbtls.Vehicle object at 0x7bff5d475ab0>, <pybtls.lib.libbtls.Vehicle object at 0x7bff5d476c70>]"
        ],
        [
         "23",
         "12",
         "2",
         "594.9",
         "1027839.4",
         "4.98",
         "2",
         "[<pybtls.lib.libbtls.Vehicle object at 0x7bff5d474fb0>, <pybtls.lib.libbtls.Vehicle object at 0x7bff5d474070>]"
        ],
        [
         "24",
         "13",
         "1",
         "623.4",
         "1059650.3",
         "28.1",
         "2",
         "[<pybtls.lib.libbtls.Vehicle object at 0x7bff5d4772b0>, <pybtls.lib.libbtls.Vehicle object at 0x7bff5d477070>]"
        ],
        [
         "25",
         "13",
         "2",
         "623.4",
         "1059650.3",
         "28.1",
         "2",
         "[<pybtls.lib.libbtls.Vehicle object at 0x7bff5d474d70>, <pybtls.lib.libbtls.Vehicle object at 0x7bff5d476d70>]"
        ],
        [
         "26",
         "14",
         "1",
         "679.8",
         "1198805.1",
         "22.22",
         "2",
         "[<pybtls.lib.libbtls.Vehicle object at 0x7bff5d4763f0>, <pybtls.lib.libbtls.Vehicle object at 0x7bff5d4746b0>]"
        ],
        [
         "27",
         "14",
         "2",
         "679.8",
         "1198805.1",
         "22.22",
         "2",
         "[<pybtls.lib.libbtls.Vehicle object at 0x7bff5d475830>, <pybtls.lib.libbtls.Vehicle object at 0x7bff5d475bb0>]"
        ],
        [
         "28",
         "15",
         "1",
         "494.8",
         "1216063.1",
         "-7.07",
         "2",
         "[<pybtls.lib.libbtls.Vehicle object at 0x7bff5d4754f0>, <pybtls.lib.libbtls.Vehicle object at 0x7bff5d477c30>]"
        ],
        [
         "29",
         "15",
         "2",
         "494.8",
         "1216063.1",
         "-7.07",
         "2",
         "[<pybtls.lib.libbtls.Vehicle object at 0x7bff5d4771b0>, <pybtls.lib.libbtls.Vehicle object at 0x7bff5d476730>]"
        ],
        [
         "30",
         "16",
         "1",
         "1052.4",
         "1298230.9",
         "19.3",
         "2",
         "[<pybtls.lib.libbtls.Vehicle object at 0x7bff5d474db0>, <pybtls.lib.libbtls.Vehicle object at 0x7bff5d476570>]"
        ],
        [
         "31",
         "16",
         "2",
         "1052.4",
         "1298230.9",
         "19.3",
         "2",
         "[<pybtls.lib.libbtls.Vehicle object at 0x7bff5d4755b0>, <pybtls.lib.libbtls.Vehicle object at 0x7bff5d476270>]"
        ],
        [
         "32",
         "17",
         "1",
         "753.0",
         "1393469.9",
         "14.25",
         "2",
         "[<pybtls.lib.libbtls.Vehicle object at 0x7bff5d4751b0>, <pybtls.lib.libbtls.Vehicle object at 0x7bff5d4778f0>]"
        ],
        [
         "33",
         "17",
         "2",
         "753.0",
         "1393469.9",
         "14.25",
         "2",
         "[<pybtls.lib.libbtls.Vehicle object at 0x7bff5d476a70>, <pybtls.lib.libbtls.Vehicle object at 0x7bff5d4741b0>]"
        ],
        [
         "34",
         "18",
         "1",
         "751.6",
         "1474628.4",
         "21.75",
         "2",
         "[<pybtls.lib.libbtls.Vehicle object at 0x7bff5d474c30>, <pybtls.lib.libbtls.Vehicle object at 0x7bff5d475df0>]"
        ],
        [
         "35",
         "18",
         "2",
         "751.6",
         "1474628.4",
         "21.75",
         "2",
         "[<pybtls.lib.libbtls.Vehicle object at 0x7bff5d477170>, <pybtls.lib.libbtls.Vehicle object at 0x7bff5d475fb0>]"
        ],
        [
         "36",
         "19",
         "1",
         "920.4",
         "1570612.9",
         "15.88",
         "2",
         "[<pybtls.lib.libbtls.Vehicle object at 0x7bff5d474930>, <pybtls.lib.libbtls.Vehicle object at 0x7bff5d474af0>]"
        ],
        [
         "37",
         "19",
         "2",
         "920.4",
         "1570612.9",
         "15.88",
         "2",
         "[<pybtls.lib.libbtls.Vehicle object at 0x7bff5d4776f0>, <pybtls.lib.libbtls.Vehicle object at 0x7bff5d475270>]"
        ],
        [
         "38",
         "20",
         "1",
         "939.0",
         "1724961.5",
         "18.86",
         "2",
         "[<pybtls.lib.libbtls.Vehicle object at 0x7bff5d4756f0>, <pybtls.lib.libbtls.Vehicle object at 0x7bff5d475cb0>]"
        ],
        [
         "39",
         "20",
         "2",
         "939.0",
         "1724961.5",
         "18.86",
         "2",
         "[<pybtls.lib.libbtls.Vehicle object at 0x7bff5d476e30>, <pybtls.lib.libbtls.Vehicle object at 0x7bff5d4740b0>]"
        ],
        [
         "40",
         "21",
         "1",
         "734.8",
         "1749655.8",
         "15.65",
         "2",
         "[<pybtls.lib.libbtls.Vehicle object at 0x7bff5d475b70>, <pybtls.lib.libbtls.Vehicle object at 0x7bff5d477630>]"
        ],
        [
         "41",
         "21",
         "2",
         "734.8",
         "1749655.8",
         "15.65",
         "2",
         "[<pybtls.lib.libbtls.Vehicle object at 0x7bff5d4744f0>, <pybtls.lib.libbtls.Vehicle object at 0x7bff5d475af0>]"
        ],
        [
         "42",
         "22",
         "1",
         "951.8",
         "1852583.8",
         "18.26",
         "2",
         "[<pybtls.lib.libbtls.Vehicle object at 0x7bff5d476170>, <pybtls.lib.libbtls.Vehicle object at 0x7bff5d476370>]"
        ],
        [
         "43",
         "22",
         "2",
         "951.8",
         "1852583.8",
         "18.26",
         "2",
         "[<pybtls.lib.libbtls.Vehicle object at 0x7bff5d4768b0>, <pybtls.lib.libbtls.Vehicle object at 0x7bff5d4749f0>]"
        ],
        [
         "44",
         "23",
         "1",
         "934.2",
         "1952946.5",
         "26.09",
         "2",
         "[<pybtls.lib.libbtls.Vehicle object at 0x7bff5d4762b0>, <pybtls.lib.libbtls.Vehicle object at 0x7bff5d477d30>]"
        ],
        [
         "45",
         "23",
         "2",
         "934.2",
         "1952946.5",
         "26.09",
         "2",
         "[<pybtls.lib.libbtls.Vehicle object at 0x7bff5d477a30>, <pybtls.lib.libbtls.Vehicle object at 0x7bff5d476630>]"
        ],
        [
         "46",
         "24",
         "1",
         "1271.8",
         "2051182.9",
         "20.63",
         "2",
         "[<pybtls.lib.libbtls.Vehicle object at 0x7bff5d475d30>, <pybtls.lib.libbtls.Vehicle object at 0x7bff5d476b70>]"
        ],
        [
         "47",
         "24",
         "2",
         "1271.8",
         "2051182.9",
         "20.63",
         "2",
         "[<pybtls.lib.libbtls.Vehicle object at 0x7bff5d476eb0>, <pybtls.lib.libbtls.Vehicle object at 0x7bff5d477270>]"
        ],
        [
         "48",
         "25",
         "1",
         "935.7",
         "2099886.3",
         "-0.07",
         "2",
         "[<pybtls.lib.libbtls.Vehicle object at 0x7bff5d475c30>, <pybtls.lib.libbtls.Vehicle object at 0x7bff5d477930>]"
        ],
        [
         "49",
         "25",
         "2",
         "935.7",
         "2099886.3",
         "-0.07",
         "2",
         "[<pybtls.lib.libbtls.Vehicle object at 0x7bff5d474570>, <pybtls.lib.libbtls.Vehicle object at 0x7bff5d475a70>]"
        ]
       ],
       "shape": {
        "columns": 7,
        "rows": 500
       }
      },
      "text/html": [
       "<div>\n",
       "<style scoped>\n",
       "    .dataframe tbody tr th:only-of-type {\n",
       "        vertical-align: middle;\n",
       "    }\n",
       "\n",
       "    .dataframe tbody tr th {\n",
       "        vertical-align: top;\n",
       "    }\n",
       "\n",
       "    .dataframe thead th {\n",
       "        text-align: right;\n",
       "    }\n",
       "</style>\n",
       "<table border=\"1\" class=\"dataframe\">\n",
       "  <thead>\n",
       "    <tr style=\"text-align: right;\">\n",
       "      <th></th>\n",
       "      <th>Index</th>\n",
       "      <th>Effect</th>\n",
       "      <th>Value</th>\n",
       "      <th>Time</th>\n",
       "      <th>Position on Bridge</th>\n",
       "      <th>No. Trucks</th>\n",
       "      <th>Trucks</th>\n",
       "    </tr>\n",
       "  </thead>\n",
       "  <tbody>\n",
       "    <tr>\n",
       "      <th>0</th>\n",
       "      <td>1</td>\n",
       "      <td>1</td>\n",
       "      <td>705.5</td>\n",
       "      <td>79389.2</td>\n",
       "      <td>26.99</td>\n",
       "      <td>2</td>\n",
       "      <td>[&lt;pybtls.lib.libbtls.Vehicle object at 0x7bff5...</td>\n",
       "    </tr>\n",
       "    <tr>\n",
       "      <th>1</th>\n",
       "      <td>1</td>\n",
       "      <td>2</td>\n",
       "      <td>705.5</td>\n",
       "      <td>79389.2</td>\n",
       "      <td>26.99</td>\n",
       "      <td>2</td>\n",
       "      <td>[&lt;pybtls.lib.libbtls.Vehicle object at 0x7bff5...</td>\n",
       "    </tr>\n",
       "    <tr>\n",
       "      <th>2</th>\n",
       "      <td>2</td>\n",
       "      <td>1</td>\n",
       "      <td>577.9</td>\n",
       "      <td>96299.8</td>\n",
       "      <td>6.90</td>\n",
       "      <td>2</td>\n",
       "      <td>[&lt;pybtls.lib.libbtls.Vehicle object at 0x7bff5...</td>\n",
       "    </tr>\n",
       "    <tr>\n",
       "      <th>3</th>\n",
       "      <td>2</td>\n",
       "      <td>2</td>\n",
       "      <td>577.9</td>\n",
       "      <td>96299.8</td>\n",
       "      <td>6.90</td>\n",
       "      <td>2</td>\n",
       "      <td>[&lt;pybtls.lib.libbtls.Vehicle object at 0x7bff5...</td>\n",
       "    </tr>\n",
       "    <tr>\n",
       "      <th>4</th>\n",
       "      <td>3</td>\n",
       "      <td>1</td>\n",
       "      <td>1077.4</td>\n",
       "      <td>217474.4</td>\n",
       "      <td>-2.49</td>\n",
       "      <td>2</td>\n",
       "      <td>[&lt;pybtls.lib.libbtls.Vehicle object at 0x7bff5...</td>\n",
       "    </tr>\n",
       "    <tr>\n",
       "      <th>...</th>\n",
       "      <td>...</td>\n",
       "      <td>...</td>\n",
       "      <td>...</td>\n",
       "      <td>...</td>\n",
       "      <td>...</td>\n",
       "      <td>...</td>\n",
       "      <td>...</td>\n",
       "    </tr>\n",
       "    <tr>\n",
       "      <th>495</th>\n",
       "      <td>248</td>\n",
       "      <td>2</td>\n",
       "      <td>798.4</td>\n",
       "      <td>21364852.9</td>\n",
       "      <td>14.78</td>\n",
       "      <td>2</td>\n",
       "      <td>[&lt;pybtls.lib.libbtls.Vehicle object at 0x7bff5...</td>\n",
       "    </tr>\n",
       "    <tr>\n",
       "      <th>496</th>\n",
       "      <td>249</td>\n",
       "      <td>1</td>\n",
       "      <td>769.1</td>\n",
       "      <td>21506786.0</td>\n",
       "      <td>22.62</td>\n",
       "      <td>2</td>\n",
       "      <td>[&lt;pybtls.lib.libbtls.Vehicle object at 0x7bff5...</td>\n",
       "    </tr>\n",
       "    <tr>\n",
       "      <th>497</th>\n",
       "      <td>249</td>\n",
       "      <td>2</td>\n",
       "      <td>769.1</td>\n",
       "      <td>21506786.0</td>\n",
       "      <td>22.62</td>\n",
       "      <td>2</td>\n",
       "      <td>[&lt;pybtls.lib.libbtls.Vehicle object at 0x7bff5...</td>\n",
       "    </tr>\n",
       "    <tr>\n",
       "      <th>498</th>\n",
       "      <td>250</td>\n",
       "      <td>1</td>\n",
       "      <td>496.1</td>\n",
       "      <td>21590791.3</td>\n",
       "      <td>-5.00</td>\n",
       "      <td>2</td>\n",
       "      <td>[&lt;pybtls.lib.libbtls.Vehicle object at 0x7bff5...</td>\n",
       "    </tr>\n",
       "    <tr>\n",
       "      <th>499</th>\n",
       "      <td>250</td>\n",
       "      <td>2</td>\n",
       "      <td>496.1</td>\n",
       "      <td>21590791.3</td>\n",
       "      <td>-5.00</td>\n",
       "      <td>2</td>\n",
       "      <td>[&lt;pybtls.lib.libbtls.Vehicle object at 0x7bff5...</td>\n",
       "    </tr>\n",
       "  </tbody>\n",
       "</table>\n",
       "<p>500 rows × 7 columns</p>\n",
       "</div>"
      ],
      "text/plain": [
       "     Index  Effect   Value        Time  Position on Bridge  No. Trucks  \\\n",
       "0        1       1   705.5     79389.2               26.99           2   \n",
       "1        1       2   705.5     79389.2               26.99           2   \n",
       "2        2       1   577.9     96299.8                6.90           2   \n",
       "3        2       2   577.9     96299.8                6.90           2   \n",
       "4        3       1  1077.4    217474.4               -2.49           2   \n",
       "..     ...     ...     ...         ...                 ...         ...   \n",
       "495    248       2   798.4  21364852.9               14.78           2   \n",
       "496    249       1   769.1  21506786.0               22.62           2   \n",
       "497    249       2   769.1  21506786.0               22.62           2   \n",
       "498    250       1   496.1  21590791.3               -5.00           2   \n",
       "499    250       2   496.1  21590791.3               -5.00           2   \n",
       "\n",
       "                                                Trucks  \n",
       "0    [<pybtls.lib.libbtls.Vehicle object at 0x7bff5...  \n",
       "1    [<pybtls.lib.libbtls.Vehicle object at 0x7bff5...  \n",
       "2    [<pybtls.lib.libbtls.Vehicle object at 0x7bff5...  \n",
       "3    [<pybtls.lib.libbtls.Vehicle object at 0x7bff5...  \n",
       "4    [<pybtls.lib.libbtls.Vehicle object at 0x7bff5...  \n",
       "..                                                 ...  \n",
       "495  [<pybtls.lib.libbtls.Vehicle object at 0x7bff5...  \n",
       "496  [<pybtls.lib.libbtls.Vehicle object at 0x7bff5...  \n",
       "497  [<pybtls.lib.libbtls.Vehicle object at 0x7bff5...  \n",
       "498  [<pybtls.lib.libbtls.Vehicle object at 0x7bff5...  \n",
       "499  [<pybtls.lib.libbtls.Vehicle object at 0x7bff5...  \n",
       "\n",
       "[500 rows x 7 columns]"
      ]
     },
     "metadata": {},
     "output_type": "display_data"
    },
    {
     "name": "stdout",
     "output_type": "stream",
     "text": [
      "BM_V_20_1\n"
     ]
    },
    {
     "data": {
      "application/vnd.microsoft.datawrangler.viewer.v0+json": {
       "columns": [
        {
         "name": "index",
         "rawType": "int64",
         "type": "integer"
        },
        {
         "name": "Index",
         "rawType": "int64",
         "type": "integer"
        },
        {
         "name": "Effect",
         "rawType": "int64",
         "type": "integer"
        },
        {
         "name": "Value",
         "rawType": "float64",
         "type": "float"
        },
        {
         "name": "Time",
         "rawType": "float64",
         "type": "float"
        },
        {
         "name": "Position on Bridge",
         "rawType": "float64",
         "type": "float"
        },
        {
         "name": "No. Trucks",
         "rawType": "int64",
         "type": "integer"
        },
        {
         "name": "Trucks",
         "rawType": "object",
         "type": "unknown"
        }
       ],
       "ref": "72d0f7f3-2004-46fc-a35e-86ecc4b05ac7",
       "rows": [
        [
         "0",
         "1",
         "1",
         "1086.1",
         "73798.3",
         "-1.64",
         "1",
         "[<pybtls.lib.libbtls.Vehicle object at 0x7bff5d42ce30>]"
        ],
        [
         "1",
         "1",
         "2",
         "1086.1",
         "73798.3",
         "-1.64",
         "1",
         "[<pybtls.lib.libbtls.Vehicle object at 0x7bff5d424e70>]"
        ],
        [
         "2",
         "2",
         "1",
         "1156.8",
         "96013.5",
         "-2.21",
         "1",
         "[<pybtls.lib.libbtls.Vehicle object at 0x7bff5d405870>]"
        ],
        [
         "3",
         "2",
         "2",
         "1156.8",
         "96013.5",
         "-2.21",
         "1",
         "[<pybtls.lib.libbtls.Vehicle object at 0x7bff5d405f70>]"
        ],
        [
         "4",
         "3",
         "1",
         "1135.9",
         "191177.8",
         "21.77",
         "1",
         "[<pybtls.lib.libbtls.Vehicle object at 0x7bff5d40b830>]"
        ],
        [
         "5",
         "3",
         "2",
         "1135.9",
         "191177.8",
         "21.77",
         "1",
         "[<pybtls.lib.libbtls.Vehicle object at 0x7bff5d40a9b0>]"
        ],
        [
         "6",
         "4",
         "1",
         "1147.4",
         "311294.3",
         "-2.03",
         "1",
         "[<pybtls.lib.libbtls.Vehicle object at 0x7bff5d4007f0>]"
        ],
        [
         "7",
         "4",
         "2",
         "1147.4",
         "311294.3",
         "-2.03",
         "1",
         "[<pybtls.lib.libbtls.Vehicle object at 0x7bff5d402270>]"
        ],
        [
         "8",
         "5",
         "1",
         "1184.0",
         "353420.0",
         "-2.01",
         "1",
         "[<pybtls.lib.libbtls.Vehicle object at 0x7bff5d3feaf0>]"
        ],
        [
         "9",
         "5",
         "2",
         "1184.0",
         "353420.0",
         "-2.01",
         "1",
         "[<pybtls.lib.libbtls.Vehicle object at 0x7bff5d3fc7f0>]"
        ],
        [
         "10",
         "6",
         "1",
         "1145.8",
         "467250.5",
         "-2.63",
         "1",
         "[<pybtls.lib.libbtls.Vehicle object at 0x7bff5d3fd9b0>]"
        ],
        [
         "11",
         "6",
         "2",
         "1145.8",
         "467250.5",
         "-2.63",
         "1",
         "[<pybtls.lib.libbtls.Vehicle object at 0x7bff5d3f6fb0>]"
        ],
        [
         "12",
         "7",
         "1",
         "1164.7",
         "534972.6",
         "22.69",
         "1",
         "[<pybtls.lib.libbtls.Vehicle object at 0x7bff5d3f62f0>]"
        ],
        [
         "13",
         "7",
         "2",
         "1164.7",
         "534972.6",
         "22.69",
         "1",
         "[<pybtls.lib.libbtls.Vehicle object at 0x7bff5d3f7870>]"
        ],
        [
         "14",
         "8",
         "1",
         "1121.2",
         "675439.1",
         "22.61",
         "1",
         "[<pybtls.lib.libbtls.Vehicle object at 0x7bff5d3f74b0>]"
        ],
        [
         "15",
         "8",
         "2",
         "1121.2",
         "675439.1",
         "22.61",
         "1",
         "[<pybtls.lib.libbtls.Vehicle object at 0x7bff5d43f370>]"
        ],
        [
         "16",
         "9",
         "1",
         "1155.3",
         "765638.0",
         "-1.37",
         "1",
         "[<pybtls.lib.libbtls.Vehicle object at 0x7bff5d43da30>]"
        ],
        [
         "17",
         "9",
         "2",
         "1155.3",
         "765638.0",
         "-1.37",
         "1",
         "[<pybtls.lib.libbtls.Vehicle object at 0x7bff5d43f830>]"
        ],
        [
         "18",
         "10",
         "1",
         "1149.0",
         "831556.9",
         "-1.78",
         "1",
         "[<pybtls.lib.libbtls.Vehicle object at 0x7bff5d43c730>]"
        ],
        [
         "19",
         "10",
         "2",
         "1149.0",
         "831556.9",
         "-1.78",
         "1",
         "[<pybtls.lib.libbtls.Vehicle object at 0x7bff5d43fab0>]"
        ],
        [
         "20",
         "11",
         "1",
         "1130.5",
         "911151.3",
         "-1.1",
         "1",
         "[<pybtls.lib.libbtls.Vehicle object at 0x7bff5d43f330>]"
        ],
        [
         "21",
         "11",
         "2",
         "1130.5",
         "911151.3",
         "-1.1",
         "1",
         "[<pybtls.lib.libbtls.Vehicle object at 0x7bff5d43d470>]"
        ],
        [
         "22",
         "12",
         "1",
         "1139.8",
         "981791.9",
         "21.57",
         "1",
         "[<pybtls.lib.libbtls.Vehicle object at 0x7bff5d43c3f0>]"
        ],
        [
         "23",
         "12",
         "2",
         "1139.8",
         "981791.9",
         "21.57",
         "1",
         "[<pybtls.lib.libbtls.Vehicle object at 0x7bff5d3ee8b0>]"
        ],
        [
         "24",
         "13",
         "1",
         "1144.2",
         "1093057.1",
         "-1.14",
         "1",
         "[<pybtls.lib.libbtls.Vehicle object at 0x7bff5d3ed330>]"
        ],
        [
         "25",
         "13",
         "2",
         "1144.2",
         "1093057.1",
         "-1.14",
         "1",
         "[<pybtls.lib.libbtls.Vehicle object at 0x7bff5d3ec930>]"
        ],
        [
         "26",
         "14",
         "1",
         "1151.5",
         "1203728.6",
         "22.13",
         "1",
         "[<pybtls.lib.libbtls.Vehicle object at 0x7bff5d3ee8f0>]"
        ],
        [
         "27",
         "14",
         "2",
         "1151.5",
         "1203728.6",
         "22.13",
         "1",
         "[<pybtls.lib.libbtls.Vehicle object at 0x7bff5d3efd30>]"
        ],
        [
         "28",
         "15",
         "1",
         "1122.2",
         "1233881.6",
         "23.23",
         "1",
         "[<pybtls.lib.libbtls.Vehicle object at 0x7bff5d3efb70>]"
        ],
        [
         "29",
         "15",
         "2",
         "1122.2",
         "1233881.6",
         "23.23",
         "1",
         "[<pybtls.lib.libbtls.Vehicle object at 0x7bff5d3ed730>]"
        ],
        [
         "30",
         "16",
         "1",
         "1102.9",
         "1353360.4",
         "22.95",
         "1",
         "[<pybtls.lib.libbtls.Vehicle object at 0x7bff5d3ee2f0>]"
        ],
        [
         "31",
         "16",
         "2",
         "1102.9",
         "1353360.4",
         "22.95",
         "1",
         "[<pybtls.lib.libbtls.Vehicle object at 0x7bff5d3ef1f0>]"
        ],
        [
         "32",
         "17",
         "1",
         "1121.8",
         "1414194.5",
         "22.01",
         "1",
         "[<pybtls.lib.libbtls.Vehicle object at 0x7bff5d483630>]"
        ],
        [
         "33",
         "17",
         "2",
         "1121.8",
         "1414194.5",
         "22.01",
         "1",
         "[<pybtls.lib.libbtls.Vehicle object at 0x7bff5d480630>]"
        ],
        [
         "34",
         "18",
         "1",
         "1155.1",
         "1485883.0",
         "22.3",
         "1",
         "[<pybtls.lib.libbtls.Vehicle object at 0x7bff5d4838f0>]"
        ],
        [
         "35",
         "18",
         "2",
         "1155.1",
         "1485883.0",
         "22.3",
         "1",
         "[<pybtls.lib.libbtls.Vehicle object at 0x7bff5d481e70>]"
        ],
        [
         "36",
         "19",
         "1",
         "1120.2",
         "1612883.0",
         "22.67",
         "1",
         "[<pybtls.lib.libbtls.Vehicle object at 0x7bff5d481df0>]"
        ],
        [
         "37",
         "19",
         "2",
         "1120.2",
         "1612883.0",
         "22.67",
         "1",
         "[<pybtls.lib.libbtls.Vehicle object at 0x7bff5d482530>]"
        ],
        [
         "38",
         "20",
         "1",
         "1121.3",
         "1698137.4",
         "21.92",
         "1",
         "[<pybtls.lib.libbtls.Vehicle object at 0x7bff5d482570>]"
        ],
        [
         "39",
         "20",
         "2",
         "1121.3",
         "1698137.4",
         "21.92",
         "1",
         "[<pybtls.lib.libbtls.Vehicle object at 0x7bff5d482db0>]"
        ],
        [
         "40",
         "21",
         "1",
         "1114.0",
         "1777847.2",
         "21.9",
         "1",
         "[<pybtls.lib.libbtls.Vehicle object at 0x7bff5d483370>]"
        ],
        [
         "41",
         "21",
         "2",
         "1114.0",
         "1777847.2",
         "21.9",
         "1",
         "[<pybtls.lib.libbtls.Vehicle object at 0x7bff5d4830f0>]"
        ],
        [
         "42",
         "22",
         "1",
         "1153.2",
         "1819620.7",
         "22.77",
         "1",
         "[<pybtls.lib.libbtls.Vehicle object at 0x7bff5d3d6b70>]"
        ],
        [
         "43",
         "22",
         "2",
         "1153.2",
         "1819620.7",
         "22.77",
         "1",
         "[<pybtls.lib.libbtls.Vehicle object at 0x7bff5d3d5f30>]"
        ],
        [
         "44",
         "23",
         "1",
         "1133.8",
         "1920271.1",
         "22.27",
         "1",
         "[<pybtls.lib.libbtls.Vehicle object at 0x7bff5d3d77f0>]"
        ],
        [
         "45",
         "23",
         "2",
         "1133.8",
         "1920271.1",
         "22.27",
         "1",
         "[<pybtls.lib.libbtls.Vehicle object at 0x7bff5d3d6830>]"
        ],
        [
         "46",
         "24",
         "1",
         "1188.2",
         "2047158.6",
         "-2.0",
         "1",
         "[<pybtls.lib.libbtls.Vehicle object at 0x7bff5d4289b0>]"
        ],
        [
         "47",
         "24",
         "2",
         "1188.2",
         "2047158.6",
         "-2.0",
         "1",
         "[<pybtls.lib.libbtls.Vehicle object at 0x7bff5d42b570>]"
        ],
        [
         "48",
         "25",
         "1",
         "1065.7",
         "2088256.1",
         "22.97",
         "1",
         "[<pybtls.lib.libbtls.Vehicle object at 0x7bff5d42b370>]"
        ],
        [
         "49",
         "25",
         "2",
         "1065.7",
         "2088256.1",
         "22.97",
         "1",
         "[<pybtls.lib.libbtls.Vehicle object at 0x7bff5d428e30>]"
        ]
       ],
       "shape": {
        "columns": 7,
        "rows": 500
       }
      },
      "text/html": [
       "<div>\n",
       "<style scoped>\n",
       "    .dataframe tbody tr th:only-of-type {\n",
       "        vertical-align: middle;\n",
       "    }\n",
       "\n",
       "    .dataframe tbody tr th {\n",
       "        vertical-align: top;\n",
       "    }\n",
       "\n",
       "    .dataframe thead th {\n",
       "        text-align: right;\n",
       "    }\n",
       "</style>\n",
       "<table border=\"1\" class=\"dataframe\">\n",
       "  <thead>\n",
       "    <tr style=\"text-align: right;\">\n",
       "      <th></th>\n",
       "      <th>Index</th>\n",
       "      <th>Effect</th>\n",
       "      <th>Value</th>\n",
       "      <th>Time</th>\n",
       "      <th>Position on Bridge</th>\n",
       "      <th>No. Trucks</th>\n",
       "      <th>Trucks</th>\n",
       "    </tr>\n",
       "  </thead>\n",
       "  <tbody>\n",
       "    <tr>\n",
       "      <th>0</th>\n",
       "      <td>1</td>\n",
       "      <td>1</td>\n",
       "      <td>1086.1</td>\n",
       "      <td>73798.3</td>\n",
       "      <td>-1.64</td>\n",
       "      <td>1</td>\n",
       "      <td>[&lt;pybtls.lib.libbtls.Vehicle object at 0x7bff5...</td>\n",
       "    </tr>\n",
       "    <tr>\n",
       "      <th>1</th>\n",
       "      <td>1</td>\n",
       "      <td>2</td>\n",
       "      <td>1086.1</td>\n",
       "      <td>73798.3</td>\n",
       "      <td>-1.64</td>\n",
       "      <td>1</td>\n",
       "      <td>[&lt;pybtls.lib.libbtls.Vehicle object at 0x7bff5...</td>\n",
       "    </tr>\n",
       "    <tr>\n",
       "      <th>2</th>\n",
       "      <td>2</td>\n",
       "      <td>1</td>\n",
       "      <td>1156.8</td>\n",
       "      <td>96013.5</td>\n",
       "      <td>-2.21</td>\n",
       "      <td>1</td>\n",
       "      <td>[&lt;pybtls.lib.libbtls.Vehicle object at 0x7bff5...</td>\n",
       "    </tr>\n",
       "    <tr>\n",
       "      <th>3</th>\n",
       "      <td>2</td>\n",
       "      <td>2</td>\n",
       "      <td>1156.8</td>\n",
       "      <td>96013.5</td>\n",
       "      <td>-2.21</td>\n",
       "      <td>1</td>\n",
       "      <td>[&lt;pybtls.lib.libbtls.Vehicle object at 0x7bff5...</td>\n",
       "    </tr>\n",
       "    <tr>\n",
       "      <th>4</th>\n",
       "      <td>3</td>\n",
       "      <td>1</td>\n",
       "      <td>1135.9</td>\n",
       "      <td>191177.8</td>\n",
       "      <td>21.77</td>\n",
       "      <td>1</td>\n",
       "      <td>[&lt;pybtls.lib.libbtls.Vehicle object at 0x7bff5...</td>\n",
       "    </tr>\n",
       "    <tr>\n",
       "      <th>...</th>\n",
       "      <td>...</td>\n",
       "      <td>...</td>\n",
       "      <td>...</td>\n",
       "      <td>...</td>\n",
       "      <td>...</td>\n",
       "      <td>...</td>\n",
       "      <td>...</td>\n",
       "    </tr>\n",
       "    <tr>\n",
       "      <th>495</th>\n",
       "      <td>248</td>\n",
       "      <td>2</td>\n",
       "      <td>1153.8</td>\n",
       "      <td>21380814.0</td>\n",
       "      <td>22.31</td>\n",
       "      <td>1</td>\n",
       "      <td>[&lt;pybtls.lib.libbtls.Vehicle object at 0x7bfef...</td>\n",
       "    </tr>\n",
       "    <tr>\n",
       "      <th>496</th>\n",
       "      <td>249</td>\n",
       "      <td>1</td>\n",
       "      <td>1104.8</td>\n",
       "      <td>21483678.1</td>\n",
       "      <td>19.44</td>\n",
       "      <td>1</td>\n",
       "      <td>[&lt;pybtls.lib.libbtls.Vehicle object at 0x7bfef...</td>\n",
       "    </tr>\n",
       "    <tr>\n",
       "      <th>497</th>\n",
       "      <td>249</td>\n",
       "      <td>2</td>\n",
       "      <td>1104.8</td>\n",
       "      <td>21483678.1</td>\n",
       "      <td>19.44</td>\n",
       "      <td>1</td>\n",
       "      <td>[&lt;pybtls.lib.libbtls.Vehicle object at 0x7bfef...</td>\n",
       "    </tr>\n",
       "    <tr>\n",
       "      <th>498</th>\n",
       "      <td>250</td>\n",
       "      <td>1</td>\n",
       "      <td>1149.9</td>\n",
       "      <td>21553543.3</td>\n",
       "      <td>21.75</td>\n",
       "      <td>1</td>\n",
       "      <td>[&lt;pybtls.lib.libbtls.Vehicle object at 0x7bfef...</td>\n",
       "    </tr>\n",
       "    <tr>\n",
       "      <th>499</th>\n",
       "      <td>250</td>\n",
       "      <td>2</td>\n",
       "      <td>1149.9</td>\n",
       "      <td>21553543.3</td>\n",
       "      <td>21.75</td>\n",
       "      <td>1</td>\n",
       "      <td>[&lt;pybtls.lib.libbtls.Vehicle object at 0x7bfef...</td>\n",
       "    </tr>\n",
       "  </tbody>\n",
       "</table>\n",
       "<p>500 rows × 7 columns</p>\n",
       "</div>"
      ],
      "text/plain": [
       "     Index  Effect   Value        Time  Position on Bridge  No. Trucks  \\\n",
       "0        1       1  1086.1     73798.3               -1.64           1   \n",
       "1        1       2  1086.1     73798.3               -1.64           1   \n",
       "2        2       1  1156.8     96013.5               -2.21           1   \n",
       "3        2       2  1156.8     96013.5               -2.21           1   \n",
       "4        3       1  1135.9    191177.8               21.77           1   \n",
       "..     ...     ...     ...         ...                 ...         ...   \n",
       "495    248       2  1153.8  21380814.0               22.31           1   \n",
       "496    249       1  1104.8  21483678.1               19.44           1   \n",
       "497    249       2  1104.8  21483678.1               19.44           1   \n",
       "498    250       1  1149.9  21553543.3               21.75           1   \n",
       "499    250       2  1149.9  21553543.3               21.75           1   \n",
       "\n",
       "                                                Trucks  \n",
       "0    [<pybtls.lib.libbtls.Vehicle object at 0x7bff5...  \n",
       "1    [<pybtls.lib.libbtls.Vehicle object at 0x7bff5...  \n",
       "2    [<pybtls.lib.libbtls.Vehicle object at 0x7bff5...  \n",
       "3    [<pybtls.lib.libbtls.Vehicle object at 0x7bff5...  \n",
       "4    [<pybtls.lib.libbtls.Vehicle object at 0x7bff5...  \n",
       "..                                                 ...  \n",
       "495  [<pybtls.lib.libbtls.Vehicle object at 0x7bfef...  \n",
       "496  [<pybtls.lib.libbtls.Vehicle object at 0x7bfef...  \n",
       "497  [<pybtls.lib.libbtls.Vehicle object at 0x7bfef...  \n",
       "498  [<pybtls.lib.libbtls.Vehicle object at 0x7bfef...  \n",
       "499  [<pybtls.lib.libbtls.Vehicle object at 0x7bfef...  \n",
       "\n",
       "[500 rows x 7 columns]"
      ]
     },
     "metadata": {},
     "output_type": "display_data"
    },
    {
     "name": "stdout",
     "output_type": "stream",
     "text": [
      "BM_by_mixed\n",
      "BM_V_20_All\n"
     ]
    },
    {
     "data": {
      "application/vnd.microsoft.datawrangler.viewer.v0+json": {
       "columns": [
        {
         "name": "index",
         "rawType": "int64",
         "type": "integer"
        },
        {
         "name": "Index",
         "rawType": "int64",
         "type": "integer"
        },
        {
         "name": "Effect",
         "rawType": "int64",
         "type": "integer"
        },
        {
         "name": "Value",
         "rawType": "float64",
         "type": "float"
        },
        {
         "name": "Time",
         "rawType": "float64",
         "type": "float"
        },
        {
         "name": "Position on Bridge",
         "rawType": "float64",
         "type": "float"
        },
        {
         "name": "No. Trucks",
         "rawType": "int64",
         "type": "integer"
        },
        {
         "name": "Trucks",
         "rawType": "object",
         "type": "unknown"
        }
       ],
       "ref": "58e2a56b-ada6-4f00-9b0b-542868051aa1",
       "rows": [
        [
         "0",
         "1",
         "1",
         "1086.1",
         "73798.3",
         "-1.64",
         "1",
         "[<pybtls.lib.libbtls.Vehicle object at 0x7bff5d3bdcb0>]"
        ],
        [
         "1",
         "1",
         "2",
         "1086.1",
         "73798.3",
         "-1.64",
         "1",
         "[<pybtls.lib.libbtls.Vehicle object at 0x7bff5d3bc7f0>]"
        ],
        [
         "2",
         "2",
         "1",
         "1156.8",
         "96013.5",
         "-2.21",
         "1",
         "[<pybtls.lib.libbtls.Vehicle object at 0x7bff5d3bd770>]"
        ],
        [
         "3",
         "2",
         "2",
         "1156.8",
         "96013.5",
         "-2.21",
         "1",
         "[<pybtls.lib.libbtls.Vehicle object at 0x7bff5d3bd6b0>]"
        ],
        [
         "4",
         "3",
         "1",
         "1135.9",
         "191177.8",
         "21.77",
         "1",
         "[<pybtls.lib.libbtls.Vehicle object at 0x7bff5d3b0b30>]"
        ],
        [
         "5",
         "3",
         "2",
         "1135.9",
         "191177.8",
         "21.77",
         "1",
         "[<pybtls.lib.libbtls.Vehicle object at 0x7bff5d3b1970>]"
        ],
        [
         "6",
         "4",
         "1",
         "1147.4",
         "311294.3",
         "-2.03",
         "1",
         "[<pybtls.lib.libbtls.Vehicle object at 0x7bff5d3b0cf0>]"
        ],
        [
         "7",
         "4",
         "2",
         "1147.4",
         "311294.3",
         "-2.03",
         "1",
         "[<pybtls.lib.libbtls.Vehicle object at 0x7bff5d3b14b0>]"
        ],
        [
         "8",
         "5",
         "1",
         "1184.0",
         "353420.0",
         "-2.01",
         "1",
         "[<pybtls.lib.libbtls.Vehicle object at 0x7bff5d3b0d30>]"
        ],
        [
         "9",
         "5",
         "2",
         "1184.0",
         "353420.0",
         "-2.01",
         "1",
         "[<pybtls.lib.libbtls.Vehicle object at 0x7bff5d3b2bb0>]"
        ],
        [
         "10",
         "6",
         "1",
         "1145.8",
         "467250.5",
         "-2.63",
         "1",
         "[<pybtls.lib.libbtls.Vehicle object at 0x7bff5d3b2ab0>]"
        ],
        [
         "11",
         "6",
         "2",
         "1145.8",
         "467250.5",
         "-2.63",
         "1",
         "[<pybtls.lib.libbtls.Vehicle object at 0x7bff5d3b0030>]"
        ],
        [
         "12",
         "7",
         "1",
         "1164.7",
         "534972.6",
         "22.69",
         "1",
         "[<pybtls.lib.libbtls.Vehicle object at 0x7bff5d3b0cb0>]"
        ],
        [
         "13",
         "7",
         "2",
         "1164.7",
         "534972.6",
         "22.69",
         "1",
         "[<pybtls.lib.libbtls.Vehicle object at 0x7bff5d3a2170>]"
        ],
        [
         "14",
         "8",
         "1",
         "1121.2",
         "675439.1",
         "22.61",
         "1",
         "[<pybtls.lib.libbtls.Vehicle object at 0x7bff5d3a37b0>]"
        ],
        [
         "15",
         "8",
         "2",
         "1121.2",
         "675439.1",
         "22.61",
         "1",
         "[<pybtls.lib.libbtls.Vehicle object at 0x7bff5d3a2330>]"
        ],
        [
         "16",
         "9",
         "1",
         "1155.3",
         "765638.0",
         "-1.37",
         "1",
         "[<pybtls.lib.libbtls.Vehicle object at 0x7bff5d3a2870>]"
        ],
        [
         "17",
         "9",
         "2",
         "1155.3",
         "765638.0",
         "-1.37",
         "1",
         "[<pybtls.lib.libbtls.Vehicle object at 0x7bff5d3a3eb0>]"
        ],
        [
         "18",
         "10",
         "1",
         "1206.8",
         "797042.5",
         "10.95",
         "2",
         "[<pybtls.lib.libbtls.Vehicle object at 0x7bff5d3a16f0>, <pybtls.lib.libbtls.Vehicle object at 0x7bff5d3bcef0>]"
        ],
        [
         "19",
         "10",
         "2",
         "1206.8",
         "797042.5",
         "10.95",
         "2",
         "[<pybtls.lib.libbtls.Vehicle object at 0x7bff5d3a3d70>, <pybtls.lib.libbtls.Vehicle object at 0x7bff5d3bf5f0>]"
        ],
        [
         "20",
         "11",
         "1",
         "1130.5",
         "911151.3",
         "-1.1",
         "1",
         "[<pybtls.lib.libbtls.Vehicle object at 0x7bff5d3a13b0>]"
        ],
        [
         "21",
         "11",
         "2",
         "1130.5",
         "911151.3",
         "-1.1",
         "1",
         "[<pybtls.lib.libbtls.Vehicle object at 0x7bff5d3a1830>]"
        ],
        [
         "22",
         "12",
         "1",
         "1139.8",
         "981791.9",
         "21.57",
         "1",
         "[<pybtls.lib.libbtls.Vehicle object at 0x7bff5d39cd70>]"
        ],
        [
         "23",
         "12",
         "2",
         "1139.8",
         "981791.9",
         "21.57",
         "1",
         "[<pybtls.lib.libbtls.Vehicle object at 0x7bff5d39dd70>]"
        ],
        [
         "24",
         "13",
         "1",
         "1144.2",
         "1093057.1",
         "-1.14",
         "1",
         "[<pybtls.lib.libbtls.Vehicle object at 0x7bff5d39e330>]"
        ],
        [
         "25",
         "13",
         "2",
         "1144.2",
         "1093057.1",
         "-1.14",
         "1",
         "[<pybtls.lib.libbtls.Vehicle object at 0x7bff5d39fe30>]"
        ],
        [
         "26",
         "14",
         "1",
         "1151.5",
         "1203728.6",
         "22.13",
         "1",
         "[<pybtls.lib.libbtls.Vehicle object at 0x7bff5d39f1b0>]"
        ],
        [
         "27",
         "14",
         "2",
         "1151.5",
         "1203728.6",
         "22.13",
         "1",
         "[<pybtls.lib.libbtls.Vehicle object at 0x7bff5d39def0>]"
        ],
        [
         "28",
         "15",
         "1",
         "1122.2",
         "1233881.6",
         "23.23",
         "1",
         "[<pybtls.lib.libbtls.Vehicle object at 0x7bff5d39eeb0>]"
        ],
        [
         "29",
         "15",
         "2",
         "1122.2",
         "1233881.6",
         "23.23",
         "1",
         "[<pybtls.lib.libbtls.Vehicle object at 0x7bff5d39cbf0>]"
        ],
        [
         "30",
         "16",
         "1",
         "1102.9",
         "1353360.4",
         "22.95",
         "1",
         "[<pybtls.lib.libbtls.Vehicle object at 0x7bff5d3a9570>]"
        ],
        [
         "31",
         "16",
         "2",
         "1102.9",
         "1353360.4",
         "22.95",
         "1",
         "[<pybtls.lib.libbtls.Vehicle object at 0x7bff5d3a9db0>]"
        ],
        [
         "32",
         "17",
         "1",
         "1121.8",
         "1414194.5",
         "22.01",
         "1",
         "[<pybtls.lib.libbtls.Vehicle object at 0x7bff5d3aabf0>]"
        ],
        [
         "33",
         "17",
         "2",
         "1121.8",
         "1414194.5",
         "22.01",
         "1",
         "[<pybtls.lib.libbtls.Vehicle object at 0x7bff5d3abab0>]"
        ],
        [
         "34",
         "18",
         "1",
         "1155.1",
         "1485883.0",
         "22.3",
         "1",
         "[<pybtls.lib.libbtls.Vehicle object at 0x7bff5d3aa070>]"
        ],
        [
         "35",
         "18",
         "2",
         "1155.1",
         "1485883.0",
         "22.3",
         "1",
         "[<pybtls.lib.libbtls.Vehicle object at 0x7bff5d3aaf70>]"
        ],
        [
         "36",
         "19",
         "1",
         "1120.2",
         "1612883.0",
         "22.67",
         "1",
         "[<pybtls.lib.libbtls.Vehicle object at 0x7bff5d3abaf0>]"
        ],
        [
         "37",
         "19",
         "2",
         "1120.2",
         "1612883.0",
         "22.67",
         "1",
         "[<pybtls.lib.libbtls.Vehicle object at 0x7bff5d3aba70>]"
        ],
        [
         "38",
         "20",
         "1",
         "1121.3",
         "1698137.4",
         "21.92",
         "1",
         "[<pybtls.lib.libbtls.Vehicle object at 0x7bff5d3a8b30>]"
        ],
        [
         "39",
         "20",
         "2",
         "1121.3",
         "1698137.4",
         "21.92",
         "1",
         "[<pybtls.lib.libbtls.Vehicle object at 0x7bff5d5aa930>]"
        ],
        [
         "40",
         "21",
         "1",
         "1114.0",
         "1777847.2",
         "21.9",
         "1",
         "[<pybtls.lib.libbtls.Vehicle object at 0x7bff5d3e50f0>]"
        ],
        [
         "41",
         "21",
         "2",
         "1114.0",
         "1777847.2",
         "21.9",
         "1",
         "[<pybtls.lib.libbtls.Vehicle object at 0x7bff5d3e65f0>]"
        ],
        [
         "42",
         "22",
         "1",
         "1153.2",
         "1819620.7",
         "22.77",
         "1",
         "[<pybtls.lib.libbtls.Vehicle object at 0x7bff5d3e7f30>]"
        ],
        [
         "43",
         "22",
         "2",
         "1153.2",
         "1819620.7",
         "22.77",
         "1",
         "[<pybtls.lib.libbtls.Vehicle object at 0x7bff5d3e7870>]"
        ],
        [
         "44",
         "23",
         "1",
         "1133.8",
         "1920271.1",
         "22.27",
         "1",
         "[<pybtls.lib.libbtls.Vehicle object at 0x7bff5d3e6cf0>]"
        ],
        [
         "45",
         "23",
         "2",
         "1133.8",
         "1920271.1",
         "22.27",
         "1",
         "[<pybtls.lib.libbtls.Vehicle object at 0x7bff5d3e5570>]"
        ],
        [
         "46",
         "24",
         "1",
         "1271.8",
         "2051182.9",
         "20.63",
         "2",
         "[<pybtls.lib.libbtls.Vehicle object at 0x7bff5d3e7f70>, <pybtls.lib.libbtls.Vehicle object at 0x7bff5d3e49f0>]"
        ],
        [
         "47",
         "24",
         "2",
         "1271.8",
         "2051182.9",
         "20.63",
         "2",
         "[<pybtls.lib.libbtls.Vehicle object at 0x7bff5d3e54b0>, <pybtls.lib.libbtls.Vehicle object at 0x7bff5d3e46f0>]"
        ],
        [
         "48",
         "25",
         "1",
         "1065.7",
         "2088256.1",
         "22.97",
         "1",
         "[<pybtls.lib.libbtls.Vehicle object at 0x7bff5d413670>]"
        ],
        [
         "49",
         "25",
         "2",
         "1065.7",
         "2088256.1",
         "22.97",
         "1",
         "[<pybtls.lib.libbtls.Vehicle object at 0x7bff5d412270>]"
        ]
       ],
       "shape": {
        "columns": 7,
        "rows": 500
       }
      },
      "text/html": [
       "<div>\n",
       "<style scoped>\n",
       "    .dataframe tbody tr th:only-of-type {\n",
       "        vertical-align: middle;\n",
       "    }\n",
       "\n",
       "    .dataframe tbody tr th {\n",
       "        vertical-align: top;\n",
       "    }\n",
       "\n",
       "    .dataframe thead th {\n",
       "        text-align: right;\n",
       "    }\n",
       "</style>\n",
       "<table border=\"1\" class=\"dataframe\">\n",
       "  <thead>\n",
       "    <tr style=\"text-align: right;\">\n",
       "      <th></th>\n",
       "      <th>Index</th>\n",
       "      <th>Effect</th>\n",
       "      <th>Value</th>\n",
       "      <th>Time</th>\n",
       "      <th>Position on Bridge</th>\n",
       "      <th>No. Trucks</th>\n",
       "      <th>Trucks</th>\n",
       "    </tr>\n",
       "  </thead>\n",
       "  <tbody>\n",
       "    <tr>\n",
       "      <th>0</th>\n",
       "      <td>1</td>\n",
       "      <td>1</td>\n",
       "      <td>1086.1</td>\n",
       "      <td>73798.3</td>\n",
       "      <td>-1.64</td>\n",
       "      <td>1</td>\n",
       "      <td>[&lt;pybtls.lib.libbtls.Vehicle object at 0x7bff5...</td>\n",
       "    </tr>\n",
       "    <tr>\n",
       "      <th>1</th>\n",
       "      <td>1</td>\n",
       "      <td>2</td>\n",
       "      <td>1086.1</td>\n",
       "      <td>73798.3</td>\n",
       "      <td>-1.64</td>\n",
       "      <td>1</td>\n",
       "      <td>[&lt;pybtls.lib.libbtls.Vehicle object at 0x7bff5...</td>\n",
       "    </tr>\n",
       "    <tr>\n",
       "      <th>2</th>\n",
       "      <td>2</td>\n",
       "      <td>1</td>\n",
       "      <td>1156.8</td>\n",
       "      <td>96013.5</td>\n",
       "      <td>-2.21</td>\n",
       "      <td>1</td>\n",
       "      <td>[&lt;pybtls.lib.libbtls.Vehicle object at 0x7bff5...</td>\n",
       "    </tr>\n",
       "    <tr>\n",
       "      <th>3</th>\n",
       "      <td>2</td>\n",
       "      <td>2</td>\n",
       "      <td>1156.8</td>\n",
       "      <td>96013.5</td>\n",
       "      <td>-2.21</td>\n",
       "      <td>1</td>\n",
       "      <td>[&lt;pybtls.lib.libbtls.Vehicle object at 0x7bff5...</td>\n",
       "    </tr>\n",
       "    <tr>\n",
       "      <th>4</th>\n",
       "      <td>3</td>\n",
       "      <td>1</td>\n",
       "      <td>1135.9</td>\n",
       "      <td>191177.8</td>\n",
       "      <td>21.77</td>\n",
       "      <td>1</td>\n",
       "      <td>[&lt;pybtls.lib.libbtls.Vehicle object at 0x7bff5...</td>\n",
       "    </tr>\n",
       "    <tr>\n",
       "      <th>...</th>\n",
       "      <td>...</td>\n",
       "      <td>...</td>\n",
       "      <td>...</td>\n",
       "      <td>...</td>\n",
       "      <td>...</td>\n",
       "      <td>...</td>\n",
       "      <td>...</td>\n",
       "    </tr>\n",
       "    <tr>\n",
       "      <th>495</th>\n",
       "      <td>248</td>\n",
       "      <td>2</td>\n",
       "      <td>1153.8</td>\n",
       "      <td>21380814.0</td>\n",
       "      <td>22.31</td>\n",
       "      <td>1</td>\n",
       "      <td>[&lt;pybtls.lib.libbtls.Vehicle object at 0x7bff5...</td>\n",
       "    </tr>\n",
       "    <tr>\n",
       "      <th>496</th>\n",
       "      <td>249</td>\n",
       "      <td>1</td>\n",
       "      <td>1104.8</td>\n",
       "      <td>21483678.1</td>\n",
       "      <td>19.44</td>\n",
       "      <td>1</td>\n",
       "      <td>[&lt;pybtls.lib.libbtls.Vehicle object at 0x7bff5...</td>\n",
       "    </tr>\n",
       "    <tr>\n",
       "      <th>497</th>\n",
       "      <td>249</td>\n",
       "      <td>2</td>\n",
       "      <td>1104.8</td>\n",
       "      <td>21483678.1</td>\n",
       "      <td>19.44</td>\n",
       "      <td>1</td>\n",
       "      <td>[&lt;pybtls.lib.libbtls.Vehicle object at 0x7bff5...</td>\n",
       "    </tr>\n",
       "    <tr>\n",
       "      <th>498</th>\n",
       "      <td>250</td>\n",
       "      <td>1</td>\n",
       "      <td>1149.9</td>\n",
       "      <td>21553543.3</td>\n",
       "      <td>21.75</td>\n",
       "      <td>1</td>\n",
       "      <td>[&lt;pybtls.lib.libbtls.Vehicle object at 0x7bff5...</td>\n",
       "    </tr>\n",
       "    <tr>\n",
       "      <th>499</th>\n",
       "      <td>250</td>\n",
       "      <td>2</td>\n",
       "      <td>1149.9</td>\n",
       "      <td>21553543.3</td>\n",
       "      <td>21.75</td>\n",
       "      <td>1</td>\n",
       "      <td>[&lt;pybtls.lib.libbtls.Vehicle object at 0x7bff5...</td>\n",
       "    </tr>\n",
       "  </tbody>\n",
       "</table>\n",
       "<p>500 rows × 7 columns</p>\n",
       "</div>"
      ],
      "text/plain": [
       "     Index  Effect   Value        Time  Position on Bridge  No. Trucks  \\\n",
       "0        1       1  1086.1     73798.3               -1.64           1   \n",
       "1        1       2  1086.1     73798.3               -1.64           1   \n",
       "2        2       1  1156.8     96013.5               -2.21           1   \n",
       "3        2       2  1156.8     96013.5               -2.21           1   \n",
       "4        3       1  1135.9    191177.8               21.77           1   \n",
       "..     ...     ...     ...         ...                 ...         ...   \n",
       "495    248       2  1153.8  21380814.0               22.31           1   \n",
       "496    249       1  1104.8  21483678.1               19.44           1   \n",
       "497    249       2  1104.8  21483678.1               19.44           1   \n",
       "498    250       1  1149.9  21553543.3               21.75           1   \n",
       "499    250       2  1149.9  21553543.3               21.75           1   \n",
       "\n",
       "                                                Trucks  \n",
       "0    [<pybtls.lib.libbtls.Vehicle object at 0x7bff5...  \n",
       "1    [<pybtls.lib.libbtls.Vehicle object at 0x7bff5...  \n",
       "2    [<pybtls.lib.libbtls.Vehicle object at 0x7bff5...  \n",
       "3    [<pybtls.lib.libbtls.Vehicle object at 0x7bff5...  \n",
       "4    [<pybtls.lib.libbtls.Vehicle object at 0x7bff5...  \n",
       "..                                                 ...  \n",
       "495  [<pybtls.lib.libbtls.Vehicle object at 0x7bff5...  \n",
       "496  [<pybtls.lib.libbtls.Vehicle object at 0x7bff5...  \n",
       "497  [<pybtls.lib.libbtls.Vehicle object at 0x7bff5...  \n",
       "498  [<pybtls.lib.libbtls.Vehicle object at 0x7bff5...  \n",
       "499  [<pybtls.lib.libbtls.Vehicle object at 0x7bff5...  \n",
       "\n",
       "[500 rows x 7 columns]"
      ]
     },
     "metadata": {},
     "output_type": "display_data"
    },
    {
     "name": "stdout",
     "output_type": "stream",
     "text": [
      "BM_summary\n",
      "BM_S_20_Eff_1\n"
     ]
    },
    {
     "data": {
      "application/vnd.microsoft.datawrangler.viewer.v0+json": {
       "columns": [
        {
         "name": "index",
         "rawType": "int64",
         "type": "integer"
        },
        {
         "name": "Block Index",
         "rawType": "int64",
         "type": "integer"
        },
        {
         "name": "1-Truck Event",
         "rawType": "float64",
         "type": "float"
        },
        {
         "name": "2-Truck Event",
         "rawType": "float64",
         "type": "float"
        },
        {
         "name": "3-Truck Event",
         "rawType": "float64",
         "type": "float"
        }
       ],
       "ref": "1acc0fc1-ffd0-4621-8b29-657698a4b9af",
       "rows": [
        [
         "0",
         "1",
         "1086.1",
         "705.5",
         null
        ],
        [
         "1",
         "2",
         "1156.8",
         "577.9",
         null
        ],
        [
         "2",
         "3",
         "1135.9",
         "1077.4",
         null
        ],
        [
         "3",
         "4",
         "1147.4",
         "753.9",
         null
        ],
        [
         "4",
         "5",
         "1184.0",
         "726.4",
         "1011.6"
        ],
        [
         "5",
         "6",
         "1145.8",
         "773.7",
         null
        ],
        [
         "6",
         "7",
         "1164.7",
         "862.3",
         null
        ],
        [
         "7",
         "8",
         "1121.2",
         "772.0",
         null
        ],
        [
         "8",
         "9",
         "1155.3",
         "699.0",
         null
        ],
        [
         "9",
         "10",
         "1149.0",
         "1206.8",
         "294.8"
        ],
        [
         "10",
         "11",
         "1130.5",
         "716.0",
         null
        ],
        [
         "11",
         "12",
         "1139.8",
         "594.9",
         null
        ],
        [
         "12",
         "13",
         "1144.2",
         "623.4",
         "549.8"
        ],
        [
         "13",
         "14",
         "1151.5",
         "679.8",
         null
        ],
        [
         "14",
         "15",
         "1122.2",
         "494.8",
         "657.2"
        ],
        [
         "15",
         "16",
         "1102.9",
         "1052.4",
         "741.0"
        ],
        [
         "16",
         "17",
         "1121.8",
         "753.0",
         null
        ],
        [
         "17",
         "18",
         "1155.1",
         "751.6",
         "548.1"
        ],
        [
         "18",
         "19",
         "1120.2",
         "920.4",
         "380.5"
        ],
        [
         "19",
         "20",
         "1121.3",
         "939.0",
         null
        ],
        [
         "20",
         "21",
         "1114.0",
         "734.8",
         null
        ],
        [
         "21",
         "22",
         "1153.2",
         "951.8",
         null
        ],
        [
         "22",
         "23",
         "1133.8",
         "934.2",
         null
        ],
        [
         "23",
         "24",
         "1188.2",
         "1271.8",
         null
        ],
        [
         "24",
         "25",
         "1065.7",
         "935.7",
         "312.7"
        ],
        [
         "25",
         "26",
         "1058.3",
         "860.3",
         null
        ],
        [
         "26",
         "27",
         "1129.6",
         "934.2",
         null
        ],
        [
         "27",
         "28",
         "1080.3",
         "1038.2",
         "386.0"
        ],
        [
         "28",
         "29",
         "1118.1",
         "961.4",
         null
        ],
        [
         "29",
         "30",
         "1156.9",
         "931.5",
         null
        ],
        [
         "30",
         "31",
         "1135.9",
         "883.2",
         null
        ],
        [
         "31",
         "32",
         "1163.2",
         "1067.4",
         null
        ],
        [
         "32",
         "33",
         "1110.7",
         "650.2",
         null
        ],
        [
         "33",
         "34",
         "1148.7",
         "774.2",
         null
        ],
        [
         "34",
         "35",
         "1142.1",
         "1112.9",
         null
        ],
        [
         "35",
         "36",
         "1111.3",
         "711.2",
         null
        ],
        [
         "36",
         "37",
         "1089.6",
         "984.3",
         null
        ],
        [
         "37",
         "38",
         "1145.9",
         "1324.0",
         null
        ],
        [
         "38",
         "39",
         "1073.0",
         "1125.8",
         null
        ],
        [
         "39",
         "40",
         "1164.9",
         "604.1",
         null
        ],
        [
         "40",
         "41",
         "1107.4",
         "835.7",
         "324.8"
        ],
        [
         "41",
         "42",
         "1098.1",
         "959.9",
         "429.2"
        ],
        [
         "42",
         "43",
         "1154.3",
         "792.0",
         null
        ],
        [
         "43",
         "44",
         "1023.0",
         "668.4",
         null
        ],
        [
         "44",
         "45",
         "1139.7",
         "803.9",
         null
        ],
        [
         "45",
         "46",
         "1153.3",
         "928.4",
         "678.0"
        ],
        [
         "46",
         "47",
         "1162.2",
         "835.8",
         null
        ],
        [
         "47",
         "48",
         "1176.9",
         "1001.5",
         null
        ],
        [
         "48",
         "49",
         "1149.2",
         "732.4",
         null
        ],
        [
         "49",
         "50",
         "1184.5",
         "823.9",
         null
        ]
       ],
       "shape": {
        "columns": 4,
        "rows": 250
       }
      },
      "text/html": [
       "<div>\n",
       "<style scoped>\n",
       "    .dataframe tbody tr th:only-of-type {\n",
       "        vertical-align: middle;\n",
       "    }\n",
       "\n",
       "    .dataframe tbody tr th {\n",
       "        vertical-align: top;\n",
       "    }\n",
       "\n",
       "    .dataframe thead th {\n",
       "        text-align: right;\n",
       "    }\n",
       "</style>\n",
       "<table border=\"1\" class=\"dataframe\">\n",
       "  <thead>\n",
       "    <tr style=\"text-align: right;\">\n",
       "      <th></th>\n",
       "      <th>Block Index</th>\n",
       "      <th>1-Truck Event</th>\n",
       "      <th>2-Truck Event</th>\n",
       "      <th>3-Truck Event</th>\n",
       "    </tr>\n",
       "  </thead>\n",
       "  <tbody>\n",
       "    <tr>\n",
       "      <th>0</th>\n",
       "      <td>1</td>\n",
       "      <td>1086.1</td>\n",
       "      <td>705.5</td>\n",
       "      <td>NaN</td>\n",
       "    </tr>\n",
       "    <tr>\n",
       "      <th>1</th>\n",
       "      <td>2</td>\n",
       "      <td>1156.8</td>\n",
       "      <td>577.9</td>\n",
       "      <td>NaN</td>\n",
       "    </tr>\n",
       "    <tr>\n",
       "      <th>2</th>\n",
       "      <td>3</td>\n",
       "      <td>1135.9</td>\n",
       "      <td>1077.4</td>\n",
       "      <td>NaN</td>\n",
       "    </tr>\n",
       "    <tr>\n",
       "      <th>3</th>\n",
       "      <td>4</td>\n",
       "      <td>1147.4</td>\n",
       "      <td>753.9</td>\n",
       "      <td>NaN</td>\n",
       "    </tr>\n",
       "    <tr>\n",
       "      <th>4</th>\n",
       "      <td>5</td>\n",
       "      <td>1184.0</td>\n",
       "      <td>726.4</td>\n",
       "      <td>1011.6</td>\n",
       "    </tr>\n",
       "    <tr>\n",
       "      <th>...</th>\n",
       "      <td>...</td>\n",
       "      <td>...</td>\n",
       "      <td>...</td>\n",
       "      <td>...</td>\n",
       "    </tr>\n",
       "    <tr>\n",
       "      <th>245</th>\n",
       "      <td>246</td>\n",
       "      <td>1137.6</td>\n",
       "      <td>936.1</td>\n",
       "      <td>NaN</td>\n",
       "    </tr>\n",
       "    <tr>\n",
       "      <th>246</th>\n",
       "      <td>247</td>\n",
       "      <td>1172.3</td>\n",
       "      <td>683.6</td>\n",
       "      <td>NaN</td>\n",
       "    </tr>\n",
       "    <tr>\n",
       "      <th>247</th>\n",
       "      <td>248</td>\n",
       "      <td>1153.8</td>\n",
       "      <td>798.4</td>\n",
       "      <td>NaN</td>\n",
       "    </tr>\n",
       "    <tr>\n",
       "      <th>248</th>\n",
       "      <td>249</td>\n",
       "      <td>1104.8</td>\n",
       "      <td>769.1</td>\n",
       "      <td>NaN</td>\n",
       "    </tr>\n",
       "    <tr>\n",
       "      <th>249</th>\n",
       "      <td>250</td>\n",
       "      <td>1149.9</td>\n",
       "      <td>496.1</td>\n",
       "      <td>NaN</td>\n",
       "    </tr>\n",
       "  </tbody>\n",
       "</table>\n",
       "<p>250 rows × 4 columns</p>\n",
       "</div>"
      ],
      "text/plain": [
       "     Block Index  1-Truck Event  2-Truck Event  3-Truck Event\n",
       "0              1         1086.1          705.5            NaN\n",
       "1              2         1156.8          577.9            NaN\n",
       "2              3         1135.9         1077.4            NaN\n",
       "3              4         1147.4          753.9            NaN\n",
       "4              5         1184.0          726.4         1011.6\n",
       "..           ...            ...            ...            ...\n",
       "245          246         1137.6          936.1            NaN\n",
       "246          247         1172.3          683.6            NaN\n",
       "247          248         1153.8          798.4            NaN\n",
       "248          249         1104.8          769.1            NaN\n",
       "249          250         1149.9          496.1            NaN\n",
       "\n",
       "[250 rows x 4 columns]"
      ]
     },
     "metadata": {},
     "output_type": "display_data"
    },
    {
     "name": "stdout",
     "output_type": "stream",
     "text": [
      "BM_S_20_Eff_2\n"
     ]
    },
    {
     "data": {
      "application/vnd.microsoft.datawrangler.viewer.v0+json": {
       "columns": [
        {
         "name": "index",
         "rawType": "int64",
         "type": "integer"
        },
        {
         "name": "Block Index",
         "rawType": "int64",
         "type": "integer"
        },
        {
         "name": "1-Truck Event",
         "rawType": "float64",
         "type": "float"
        },
        {
         "name": "2-Truck Event",
         "rawType": "float64",
         "type": "float"
        },
        {
         "name": "3-Truck Event",
         "rawType": "float64",
         "type": "float"
        }
       ],
       "ref": "217cec43-17ba-42b2-bfd7-4c3bb385dae7",
       "rows": [
        [
         "0",
         "1",
         "1086.1",
         "705.5",
         null
        ],
        [
         "1",
         "2",
         "1156.8",
         "577.9",
         null
        ],
        [
         "2",
         "3",
         "1135.9",
         "1077.4",
         null
        ],
        [
         "3",
         "4",
         "1147.4",
         "753.9",
         null
        ],
        [
         "4",
         "5",
         "1184.0",
         "726.4",
         "1011.6"
        ],
        [
         "5",
         "6",
         "1145.8",
         "773.7",
         null
        ],
        [
         "6",
         "7",
         "1164.7",
         "862.3",
         null
        ],
        [
         "7",
         "8",
         "1121.2",
         "772.0",
         null
        ],
        [
         "8",
         "9",
         "1155.3",
         "699.0",
         null
        ],
        [
         "9",
         "10",
         "1149.0",
         "1206.8",
         "294.8"
        ],
        [
         "10",
         "11",
         "1130.5",
         "716.0",
         null
        ],
        [
         "11",
         "12",
         "1139.8",
         "594.9",
         null
        ],
        [
         "12",
         "13",
         "1144.2",
         "623.4",
         "549.8"
        ],
        [
         "13",
         "14",
         "1151.5",
         "679.8",
         null
        ],
        [
         "14",
         "15",
         "1122.2",
         "494.8",
         "657.2"
        ],
        [
         "15",
         "16",
         "1102.9",
         "1052.4",
         "741.0"
        ],
        [
         "16",
         "17",
         "1121.8",
         "753.0",
         null
        ],
        [
         "17",
         "18",
         "1155.1",
         "751.6",
         "548.1"
        ],
        [
         "18",
         "19",
         "1120.2",
         "920.4",
         "380.5"
        ],
        [
         "19",
         "20",
         "1121.3",
         "939.0",
         null
        ],
        [
         "20",
         "21",
         "1114.0",
         "734.8",
         null
        ],
        [
         "21",
         "22",
         "1153.2",
         "951.8",
         null
        ],
        [
         "22",
         "23",
         "1133.8",
         "934.2",
         null
        ],
        [
         "23",
         "24",
         "1188.2",
         "1271.8",
         null
        ],
        [
         "24",
         "25",
         "1065.7",
         "935.7",
         "312.7"
        ],
        [
         "25",
         "26",
         "1058.3",
         "860.3",
         null
        ],
        [
         "26",
         "27",
         "1129.6",
         "934.2",
         null
        ],
        [
         "27",
         "28",
         "1080.3",
         "1038.2",
         "386.0"
        ],
        [
         "28",
         "29",
         "1118.1",
         "961.4",
         null
        ],
        [
         "29",
         "30",
         "1156.9",
         "931.5",
         null
        ],
        [
         "30",
         "31",
         "1135.9",
         "883.2",
         null
        ],
        [
         "31",
         "32",
         "1163.2",
         "1067.4",
         null
        ],
        [
         "32",
         "33",
         "1110.7",
         "650.2",
         null
        ],
        [
         "33",
         "34",
         "1148.7",
         "774.2",
         null
        ],
        [
         "34",
         "35",
         "1142.1",
         "1112.9",
         null
        ],
        [
         "35",
         "36",
         "1111.3",
         "711.2",
         null
        ],
        [
         "36",
         "37",
         "1089.6",
         "984.3",
         null
        ],
        [
         "37",
         "38",
         "1145.9",
         "1324.0",
         null
        ],
        [
         "38",
         "39",
         "1073.0",
         "1125.8",
         null
        ],
        [
         "39",
         "40",
         "1164.9",
         "604.1",
         null
        ],
        [
         "40",
         "41",
         "1107.4",
         "835.7",
         "324.8"
        ],
        [
         "41",
         "42",
         "1098.1",
         "959.9",
         "429.2"
        ],
        [
         "42",
         "43",
         "1154.3",
         "792.0",
         null
        ],
        [
         "43",
         "44",
         "1023.0",
         "668.4",
         null
        ],
        [
         "44",
         "45",
         "1139.7",
         "803.9",
         null
        ],
        [
         "45",
         "46",
         "1153.3",
         "928.4",
         "678.0"
        ],
        [
         "46",
         "47",
         "1162.2",
         "835.8",
         null
        ],
        [
         "47",
         "48",
         "1176.9",
         "1001.5",
         null
        ],
        [
         "48",
         "49",
         "1149.2",
         "732.4",
         null
        ],
        [
         "49",
         "50",
         "1184.5",
         "823.9",
         null
        ]
       ],
       "shape": {
        "columns": 4,
        "rows": 250
       }
      },
      "text/html": [
       "<div>\n",
       "<style scoped>\n",
       "    .dataframe tbody tr th:only-of-type {\n",
       "        vertical-align: middle;\n",
       "    }\n",
       "\n",
       "    .dataframe tbody tr th {\n",
       "        vertical-align: top;\n",
       "    }\n",
       "\n",
       "    .dataframe thead th {\n",
       "        text-align: right;\n",
       "    }\n",
       "</style>\n",
       "<table border=\"1\" class=\"dataframe\">\n",
       "  <thead>\n",
       "    <tr style=\"text-align: right;\">\n",
       "      <th></th>\n",
       "      <th>Block Index</th>\n",
       "      <th>1-Truck Event</th>\n",
       "      <th>2-Truck Event</th>\n",
       "      <th>3-Truck Event</th>\n",
       "    </tr>\n",
       "  </thead>\n",
       "  <tbody>\n",
       "    <tr>\n",
       "      <th>0</th>\n",
       "      <td>1</td>\n",
       "      <td>1086.1</td>\n",
       "      <td>705.5</td>\n",
       "      <td>NaN</td>\n",
       "    </tr>\n",
       "    <tr>\n",
       "      <th>1</th>\n",
       "      <td>2</td>\n",
       "      <td>1156.8</td>\n",
       "      <td>577.9</td>\n",
       "      <td>NaN</td>\n",
       "    </tr>\n",
       "    <tr>\n",
       "      <th>2</th>\n",
       "      <td>3</td>\n",
       "      <td>1135.9</td>\n",
       "      <td>1077.4</td>\n",
       "      <td>NaN</td>\n",
       "    </tr>\n",
       "    <tr>\n",
       "      <th>3</th>\n",
       "      <td>4</td>\n",
       "      <td>1147.4</td>\n",
       "      <td>753.9</td>\n",
       "      <td>NaN</td>\n",
       "    </tr>\n",
       "    <tr>\n",
       "      <th>4</th>\n",
       "      <td>5</td>\n",
       "      <td>1184.0</td>\n",
       "      <td>726.4</td>\n",
       "      <td>1011.6</td>\n",
       "    </tr>\n",
       "    <tr>\n",
       "      <th>...</th>\n",
       "      <td>...</td>\n",
       "      <td>...</td>\n",
       "      <td>...</td>\n",
       "      <td>...</td>\n",
       "    </tr>\n",
       "    <tr>\n",
       "      <th>245</th>\n",
       "      <td>246</td>\n",
       "      <td>1137.6</td>\n",
       "      <td>936.1</td>\n",
       "      <td>NaN</td>\n",
       "    </tr>\n",
       "    <tr>\n",
       "      <th>246</th>\n",
       "      <td>247</td>\n",
       "      <td>1172.3</td>\n",
       "      <td>683.6</td>\n",
       "      <td>NaN</td>\n",
       "    </tr>\n",
       "    <tr>\n",
       "      <th>247</th>\n",
       "      <td>248</td>\n",
       "      <td>1153.8</td>\n",
       "      <td>798.4</td>\n",
       "      <td>NaN</td>\n",
       "    </tr>\n",
       "    <tr>\n",
       "      <th>248</th>\n",
       "      <td>249</td>\n",
       "      <td>1104.8</td>\n",
       "      <td>769.1</td>\n",
       "      <td>NaN</td>\n",
       "    </tr>\n",
       "    <tr>\n",
       "      <th>249</th>\n",
       "      <td>250</td>\n",
       "      <td>1149.9</td>\n",
       "      <td>496.1</td>\n",
       "      <td>NaN</td>\n",
       "    </tr>\n",
       "  </tbody>\n",
       "</table>\n",
       "<p>250 rows × 4 columns</p>\n",
       "</div>"
      ],
      "text/plain": [
       "     Block Index  1-Truck Event  2-Truck Event  3-Truck Event\n",
       "0              1         1086.1          705.5            NaN\n",
       "1              2         1156.8          577.9            NaN\n",
       "2              3         1135.9         1077.4            NaN\n",
       "3              4         1147.4          753.9            NaN\n",
       "4              5         1184.0          726.4         1011.6\n",
       "..           ...            ...            ...            ...\n",
       "245          246         1137.6          936.1            NaN\n",
       "246          247         1172.3          683.6            NaN\n",
       "247          248         1153.8          798.4            NaN\n",
       "248          249         1104.8          769.1            NaN\n",
       "249          250         1149.9          496.1            NaN\n",
       "\n",
       "[250 rows x 4 columns]"
      ]
     },
     "metadata": {},
     "output_type": "display_data"
    },
    {
     "name": "stdout",
     "output_type": "stream",
     "text": [
      "POT_vehicle\n",
      "PT_V_20_1\n"
     ]
    },
    {
     "data": {
      "application/vnd.microsoft.datawrangler.viewer.v0+json": {
       "columns": [
        {
         "name": "index",
         "rawType": "int64",
         "type": "integer"
        },
        {
         "name": "Index",
         "rawType": "int64",
         "type": "integer"
        },
        {
         "name": "Effect",
         "rawType": "int64",
         "type": "integer"
        },
        {
         "name": "Value",
         "rawType": "float64",
         "type": "float"
        },
        {
         "name": "Time",
         "rawType": "float64",
         "type": "float"
        },
        {
         "name": "Position on Bridge",
         "rawType": "float64",
         "type": "float"
        },
        {
         "name": "No. Trucks",
         "rawType": "int64",
         "type": "integer"
        },
        {
         "name": "Trucks",
         "rawType": "object",
         "type": "unknown"
        }
       ],
       "ref": "285b3231-16cc-4969-b866-0b71a3010b20",
       "rows": [
        [
         "0",
         "1",
         "1",
         "110.7",
         "43.2",
         "6.98",
         "1",
         "[<pybtls.lib.libbtls.Vehicle object at 0x7bff5d39f0f0>]"
        ],
        [
         "1",
         "1",
         "2",
         "110.7",
         "43.2",
         "6.98",
         "1",
         "[<pybtls.lib.libbtls.Vehicle object at 0x7bff556318f0>]"
        ],
        [
         "2",
         "2",
         "1",
         "138.3",
         "159.0",
         "15.15",
         "1",
         "[<pybtls.lib.libbtls.Vehicle object at 0x7bff55633670>]"
        ],
        [
         "3",
         "2",
         "2",
         "138.3",
         "159.0",
         "15.15",
         "1",
         "[<pybtls.lib.libbtls.Vehicle object at 0x7bff5d3973b0>]"
        ],
        [
         "4",
         "3",
         "1",
         "44.8",
         "317.3",
         "6.95",
         "1",
         "[<pybtls.lib.libbtls.Vehicle object at 0x7bff5688ed30>]"
        ],
        [
         "5",
         "3",
         "2",
         "44.8",
         "317.3",
         "6.95",
         "1",
         "[<pybtls.lib.libbtls.Vehicle object at 0x7bfefb7652f0>]"
        ],
        [
         "6",
         "4",
         "1",
         "318.2",
         "346.7",
         "5.49",
         "1",
         "[<pybtls.lib.libbtls.Vehicle object at 0x7bff5d47b330>]"
        ],
        [
         "7",
         "4",
         "2",
         "318.2",
         "346.7",
         "5.49",
         "1",
         "[<pybtls.lib.libbtls.Vehicle object at 0x7bff5d4197b0>]"
        ],
        [
         "8",
         "5",
         "1",
         "33.5",
         "347.4",
         "-10.73",
         "1",
         "[<pybtls.lib.libbtls.Vehicle object at 0x7bff5325fdf0>]"
        ],
        [
         "9",
         "5",
         "2",
         "33.5",
         "347.4",
         "-10.73",
         "1",
         "[<pybtls.lib.libbtls.Vehicle object at 0x7bff5d3fd030>]"
        ],
        [
         "10",
         "6",
         "1",
         "285.8",
         "456.1",
         "6.18",
         "1",
         "[<pybtls.lib.libbtls.Vehicle object at 0x7bff5d3f76f0>]"
        ],
        [
         "11",
         "6",
         "2",
         "285.8",
         "456.1",
         "6.18",
         "1",
         "[<pybtls.lib.libbtls.Vehicle object at 0x7bff5d43ccf0>]"
        ],
        [
         "12",
         "7",
         "1",
         "340.8",
         "478.9",
         "13.62",
         "1",
         "[<pybtls.lib.libbtls.Vehicle object at 0x7bff5d43f970>]"
        ],
        [
         "13",
         "7",
         "2",
         "340.8",
         "478.9",
         "13.62",
         "1",
         "[<pybtls.lib.libbtls.Vehicle object at 0x7bff5d482f30>]"
        ],
        [
         "14",
         "8",
         "1",
         "61.4",
         "479.7",
         "31.56",
         "1",
         "[<pybtls.lib.libbtls.Vehicle object at 0x7bff5d482c70>]"
        ],
        [
         "15",
         "8",
         "2",
         "61.4",
         "479.7",
         "31.56",
         "1",
         "[<pybtls.lib.libbtls.Vehicle object at 0x7bff5d482d70>]"
        ],
        [
         "16",
         "9",
         "1",
         "51.1",
         "485.0",
         "11.08",
         "1",
         "[<pybtls.lib.libbtls.Vehicle object at 0x7bff5d3f57b0>]"
        ],
        [
         "17",
         "9",
         "2",
         "51.1",
         "485.0",
         "11.08",
         "1",
         "[<pybtls.lib.libbtls.Vehicle object at 0x7bff5d483bb0>]"
        ],
        [
         "18",
         "10",
         "1",
         "386.6",
         "546.7",
         "14.46",
         "1",
         "[<pybtls.lib.libbtls.Vehicle object at 0x7bff5d3d0330>]"
        ],
        [
         "19",
         "10",
         "2",
         "386.6",
         "546.7",
         "14.46",
         "1",
         "[<pybtls.lib.libbtls.Vehicle object at 0x7bff5d44bb70>]"
        ],
        [
         "20",
         "11",
         "1",
         "91.3",
         "612.2",
         "10.1",
         "1",
         "[<pybtls.lib.libbtls.Vehicle object at 0x7bff5d3d3ab0>]"
        ],
        [
         "21",
         "11",
         "2",
         "91.3",
         "612.2",
         "10.1",
         "1",
         "[<pybtls.lib.libbtls.Vehicle object at 0x7bff5d449670>]"
        ],
        [
         "22",
         "12",
         "1",
         "262.9",
         "672.5",
         "13.42",
         "1",
         "[<pybtls.lib.libbtls.Vehicle object at 0x7bff5d435430>]"
        ],
        [
         "23",
         "12",
         "2",
         "262.9",
         "672.5",
         "13.42",
         "1",
         "[<pybtls.lib.libbtls.Vehicle object at 0x7bff5d4342b0>]"
        ],
        [
         "24",
         "13",
         "1",
         "89.1",
         "774.6",
         "6.6",
         "1",
         "[<pybtls.lib.libbtls.Vehicle object at 0x7bff5d44aef0>]"
        ],
        [
         "25",
         "13",
         "2",
         "89.1",
         "774.6",
         "6.6",
         "1",
         "[<pybtls.lib.libbtls.Vehicle object at 0x7bff5d435970>]"
        ],
        [
         "26",
         "14",
         "1",
         "158.9",
         "917.7",
         "13.55",
         "1",
         "[<pybtls.lib.libbtls.Vehicle object at 0x7bff5d3dba30>]"
        ],
        [
         "27",
         "14",
         "2",
         "158.9",
         "917.7",
         "13.55",
         "1",
         "[<pybtls.lib.libbtls.Vehicle object at 0x7bff5d3dc5f0>]"
        ],
        [
         "28",
         "15",
         "1",
         "386.7",
         "962.4",
         "5.0",
         "1",
         "[<pybtls.lib.libbtls.Vehicle object at 0x7bff5d3e0b70>]"
        ],
        [
         "29",
         "15",
         "2",
         "386.7",
         "962.4",
         "5.0",
         "1",
         "[<pybtls.lib.libbtls.Vehicle object at 0x7bff5d3e3b30>]"
        ],
        [
         "30",
         "16",
         "1",
         "151.5",
         "985.6",
         "15.61",
         "1",
         "[<pybtls.lib.libbtls.Vehicle object at 0x7bff5d3dfab0>]"
        ],
        [
         "31",
         "16",
         "2",
         "151.5",
         "985.6",
         "15.61",
         "1",
         "[<pybtls.lib.libbtls.Vehicle object at 0x7bff5d3e09b0>]"
        ],
        [
         "32",
         "17",
         "1",
         "181.6",
         "1015.6",
         "14.49",
         "1",
         "[<pybtls.lib.libbtls.Vehicle object at 0x7bff5d3ba770>]"
        ],
        [
         "33",
         "17",
         "2",
         "181.6",
         "1015.6",
         "14.49",
         "1",
         "[<pybtls.lib.libbtls.Vehicle object at 0x7bff5d3bbab0>]"
        ],
        [
         "34",
         "18",
         "1",
         "835.7",
         "1099.5",
         "17.59",
         "1",
         "[<pybtls.lib.libbtls.Vehicle object at 0x7bff5d3b8170>]"
        ],
        [
         "35",
         "18",
         "2",
         "835.7",
         "1099.5",
         "17.59",
         "1",
         "[<pybtls.lib.libbtls.Vehicle object at 0x7bff5d3bb5f0>]"
        ],
        [
         "36",
         "19",
         "1",
         "123.3",
         "1188.2",
         "13.17",
         "1",
         "[<pybtls.lib.libbtls.Vehicle object at 0x7bff5d3ba970>]"
        ],
        [
         "37",
         "19",
         "2",
         "123.3",
         "1188.2",
         "13.17",
         "1",
         "[<pybtls.lib.libbtls.Vehicle object at 0x7bfefb841430>]"
        ],
        [
         "38",
         "20",
         "1",
         "164.1",
         "1241.2",
         "15.6",
         "1",
         "[<pybtls.lib.libbtls.Vehicle object at 0x7bfefb7d4c30>]"
        ],
        [
         "39",
         "20",
         "2",
         "164.1",
         "1241.2",
         "15.6",
         "1",
         "[<pybtls.lib.libbtls.Vehicle object at 0x7bfefb78feb0>]"
        ],
        [
         "40",
         "21",
         "1",
         "529.6",
         "1285.3",
         "10.75",
         "1",
         "[<pybtls.lib.libbtls.Vehicle object at 0x7bfefb76b4f0>]"
        ],
        [
         "41",
         "21",
         "2",
         "529.6",
         "1285.3",
         "10.75",
         "1",
         "[<pybtls.lib.libbtls.Vehicle object at 0x7bfefb76e270>]"
        ],
        [
         "42",
         "22",
         "1",
         "721.8",
         "1285.5",
         "15.23",
         "1",
         "[<pybtls.lib.libbtls.Vehicle object at 0x7bfefb770f70>]"
        ],
        [
         "43",
         "22",
         "2",
         "721.8",
         "1285.5",
         "15.23",
         "1",
         "[<pybtls.lib.libbtls.Vehicle object at 0x7bfefb77b5b0>]"
        ],
        [
         "44",
         "23",
         "1",
         "49.7",
         "1296.8",
         "11.65",
         "1",
         "[<pybtls.lib.libbtls.Vehicle object at 0x7bfefb7702f0>]"
        ],
        [
         "45",
         "23",
         "2",
         "49.7",
         "1296.8",
         "11.65",
         "1",
         "[<pybtls.lib.libbtls.Vehicle object at 0x7bfefb789af0>]"
        ],
        [
         "46",
         "24",
         "1",
         "127.0",
         "1306.2",
         "8.53",
         "1",
         "[<pybtls.lib.libbtls.Vehicle object at 0x7bff5d420370>]"
        ],
        [
         "47",
         "24",
         "2",
         "127.0",
         "1306.2",
         "8.53",
         "1",
         "[<pybtls.lib.libbtls.Vehicle object at 0x7bff5d420d70>]"
        ],
        [
         "48",
         "25",
         "1",
         "135.2",
         "1337.7",
         "11.29",
         "1",
         "[<pybtls.lib.libbtls.Vehicle object at 0x7bfefb792070>]"
        ],
        [
         "49",
         "25",
         "2",
         "135.2",
         "1337.7",
         "11.29",
         "1",
         "[<pybtls.lib.libbtls.Vehicle object at 0x7bfefb791370>]"
        ]
       ],
       "shape": {
        "columns": 7,
        "rows": 746238
       }
      },
      "text/html": [
       "<div>\n",
       "<style scoped>\n",
       "    .dataframe tbody tr th:only-of-type {\n",
       "        vertical-align: middle;\n",
       "    }\n",
       "\n",
       "    .dataframe tbody tr th {\n",
       "        vertical-align: top;\n",
       "    }\n",
       "\n",
       "    .dataframe thead th {\n",
       "        text-align: right;\n",
       "    }\n",
       "</style>\n",
       "<table border=\"1\" class=\"dataframe\">\n",
       "  <thead>\n",
       "    <tr style=\"text-align: right;\">\n",
       "      <th></th>\n",
       "      <th>Index</th>\n",
       "      <th>Effect</th>\n",
       "      <th>Value</th>\n",
       "      <th>Time</th>\n",
       "      <th>Position on Bridge</th>\n",
       "      <th>No. Trucks</th>\n",
       "      <th>Trucks</th>\n",
       "    </tr>\n",
       "  </thead>\n",
       "  <tbody>\n",
       "    <tr>\n",
       "      <th>0</th>\n",
       "      <td>1</td>\n",
       "      <td>1</td>\n",
       "      <td>110.7</td>\n",
       "      <td>43.2</td>\n",
       "      <td>6.98</td>\n",
       "      <td>1</td>\n",
       "      <td>[&lt;pybtls.lib.libbtls.Vehicle object at 0x7bff5...</td>\n",
       "    </tr>\n",
       "    <tr>\n",
       "      <th>1</th>\n",
       "      <td>1</td>\n",
       "      <td>2</td>\n",
       "      <td>110.7</td>\n",
       "      <td>43.2</td>\n",
       "      <td>6.98</td>\n",
       "      <td>1</td>\n",
       "      <td>[&lt;pybtls.lib.libbtls.Vehicle object at 0x7bff5...</td>\n",
       "    </tr>\n",
       "    <tr>\n",
       "      <th>2</th>\n",
       "      <td>2</td>\n",
       "      <td>1</td>\n",
       "      <td>138.3</td>\n",
       "      <td>159.0</td>\n",
       "      <td>15.15</td>\n",
       "      <td>1</td>\n",
       "      <td>[&lt;pybtls.lib.libbtls.Vehicle object at 0x7bff5...</td>\n",
       "    </tr>\n",
       "    <tr>\n",
       "      <th>3</th>\n",
       "      <td>2</td>\n",
       "      <td>2</td>\n",
       "      <td>138.3</td>\n",
       "      <td>159.0</td>\n",
       "      <td>15.15</td>\n",
       "      <td>1</td>\n",
       "      <td>[&lt;pybtls.lib.libbtls.Vehicle object at 0x7bff5...</td>\n",
       "    </tr>\n",
       "    <tr>\n",
       "      <th>4</th>\n",
       "      <td>3</td>\n",
       "      <td>1</td>\n",
       "      <td>44.8</td>\n",
       "      <td>317.3</td>\n",
       "      <td>6.95</td>\n",
       "      <td>1</td>\n",
       "      <td>[&lt;pybtls.lib.libbtls.Vehicle object at 0x7bff5...</td>\n",
       "    </tr>\n",
       "    <tr>\n",
       "      <th>...</th>\n",
       "      <td>...</td>\n",
       "      <td>...</td>\n",
       "      <td>...</td>\n",
       "      <td>...</td>\n",
       "      <td>...</td>\n",
       "      <td>...</td>\n",
       "      <td>...</td>\n",
       "    </tr>\n",
       "    <tr>\n",
       "      <th>746233</th>\n",
       "      <td>3117</td>\n",
       "      <td>2</td>\n",
       "      <td>137.8</td>\n",
       "      <td>21599915.0</td>\n",
       "      <td>13.79</td>\n",
       "      <td>1</td>\n",
       "      <td>[&lt;pybtls.lib.libbtls.Vehicle object at 0x7bff2...</td>\n",
       "    </tr>\n",
       "    <tr>\n",
       "      <th>746234</th>\n",
       "      <td>3118</td>\n",
       "      <td>1</td>\n",
       "      <td>18.6</td>\n",
       "      <td>21599915.7</td>\n",
       "      <td>30.66</td>\n",
       "      <td>1</td>\n",
       "      <td>[&lt;pybtls.lib.libbtls.Vehicle object at 0x7bff2...</td>\n",
       "    </tr>\n",
       "    <tr>\n",
       "      <th>746235</th>\n",
       "      <td>3118</td>\n",
       "      <td>2</td>\n",
       "      <td>18.6</td>\n",
       "      <td>21599915.7</td>\n",
       "      <td>30.66</td>\n",
       "      <td>1</td>\n",
       "      <td>[&lt;pybtls.lib.libbtls.Vehicle object at 0x7bff2...</td>\n",
       "    </tr>\n",
       "    <tr>\n",
       "      <th>746236</th>\n",
       "      <td>3119</td>\n",
       "      <td>1</td>\n",
       "      <td>134.2</td>\n",
       "      <td>21599929.9</td>\n",
       "      <td>14.15</td>\n",
       "      <td>1</td>\n",
       "      <td>[&lt;pybtls.lib.libbtls.Vehicle object at 0x7bff2...</td>\n",
       "    </tr>\n",
       "    <tr>\n",
       "      <th>746237</th>\n",
       "      <td>3119</td>\n",
       "      <td>2</td>\n",
       "      <td>134.2</td>\n",
       "      <td>21599929.9</td>\n",
       "      <td>14.15</td>\n",
       "      <td>1</td>\n",
       "      <td>[&lt;pybtls.lib.libbtls.Vehicle object at 0x7bff2...</td>\n",
       "    </tr>\n",
       "  </tbody>\n",
       "</table>\n",
       "<p>746238 rows × 7 columns</p>\n",
       "</div>"
      ],
      "text/plain": [
       "        Index  Effect  Value        Time  Position on Bridge  No. Trucks  \\\n",
       "0           1       1  110.7        43.2                6.98           1   \n",
       "1           1       2  110.7        43.2                6.98           1   \n",
       "2           2       1  138.3       159.0               15.15           1   \n",
       "3           2       2  138.3       159.0               15.15           1   \n",
       "4           3       1   44.8       317.3                6.95           1   \n",
       "...       ...     ...    ...         ...                 ...         ...   \n",
       "746233   3117       2  137.8  21599915.0               13.79           1   \n",
       "746234   3118       1   18.6  21599915.7               30.66           1   \n",
       "746235   3118       2   18.6  21599915.7               30.66           1   \n",
       "746236   3119       1  134.2  21599929.9               14.15           1   \n",
       "746237   3119       2  134.2  21599929.9               14.15           1   \n",
       "\n",
       "                                                   Trucks  \n",
       "0       [<pybtls.lib.libbtls.Vehicle object at 0x7bff5...  \n",
       "1       [<pybtls.lib.libbtls.Vehicle object at 0x7bff5...  \n",
       "2       [<pybtls.lib.libbtls.Vehicle object at 0x7bff5...  \n",
       "3       [<pybtls.lib.libbtls.Vehicle object at 0x7bff5...  \n",
       "4       [<pybtls.lib.libbtls.Vehicle object at 0x7bff5...  \n",
       "...                                                   ...  \n",
       "746233  [<pybtls.lib.libbtls.Vehicle object at 0x7bff2...  \n",
       "746234  [<pybtls.lib.libbtls.Vehicle object at 0x7bff2...  \n",
       "746235  [<pybtls.lib.libbtls.Vehicle object at 0x7bff2...  \n",
       "746236  [<pybtls.lib.libbtls.Vehicle object at 0x7bff2...  \n",
       "746237  [<pybtls.lib.libbtls.Vehicle object at 0x7bff2...  \n",
       "\n",
       "[746238 rows x 7 columns]"
      ]
     },
     "metadata": {},
     "output_type": "display_data"
    },
    {
     "name": "stdout",
     "output_type": "stream",
     "text": [
      "PT_V_20_2\n"
     ]
    },
    {
     "data": {
      "application/vnd.microsoft.datawrangler.viewer.v0+json": {
       "columns": [
        {
         "name": "index",
         "rawType": "int64",
         "type": "integer"
        },
        {
         "name": "Index",
         "rawType": "int64",
         "type": "integer"
        },
        {
         "name": "Effect",
         "rawType": "int64",
         "type": "integer"
        },
        {
         "name": "Value",
         "rawType": "float64",
         "type": "float"
        },
        {
         "name": "Time",
         "rawType": "float64",
         "type": "float"
        },
        {
         "name": "Position on Bridge",
         "rawType": "float64",
         "type": "float"
        },
        {
         "name": "No. Trucks",
         "rawType": "int64",
         "type": "integer"
        },
        {
         "name": "Trucks",
         "rawType": "object",
         "type": "unknown"
        }
       ],
       "ref": "75a9caaa-ebb6-4f67-b31b-b5225bd8455b",
       "rows": [
        [
         "0",
         "1",
         "1",
         "1080.3",
         "20293.1",
         "19.04",
         "1",
         "[<pybtls.lib.libbtls.Vehicle object at 0x7bfefb75c4b0>]"
        ],
        [
         "1",
         "1",
         "2",
         "1080.3",
         "20293.1",
         "19.04",
         "1",
         "[<pybtls.lib.libbtls.Vehicle object at 0x7bff53138af0>]"
        ],
        [
         "2",
         "2",
         "1",
         "1041.5",
         "65173.9",
         "21.38",
         "1",
         "[<pybtls.lib.libbtls.Vehicle object at 0x7bff532956b0>]"
        ],
        [
         "3",
         "2",
         "2",
         "1041.5",
         "65173.9",
         "21.38",
         "1",
         "[<pybtls.lib.libbtls.Vehicle object at 0x7bfefb84af30>]"
        ],
        [
         "4",
         "3",
         "1",
         "1086.1",
         "73798.3",
         "-1.64",
         "1",
         "[<pybtls.lib.libbtls.Vehicle object at 0x7bfefb7fe870>]"
        ],
        [
         "5",
         "3",
         "2",
         "1086.1",
         "73798.3",
         "-1.64",
         "1",
         "[<pybtls.lib.libbtls.Vehicle object at 0x7bfefb7cadb0>]"
        ],
        [
         "6",
         "4",
         "1",
         "1011.3",
         "78477.0",
         "19.85",
         "1",
         "[<pybtls.lib.libbtls.Vehicle object at 0x7bff532e73b0>]"
        ],
        [
         "7",
         "4",
         "2",
         "1011.3",
         "78477.0",
         "19.85",
         "1",
         "[<pybtls.lib.libbtls.Vehicle object at 0x7bff57f79af0>]"
        ],
        [
         "8",
         "5",
         "1",
         "1042.8",
         "91504.3",
         "-3.21",
         "1",
         "[<pybtls.lib.libbtls.Vehicle object at 0x7bff5c0b58b0>]"
        ],
        [
         "9",
         "5",
         "2",
         "1042.8",
         "91504.3",
         "-3.21",
         "1",
         "[<pybtls.lib.libbtls.Vehicle object at 0x7bff5c31bef0>]"
        ],
        [
         "10",
         "6",
         "1",
         "1116.7",
         "92111.7",
         "22.42",
         "1",
         "[<pybtls.lib.libbtls.Vehicle object at 0x7bff5cc9ddb0>]"
        ],
        [
         "11",
         "6",
         "2",
         "1116.7",
         "92111.7",
         "22.42",
         "1",
         "[<pybtls.lib.libbtls.Vehicle object at 0x7bff5ced9f70>]"
        ],
        [
         "12",
         "7",
         "1",
         "1156.8",
         "96013.5",
         "-2.21",
         "1",
         "[<pybtls.lib.libbtls.Vehicle object at 0x7bff5ced8c30>]"
        ],
        [
         "13",
         "7",
         "2",
         "1156.8",
         "96013.5",
         "-2.21",
         "1",
         "[<pybtls.lib.libbtls.Vehicle object at 0x7bff5d119570>]"
        ],
        [
         "14",
         "8",
         "1",
         "1007.5",
         "96927.5",
         "1.65",
         "1",
         "[<pybtls.lib.libbtls.Vehicle object at 0x7bff5c0b6a30>]"
        ],
        [
         "15",
         "8",
         "2",
         "1007.5",
         "96927.5",
         "1.65",
         "1",
         "[<pybtls.lib.libbtls.Vehicle object at 0x7bff5d11a870>]"
        ],
        [
         "16",
         "9",
         "1",
         "1098.6",
         "100500.6",
         "-1.88",
         "1",
         "[<pybtls.lib.libbtls.Vehicle object at 0x7bff53aea970>]"
        ],
        [
         "17",
         "9",
         "2",
         "1098.6",
         "100500.6",
         "-1.88",
         "1",
         "[<pybtls.lib.libbtls.Vehicle object at 0x7bff06f7f970>]"
        ],
        [
         "18",
         "10",
         "1",
         "1055.5",
         "101732.2",
         "19.79",
         "1",
         "[<pybtls.lib.libbtls.Vehicle object at 0x7bff568654b0>]"
        ],
        [
         "19",
         "10",
         "2",
         "1055.5",
         "101732.2",
         "19.79",
         "1",
         "[<pybtls.lib.libbtls.Vehicle object at 0x7bff53123730>]"
        ],
        [
         "20",
         "11",
         "1",
         "1020.0",
         "124270.0",
         "0.2",
         "1",
         "[<pybtls.lib.libbtls.Vehicle object at 0x7bff53112c70>]"
        ],
        [
         "21",
         "11",
         "2",
         "1020.0",
         "124270.0",
         "0.2",
         "1",
         "[<pybtls.lib.libbtls.Vehicle object at 0x7bff556d6270>]"
        ],
        [
         "22",
         "12",
         "1",
         "1026.2",
         "136146.9",
         "0.37",
         "1",
         "[<pybtls.lib.libbtls.Vehicle object at 0x7bff5566fa30>]"
        ],
        [
         "23",
         "12",
         "2",
         "1026.2",
         "136146.9",
         "0.37",
         "1",
         "[<pybtls.lib.libbtls.Vehicle object at 0x7bff556a91b0>]"
        ],
        [
         "24",
         "13",
         "1",
         "1050.0",
         "145204.6",
         "1.88",
         "1",
         "[<pybtls.lib.libbtls.Vehicle object at 0x7bff049371b0>]"
        ],
        [
         "25",
         "13",
         "2",
         "1050.0",
         "145204.6",
         "1.88",
         "1",
         "[<pybtls.lib.libbtls.Vehicle object at 0x7bff0495c1f0>]"
        ],
        [
         "26",
         "14",
         "1",
         "1000.9",
         "155973.5",
         "19.85",
         "1",
         "[<pybtls.lib.libbtls.Vehicle object at 0x7bff532e88b0>]"
        ],
        [
         "27",
         "14",
         "2",
         "1000.9",
         "155973.5",
         "19.85",
         "1",
         "[<pybtls.lib.libbtls.Vehicle object at 0x7bff532662f0>]"
        ],
        [
         "28",
         "15",
         "1",
         "1011.5",
         "157621.6",
         "0.08",
         "1",
         "[<pybtls.lib.libbtls.Vehicle object at 0x7bfefb7f6630>]"
        ],
        [
         "29",
         "15",
         "2",
         "1011.5",
         "157621.6",
         "0.08",
         "1",
         "[<pybtls.lib.libbtls.Vehicle object at 0x7bff57b0cf70>]"
        ],
        [
         "30",
         "16",
         "1",
         "1028.5",
         "161015.3",
         "18.54",
         "1",
         "[<pybtls.lib.libbtls.Vehicle object at 0x7bff5d448fb0>]"
        ],
        [
         "31",
         "16",
         "2",
         "1028.5",
         "161015.3",
         "18.54",
         "1",
         "[<pybtls.lib.libbtls.Vehicle object at 0x7bff5d3d83b0>]"
        ],
        [
         "32",
         "17",
         "1",
         "1072.9",
         "185424.6",
         "-1.05",
         "1",
         "[<pybtls.lib.libbtls.Vehicle object at 0x7bfefb825eb0>]"
        ],
        [
         "33",
         "17",
         "2",
         "1072.9",
         "185424.6",
         "-1.05",
         "1",
         "[<pybtls.lib.libbtls.Vehicle object at 0x7bfefb836070>]"
        ],
        [
         "34",
         "18",
         "1",
         "1135.9",
         "191177.8",
         "21.77",
         "1",
         "[<pybtls.lib.libbtls.Vehicle object at 0x7bfefb82a1f0>]"
        ],
        [
         "35",
         "18",
         "2",
         "1135.9",
         "191177.8",
         "21.77",
         "1",
         "[<pybtls.lib.libbtls.Vehicle object at 0x7bff53232a70>]"
        ],
        [
         "36",
         "19",
         "1",
         "1038.1",
         "197743.6",
         "23.22",
         "1",
         "[<pybtls.lib.libbtls.Vehicle object at 0x7bff532183f0>]"
        ],
        [
         "37",
         "19",
         "2",
         "1038.1",
         "197743.6",
         "23.22",
         "1",
         "[<pybtls.lib.libbtls.Vehicle object at 0x7bff53269cb0>]"
        ],
        [
         "38",
         "20",
         "1",
         "1120.4",
         "198423.9",
         "21.35",
         "1",
         "[<pybtls.lib.libbtls.Vehicle object at 0x7bff532840b0>]"
        ],
        [
         "39",
         "20",
         "2",
         "1120.4",
         "198423.9",
         "21.35",
         "1",
         "[<pybtls.lib.libbtls.Vehicle object at 0x7bff532ab4f0>]"
        ],
        [
         "40",
         "21",
         "1",
         "1096.0",
         "211549.0",
         "-2.14",
         "1",
         "[<pybtls.lib.libbtls.Vehicle object at 0x7bff532bd270>]"
        ],
        [
         "41",
         "21",
         "2",
         "1096.0",
         "211549.0",
         "-2.14",
         "1",
         "[<pybtls.lib.libbtls.Vehicle object at 0x7bff532df570>]"
        ],
        [
         "42",
         "22",
         "1",
         "1052.9",
         "214082.2",
         "18.53",
         "1",
         "[<pybtls.lib.libbtls.Vehicle object at 0x7bff532ca9f0>]"
        ],
        [
         "43",
         "22",
         "2",
         "1052.9",
         "214082.2",
         "18.53",
         "1",
         "[<pybtls.lib.libbtls.Vehicle object at 0x7bff0492a170>]"
        ],
        [
         "44",
         "23",
         "1",
         "1077.4",
         "217474.4",
         "-2.49",
         "2",
         "[<pybtls.lib.libbtls.Vehicle object at 0x7bff04967cb0>, <pybtls.lib.libbtls.Vehicle object at 0x7bff53235070>]"
        ],
        [
         "45",
         "23",
         "2",
         "1077.4",
         "217474.4",
         "-2.49",
         "2",
         "[<pybtls.lib.libbtls.Vehicle object at 0x7bff532bc870>, <pybtls.lib.libbtls.Vehicle object at 0x7bff0492ff70>]"
        ],
        [
         "46",
         "24",
         "1",
         "1076.1",
         "220614.1",
         "-2.49",
         "1",
         "[<pybtls.lib.libbtls.Vehicle object at 0x7bff049260f0>]"
        ],
        [
         "47",
         "24",
         "2",
         "1076.1",
         "220614.1",
         "-2.49",
         "1",
         "[<pybtls.lib.libbtls.Vehicle object at 0x7bff048a9330>]"
        ],
        [
         "48",
         "25",
         "1",
         "1037.8",
         "221040.3",
         "0.73",
         "1",
         "[<pybtls.lib.libbtls.Vehicle object at 0x7bff04917370>]"
        ],
        [
         "49",
         "25",
         "2",
         "1037.8",
         "221040.3",
         "0.73",
         "1",
         "[<pybtls.lib.libbtls.Vehicle object at 0x7bff048a5f30>]"
        ]
       ],
       "shape": {
        "columns": 7,
        "rows": 4108
       }
      },
      "text/html": [
       "<div>\n",
       "<style scoped>\n",
       "    .dataframe tbody tr th:only-of-type {\n",
       "        vertical-align: middle;\n",
       "    }\n",
       "\n",
       "    .dataframe tbody tr th {\n",
       "        vertical-align: top;\n",
       "    }\n",
       "\n",
       "    .dataframe thead th {\n",
       "        text-align: right;\n",
       "    }\n",
       "</style>\n",
       "<table border=\"1\" class=\"dataframe\">\n",
       "  <thead>\n",
       "    <tr style=\"text-align: right;\">\n",
       "      <th></th>\n",
       "      <th>Index</th>\n",
       "      <th>Effect</th>\n",
       "      <th>Value</th>\n",
       "      <th>Time</th>\n",
       "      <th>Position on Bridge</th>\n",
       "      <th>No. Trucks</th>\n",
       "      <th>Trucks</th>\n",
       "    </tr>\n",
       "  </thead>\n",
       "  <tbody>\n",
       "    <tr>\n",
       "      <th>0</th>\n",
       "      <td>1</td>\n",
       "      <td>1</td>\n",
       "      <td>1080.3</td>\n",
       "      <td>20293.1</td>\n",
       "      <td>19.04</td>\n",
       "      <td>1</td>\n",
       "      <td>[&lt;pybtls.lib.libbtls.Vehicle object at 0x7bfef...</td>\n",
       "    </tr>\n",
       "    <tr>\n",
       "      <th>1</th>\n",
       "      <td>1</td>\n",
       "      <td>2</td>\n",
       "      <td>1080.3</td>\n",
       "      <td>20293.1</td>\n",
       "      <td>19.04</td>\n",
       "      <td>1</td>\n",
       "      <td>[&lt;pybtls.lib.libbtls.Vehicle object at 0x7bff5...</td>\n",
       "    </tr>\n",
       "    <tr>\n",
       "      <th>2</th>\n",
       "      <td>2</td>\n",
       "      <td>1</td>\n",
       "      <td>1041.5</td>\n",
       "      <td>65173.9</td>\n",
       "      <td>21.38</td>\n",
       "      <td>1</td>\n",
       "      <td>[&lt;pybtls.lib.libbtls.Vehicle object at 0x7bff5...</td>\n",
       "    </tr>\n",
       "    <tr>\n",
       "      <th>3</th>\n",
       "      <td>2</td>\n",
       "      <td>2</td>\n",
       "      <td>1041.5</td>\n",
       "      <td>65173.9</td>\n",
       "      <td>21.38</td>\n",
       "      <td>1</td>\n",
       "      <td>[&lt;pybtls.lib.libbtls.Vehicle object at 0x7bfef...</td>\n",
       "    </tr>\n",
       "    <tr>\n",
       "      <th>4</th>\n",
       "      <td>3</td>\n",
       "      <td>1</td>\n",
       "      <td>1086.1</td>\n",
       "      <td>73798.3</td>\n",
       "      <td>-1.64</td>\n",
       "      <td>1</td>\n",
       "      <td>[&lt;pybtls.lib.libbtls.Vehicle object at 0x7bfef...</td>\n",
       "    </tr>\n",
       "    <tr>\n",
       "      <th>...</th>\n",
       "      <td>...</td>\n",
       "      <td>...</td>\n",
       "      <td>...</td>\n",
       "      <td>...</td>\n",
       "      <td>...</td>\n",
       "      <td>...</td>\n",
       "      <td>...</td>\n",
       "    </tr>\n",
       "    <tr>\n",
       "      <th>4103</th>\n",
       "      <td>15</td>\n",
       "      <td>2</td>\n",
       "      <td>1106.4</td>\n",
       "      <td>21552703.8</td>\n",
       "      <td>22.88</td>\n",
       "      <td>1</td>\n",
       "      <td>[&lt;pybtls.lib.libbtls.Vehicle object at 0x7bff5...</td>\n",
       "    </tr>\n",
       "    <tr>\n",
       "      <th>4104</th>\n",
       "      <td>16</td>\n",
       "      <td>1</td>\n",
       "      <td>1149.9</td>\n",
       "      <td>21553543.3</td>\n",
       "      <td>21.75</td>\n",
       "      <td>1</td>\n",
       "      <td>[&lt;pybtls.lib.libbtls.Vehicle object at 0x7bff5...</td>\n",
       "    </tr>\n",
       "    <tr>\n",
       "      <th>4105</th>\n",
       "      <td>16</td>\n",
       "      <td>2</td>\n",
       "      <td>1149.9</td>\n",
       "      <td>21553543.3</td>\n",
       "      <td>21.75</td>\n",
       "      <td>1</td>\n",
       "      <td>[&lt;pybtls.lib.libbtls.Vehicle object at 0x7bff5...</td>\n",
       "    </tr>\n",
       "    <tr>\n",
       "      <th>4106</th>\n",
       "      <td>17</td>\n",
       "      <td>1</td>\n",
       "      <td>1055.9</td>\n",
       "      <td>21553904.3</td>\n",
       "      <td>0.80</td>\n",
       "      <td>1</td>\n",
       "      <td>[&lt;pybtls.lib.libbtls.Vehicle object at 0x7bff5...</td>\n",
       "    </tr>\n",
       "    <tr>\n",
       "      <th>4107</th>\n",
       "      <td>17</td>\n",
       "      <td>2</td>\n",
       "      <td>1055.9</td>\n",
       "      <td>21553904.3</td>\n",
       "      <td>0.80</td>\n",
       "      <td>1</td>\n",
       "      <td>[&lt;pybtls.lib.libbtls.Vehicle object at 0x7bff5...</td>\n",
       "    </tr>\n",
       "  </tbody>\n",
       "</table>\n",
       "<p>4108 rows × 7 columns</p>\n",
       "</div>"
      ],
      "text/plain": [
       "      Index  Effect   Value        Time  Position on Bridge  No. Trucks  \\\n",
       "0         1       1  1080.3     20293.1               19.04           1   \n",
       "1         1       2  1080.3     20293.1               19.04           1   \n",
       "2         2       1  1041.5     65173.9               21.38           1   \n",
       "3         2       2  1041.5     65173.9               21.38           1   \n",
       "4         3       1  1086.1     73798.3               -1.64           1   \n",
       "...     ...     ...     ...         ...                 ...         ...   \n",
       "4103     15       2  1106.4  21552703.8               22.88           1   \n",
       "4104     16       1  1149.9  21553543.3               21.75           1   \n",
       "4105     16       2  1149.9  21553543.3               21.75           1   \n",
       "4106     17       1  1055.9  21553904.3                0.80           1   \n",
       "4107     17       2  1055.9  21553904.3                0.80           1   \n",
       "\n",
       "                                                 Trucks  \n",
       "0     [<pybtls.lib.libbtls.Vehicle object at 0x7bfef...  \n",
       "1     [<pybtls.lib.libbtls.Vehicle object at 0x7bff5...  \n",
       "2     [<pybtls.lib.libbtls.Vehicle object at 0x7bff5...  \n",
       "3     [<pybtls.lib.libbtls.Vehicle object at 0x7bfef...  \n",
       "4     [<pybtls.lib.libbtls.Vehicle object at 0x7bfef...  \n",
       "...                                                 ...  \n",
       "4103  [<pybtls.lib.libbtls.Vehicle object at 0x7bff5...  \n",
       "4104  [<pybtls.lib.libbtls.Vehicle object at 0x7bff5...  \n",
       "4105  [<pybtls.lib.libbtls.Vehicle object at 0x7bff5...  \n",
       "4106  [<pybtls.lib.libbtls.Vehicle object at 0x7bff5...  \n",
       "4107  [<pybtls.lib.libbtls.Vehicle object at 0x7bff5...  \n",
       "\n",
       "[4108 rows x 7 columns]"
      ]
     },
     "metadata": {},
     "output_type": "display_data"
    },
    {
     "name": "stdout",
     "output_type": "stream",
     "text": [
      "POT_summary\n",
      "PT_S_20_Eff_2\n"
     ]
    },
    {
     "data": {
      "application/vnd.microsoft.datawrangler.viewer.v0+json": {
       "columns": [
        {
         "name": "index",
         "rawType": "int64",
         "type": "integer"
        },
        {
         "name": "Peak Index",
         "rawType": "int64",
         "type": "integer"
        },
        {
         "name": "Time",
         "rawType": "float64",
         "type": "float"
        },
        {
         "name": "No. Trucks",
         "rawType": "int64",
         "type": "integer"
        },
        {
         "name": "Peak Value",
         "rawType": "float64",
         "type": "float"
        }
       ],
       "ref": "ddaa4ea4-b57a-4221-a716-05452d99a379",
       "rows": [
        [
         "0",
         "1",
         "20293.1",
         "1",
         "1080.3"
        ],
        [
         "1",
         "2",
         "65173.9",
         "1",
         "1041.5"
        ],
        [
         "2",
         "3",
         "73798.3",
         "1",
         "1086.1"
        ],
        [
         "3",
         "4",
         "78477.0",
         "1",
         "1011.3"
        ],
        [
         "4",
         "5",
         "91504.3",
         "1",
         "1042.8"
        ],
        [
         "5",
         "6",
         "92111.7",
         "1",
         "1116.7"
        ],
        [
         "6",
         "7",
         "96013.5",
         "1",
         "1156.8"
        ],
        [
         "7",
         "8",
         "96927.5",
         "1",
         "1007.5"
        ],
        [
         "8",
         "9",
         "100500.6",
         "1",
         "1098.6"
        ],
        [
         "9",
         "10",
         "101732.2",
         "1",
         "1055.5"
        ],
        [
         "10",
         "11",
         "124270.0",
         "1",
         "1020.0"
        ],
        [
         "11",
         "12",
         "136146.9",
         "1",
         "1026.2"
        ],
        [
         "12",
         "13",
         "145204.6",
         "1",
         "1050.0"
        ],
        [
         "13",
         "14",
         "155973.5",
         "1",
         "1000.9"
        ],
        [
         "14",
         "15",
         "157621.6",
         "1",
         "1011.5"
        ],
        [
         "15",
         "16",
         "161015.3",
         "1",
         "1028.5"
        ],
        [
         "16",
         "17",
         "185424.6",
         "1",
         "1072.9"
        ],
        [
         "17",
         "18",
         "191177.8",
         "1",
         "1135.9"
        ],
        [
         "18",
         "19",
         "197743.6",
         "1",
         "1038.1"
        ],
        [
         "19",
         "20",
         "198423.9",
         "1",
         "1120.4"
        ],
        [
         "20",
         "21",
         "211549.0",
         "1",
         "1096.0"
        ],
        [
         "21",
         "22",
         "214082.2",
         "1",
         "1052.9"
        ],
        [
         "22",
         "23",
         "217474.4",
         "2",
         "1077.4"
        ],
        [
         "23",
         "24",
         "220614.1",
         "1",
         "1076.1"
        ],
        [
         "24",
         "25",
         "221040.3",
         "1",
         "1037.8"
        ],
        [
         "25",
         "26",
         "235575.7",
         "1",
         "1055.3"
        ],
        [
         "26",
         "27",
         "255005.0",
         "1",
         "1027.5"
        ],
        [
         "27",
         "28",
         "256634.5",
         "1",
         "1019.0"
        ],
        [
         "28",
         "29",
         "267538.7",
         "1",
         "1035.2"
        ],
        [
         "29",
         "30",
         "283234.6",
         "1",
         "1106.1"
        ],
        [
         "30",
         "31",
         "303808.6",
         "1",
         "1048.3"
        ],
        [
         "31",
         "32",
         "306299.4",
         "1",
         "1040.0"
        ],
        [
         "32",
         "33",
         "307530.5",
         "1",
         "1081.2"
        ],
        [
         "33",
         "34",
         "310128.6",
         "1",
         "1079.3"
        ],
        [
         "34",
         "35",
         "311294.3",
         "1",
         "1147.4"
        ],
        [
         "35",
         "36",
         "319148.8",
         "1",
         "1130.0"
        ],
        [
         "36",
         "37",
         "323259.1",
         "1",
         "1015.0"
        ],
        [
         "37",
         "38",
         "323891.6",
         "1",
         "1071.5"
        ],
        [
         "38",
         "39",
         "336626.6",
         "1",
         "1055.2"
        ],
        [
         "39",
         "40",
         "353420.0",
         "1",
         "1184.0"
        ],
        [
         "40",
         "41",
         "356177.4",
         "1",
         "1101.6"
        ],
        [
         "41",
         "42",
         "371341.1",
         "1",
         "1093.0"
        ],
        [
         "42",
         "43",
         "380658.8",
         "1",
         "1057.4"
        ],
        [
         "43",
         "44",
         "394777.3",
         "1",
         "1072.8"
        ],
        [
         "44",
         "45",
         "403996.0",
         "3",
         "1011.6"
        ],
        [
         "45",
         "46",
         "411567.7",
         "1",
         "1132.1"
        ],
        [
         "46",
         "47",
         "431549.4",
         "1",
         "1081.2"
        ],
        [
         "47",
         "48",
         "439465.9",
         "1",
         "1077.3"
        ],
        [
         "48",
         "49",
         "446221.5",
         "1",
         "1023.6"
        ],
        [
         "49",
         "50",
         "458628.7",
         "1",
         "1008.5"
        ]
       ],
       "shape": {
        "columns": 4,
        "rows": 2054
       }
      },
      "text/html": [
       "<div>\n",
       "<style scoped>\n",
       "    .dataframe tbody tr th:only-of-type {\n",
       "        vertical-align: middle;\n",
       "    }\n",
       "\n",
       "    .dataframe tbody tr th {\n",
       "        vertical-align: top;\n",
       "    }\n",
       "\n",
       "    .dataframe thead th {\n",
       "        text-align: right;\n",
       "    }\n",
       "</style>\n",
       "<table border=\"1\" class=\"dataframe\">\n",
       "  <thead>\n",
       "    <tr style=\"text-align: right;\">\n",
       "      <th></th>\n",
       "      <th>Peak Index</th>\n",
       "      <th>Time</th>\n",
       "      <th>No. Trucks</th>\n",
       "      <th>Peak Value</th>\n",
       "    </tr>\n",
       "  </thead>\n",
       "  <tbody>\n",
       "    <tr>\n",
       "      <th>0</th>\n",
       "      <td>1</td>\n",
       "      <td>20293.1</td>\n",
       "      <td>1</td>\n",
       "      <td>1080.3</td>\n",
       "    </tr>\n",
       "    <tr>\n",
       "      <th>1</th>\n",
       "      <td>2</td>\n",
       "      <td>65173.9</td>\n",
       "      <td>1</td>\n",
       "      <td>1041.5</td>\n",
       "    </tr>\n",
       "    <tr>\n",
       "      <th>2</th>\n",
       "      <td>3</td>\n",
       "      <td>73798.3</td>\n",
       "      <td>1</td>\n",
       "      <td>1086.1</td>\n",
       "    </tr>\n",
       "    <tr>\n",
       "      <th>3</th>\n",
       "      <td>4</td>\n",
       "      <td>78477.0</td>\n",
       "      <td>1</td>\n",
       "      <td>1011.3</td>\n",
       "    </tr>\n",
       "    <tr>\n",
       "      <th>4</th>\n",
       "      <td>5</td>\n",
       "      <td>91504.3</td>\n",
       "      <td>1</td>\n",
       "      <td>1042.8</td>\n",
       "    </tr>\n",
       "    <tr>\n",
       "      <th>...</th>\n",
       "      <td>...</td>\n",
       "      <td>...</td>\n",
       "      <td>...</td>\n",
       "      <td>...</td>\n",
       "    </tr>\n",
       "    <tr>\n",
       "      <th>2049</th>\n",
       "      <td>13</td>\n",
       "      <td>21542593.7</td>\n",
       "      <td>1</td>\n",
       "      <td>1114.8</td>\n",
       "    </tr>\n",
       "    <tr>\n",
       "      <th>2050</th>\n",
       "      <td>14</td>\n",
       "      <td>21552315.9</td>\n",
       "      <td>1</td>\n",
       "      <td>1000.9</td>\n",
       "    </tr>\n",
       "    <tr>\n",
       "      <th>2051</th>\n",
       "      <td>15</td>\n",
       "      <td>21552703.8</td>\n",
       "      <td>1</td>\n",
       "      <td>1106.4</td>\n",
       "    </tr>\n",
       "    <tr>\n",
       "      <th>2052</th>\n",
       "      <td>16</td>\n",
       "      <td>21553543.3</td>\n",
       "      <td>1</td>\n",
       "      <td>1149.9</td>\n",
       "    </tr>\n",
       "    <tr>\n",
       "      <th>2053</th>\n",
       "      <td>17</td>\n",
       "      <td>21553904.3</td>\n",
       "      <td>1</td>\n",
       "      <td>1055.9</td>\n",
       "    </tr>\n",
       "  </tbody>\n",
       "</table>\n",
       "<p>2054 rows × 4 columns</p>\n",
       "</div>"
      ],
      "text/plain": [
       "      Peak Index        Time  No. Trucks  Peak Value\n",
       "0              1     20293.1           1      1080.3\n",
       "1              2     65173.9           1      1041.5\n",
       "2              3     73798.3           1      1086.1\n",
       "3              4     78477.0           1      1011.3\n",
       "4              5     91504.3           1      1042.8\n",
       "...          ...         ...         ...         ...\n",
       "2049          13  21542593.7           1      1114.8\n",
       "2050          14  21552315.9           1      1000.9\n",
       "2051          15  21552703.8           1      1106.4\n",
       "2052          16  21553543.3           1      1149.9\n",
       "2053          17  21553904.3           1      1055.9\n",
       "\n",
       "[2054 rows x 4 columns]"
      ]
     },
     "metadata": {},
     "output_type": "display_data"
    },
    {
     "name": "stdout",
     "output_type": "stream",
     "text": [
      "PT_S_20_Eff_1\n"
     ]
    },
    {
     "data": {
      "application/vnd.microsoft.datawrangler.viewer.v0+json": {
       "columns": [
        {
         "name": "index",
         "rawType": "int64",
         "type": "integer"
        },
        {
         "name": "Peak Index",
         "rawType": "int64",
         "type": "integer"
        },
        {
         "name": "Time",
         "rawType": "float64",
         "type": "float"
        },
        {
         "name": "No. Trucks",
         "rawType": "int64",
         "type": "integer"
        },
        {
         "name": "Peak Value",
         "rawType": "float64",
         "type": "float"
        }
       ],
       "ref": "2d9a2368-88fa-4431-9182-e75ba2f64da6",
       "rows": [
        [
         "0",
         "1",
         "43.2",
         "1",
         "110.7"
        ],
        [
         "1",
         "2",
         "159.0",
         "1",
         "138.3"
        ],
        [
         "2",
         "3",
         "317.3",
         "1",
         "44.8"
        ],
        [
         "3",
         "4",
         "346.7",
         "1",
         "318.2"
        ],
        [
         "4",
         "5",
         "347.4",
         "1",
         "33.5"
        ],
        [
         "5",
         "6",
         "456.1",
         "1",
         "285.8"
        ],
        [
         "6",
         "7",
         "478.9",
         "1",
         "340.8"
        ],
        [
         "7",
         "8",
         "479.7",
         "1",
         "61.4"
        ],
        [
         "8",
         "9",
         "485.0",
         "1",
         "51.1"
        ],
        [
         "9",
         "10",
         "546.7",
         "1",
         "386.6"
        ],
        [
         "10",
         "11",
         "612.2",
         "1",
         "91.3"
        ],
        [
         "11",
         "12",
         "672.5",
         "1",
         "262.9"
        ],
        [
         "12",
         "13",
         "774.6",
         "1",
         "89.1"
        ],
        [
         "13",
         "14",
         "917.7",
         "1",
         "158.9"
        ],
        [
         "14",
         "15",
         "962.4",
         "1",
         "386.7"
        ],
        [
         "15",
         "16",
         "985.6",
         "1",
         "151.5"
        ],
        [
         "16",
         "17",
         "1015.6",
         "1",
         "181.6"
        ],
        [
         "17",
         "18",
         "1099.5",
         "1",
         "835.7"
        ],
        [
         "18",
         "19",
         "1188.2",
         "1",
         "123.3"
        ],
        [
         "19",
         "20",
         "1241.2",
         "1",
         "164.1"
        ],
        [
         "20",
         "21",
         "1285.3",
         "1",
         "529.6"
        ],
        [
         "21",
         "22",
         "1285.5",
         "1",
         "721.8"
        ],
        [
         "22",
         "23",
         "1296.8",
         "1",
         "49.7"
        ],
        [
         "23",
         "24",
         "1306.2",
         "1",
         "127.0"
        ],
        [
         "24",
         "25",
         "1337.7",
         "1",
         "135.2"
        ],
        [
         "25",
         "26",
         "1524.6",
         "1",
         "119.5"
        ],
        [
         "26",
         "27",
         "1525.7",
         "1",
         "145.9"
        ],
        [
         "27",
         "28",
         "1530.3",
         "1",
         "49.1"
        ],
        [
         "28",
         "29",
         "1593.1",
         "1",
         "130.7"
        ],
        [
         "29",
         "30",
         "1606.4",
         "1",
         "155.3"
        ],
        [
         "30",
         "31",
         "1607.3",
         "1",
         "44.5"
        ],
        [
         "31",
         "32",
         "1720.0",
         "1",
         "188.2"
        ],
        [
         "32",
         "33",
         "1724.4",
         "1",
         "405.9"
        ],
        [
         "33",
         "34",
         "1740.9",
         "1",
         "556.0"
        ],
        [
         "34",
         "35",
         "1789.6",
         "1",
         "436.8"
        ],
        [
         "35",
         "36",
         "1793.3",
         "1",
         "355.9"
        ],
        [
         "36",
         "37",
         "1802.9",
         "1",
         "444.8"
        ],
        [
         "37",
         "38",
         "1811.0",
         "1",
         "91.8"
        ],
        [
         "38",
         "39",
         "1842.1",
         "1",
         "93.1"
        ],
        [
         "39",
         "40",
         "1933.5",
         "1",
         "153.8"
        ],
        [
         "40",
         "41",
         "1997.8",
         "1",
         "111.1"
        ],
        [
         "41",
         "42",
         "2043.9",
         "1",
         "147.6"
        ],
        [
         "42",
         "43",
         "2064.9",
         "1",
         "117.6"
        ],
        [
         "43",
         "44",
         "2118.8",
         "1",
         "247.1"
        ],
        [
         "44",
         "45",
         "2246.9",
         "1",
         "124.6"
        ],
        [
         "45",
         "46",
         "2286.5",
         "1",
         "300.8"
        ],
        [
         "46",
         "47",
         "2346.0",
         "1",
         "65.3"
        ],
        [
         "47",
         "48",
         "2411.5",
         "1",
         "78.0"
        ],
        [
         "48",
         "49",
         "2464.8",
         "1",
         "123.1"
        ],
        [
         "49",
         "50",
         "2468.1",
         "1",
         "108.1"
        ]
       ],
       "shape": {
        "columns": 4,
        "rows": 373119
       }
      },
      "text/html": [
       "<div>\n",
       "<style scoped>\n",
       "    .dataframe tbody tr th:only-of-type {\n",
       "        vertical-align: middle;\n",
       "    }\n",
       "\n",
       "    .dataframe tbody tr th {\n",
       "        vertical-align: top;\n",
       "    }\n",
       "\n",
       "    .dataframe thead th {\n",
       "        text-align: right;\n",
       "    }\n",
       "</style>\n",
       "<table border=\"1\" class=\"dataframe\">\n",
       "  <thead>\n",
       "    <tr style=\"text-align: right;\">\n",
       "      <th></th>\n",
       "      <th>Peak Index</th>\n",
       "      <th>Time</th>\n",
       "      <th>No. Trucks</th>\n",
       "      <th>Peak Value</th>\n",
       "    </tr>\n",
       "  </thead>\n",
       "  <tbody>\n",
       "    <tr>\n",
       "      <th>0</th>\n",
       "      <td>1</td>\n",
       "      <td>43.2</td>\n",
       "      <td>1</td>\n",
       "      <td>110.7</td>\n",
       "    </tr>\n",
       "    <tr>\n",
       "      <th>1</th>\n",
       "      <td>2</td>\n",
       "      <td>159.0</td>\n",
       "      <td>1</td>\n",
       "      <td>138.3</td>\n",
       "    </tr>\n",
       "    <tr>\n",
       "      <th>2</th>\n",
       "      <td>3</td>\n",
       "      <td>317.3</td>\n",
       "      <td>1</td>\n",
       "      <td>44.8</td>\n",
       "    </tr>\n",
       "    <tr>\n",
       "      <th>3</th>\n",
       "      <td>4</td>\n",
       "      <td>346.7</td>\n",
       "      <td>1</td>\n",
       "      <td>318.2</td>\n",
       "    </tr>\n",
       "    <tr>\n",
       "      <th>4</th>\n",
       "      <td>5</td>\n",
       "      <td>347.4</td>\n",
       "      <td>1</td>\n",
       "      <td>33.5</td>\n",
       "    </tr>\n",
       "    <tr>\n",
       "      <th>...</th>\n",
       "      <td>...</td>\n",
       "      <td>...</td>\n",
       "      <td>...</td>\n",
       "      <td>...</td>\n",
       "    </tr>\n",
       "    <tr>\n",
       "      <th>373114</th>\n",
       "      <td>3115</td>\n",
       "      <td>21599857.3</td>\n",
       "      <td>1</td>\n",
       "      <td>813.6</td>\n",
       "    </tr>\n",
       "    <tr>\n",
       "      <th>373115</th>\n",
       "      <td>3116</td>\n",
       "      <td>21599877.1</td>\n",
       "      <td>1</td>\n",
       "      <td>847.5</td>\n",
       "    </tr>\n",
       "    <tr>\n",
       "      <th>373116</th>\n",
       "      <td>3117</td>\n",
       "      <td>21599915.0</td>\n",
       "      <td>1</td>\n",
       "      <td>137.8</td>\n",
       "    </tr>\n",
       "    <tr>\n",
       "      <th>373117</th>\n",
       "      <td>3118</td>\n",
       "      <td>21599915.7</td>\n",
       "      <td>1</td>\n",
       "      <td>18.6</td>\n",
       "    </tr>\n",
       "    <tr>\n",
       "      <th>373118</th>\n",
       "      <td>3119</td>\n",
       "      <td>21599929.9</td>\n",
       "      <td>1</td>\n",
       "      <td>134.2</td>\n",
       "    </tr>\n",
       "  </tbody>\n",
       "</table>\n",
       "<p>373119 rows × 4 columns</p>\n",
       "</div>"
      ],
      "text/plain": [
       "        Peak Index        Time  No. Trucks  Peak Value\n",
       "0                1        43.2           1       110.7\n",
       "1                2       159.0           1       138.3\n",
       "2                3       317.3           1        44.8\n",
       "3                4       346.7           1       318.2\n",
       "4                5       347.4           1        33.5\n",
       "...            ...         ...         ...         ...\n",
       "373114        3115  21599857.3           1       813.6\n",
       "373115        3116  21599877.1           1       847.5\n",
       "373116        3117  21599915.0           1       137.8\n",
       "373117        3118  21599915.7           1        18.6\n",
       "373118        3119  21599929.9           1       134.2\n",
       "\n",
       "[373119 rows x 4 columns]"
      ]
     },
     "metadata": {},
     "output_type": "display_data"
    },
    {
     "name": "stdout",
     "output_type": "stream",
     "text": [
      "POT_counter\n",
      "PT_C_20\n"
     ]
    },
    {
     "data": {
      "application/vnd.microsoft.datawrangler.viewer.v0+json": {
       "columns": [
        {
         "name": "index",
         "rawType": "int64",
         "type": "integer"
        },
        {
         "name": "Block",
         "rawType": "int64",
         "type": "integer"
        },
        {
         "name": "Effect 1",
         "rawType": "int64",
         "type": "integer"
        },
        {
         "name": "Effect 2",
         "rawType": "int64",
         "type": "integer"
        }
       ],
       "ref": "82ac7b33-b659-4729-859f-1aaa5493f7f7",
       "rows": [
        [
         "0",
         "1",
         "1453",
         "4"
        ],
        [
         "1",
         "2",
         "1498",
         "12"
        ],
        [
         "2",
         "3",
         "1455",
         "12"
        ],
        [
         "3",
         "4",
         "1570",
         "11"
        ],
        [
         "4",
         "5",
         "1424",
         "8"
        ],
        [
         "5",
         "6",
         "1482",
         "8"
        ],
        [
         "6",
         "7",
         "1118",
         "9"
        ],
        [
         "7",
         "7",
         "333",
         "2"
        ],
        [
         "8",
         "8",
         "1556",
         "9"
        ],
        [
         "9",
         "9",
         "1424",
         "11"
        ],
        [
         "10",
         "10",
         "1502",
         "8"
        ],
        [
         "11",
         "11",
         "1411",
         "8"
        ],
        [
         "12",
         "12",
         "1469",
         "6"
        ],
        [
         "13",
         "13",
         "1420",
         "5"
        ],
        [
         "14",
         "14",
         "885",
         "4"
        ],
        [
         "15",
         "14",
         "643",
         "4"
        ],
        [
         "16",
         "15",
         "1424",
         "7"
        ],
        [
         "17",
         "16",
         "1519",
         "7"
        ],
        [
         "18",
         "17",
         "1541",
         "8"
        ],
        [
         "19",
         "18",
         "1494",
         "9"
        ],
        [
         "20",
         "19",
         "1511",
         "5"
        ],
        [
         "21",
         "20",
         "1512",
         "5"
        ],
        [
         "22",
         "21",
         "356",
         "0"
        ],
        [
         "23",
         "21",
         "1126",
         "2"
        ],
        [
         "24",
         "22",
         "1547",
         "12"
        ],
        [
         "25",
         "23",
         "1407",
         "8"
        ],
        [
         "26",
         "24",
         "1540",
         "11"
        ],
        [
         "27",
         "25",
         "1465",
         "4"
        ],
        [
         "28",
         "26",
         "1471",
         "3"
        ],
        [
         "29",
         "27",
         "1415",
         "11"
        ],
        [
         "30",
         "28",
         "29",
         "0"
        ],
        [
         "31",
         "28",
         "1546",
         "6"
        ],
        [
         "32",
         "29",
         "1484",
         "10"
        ],
        [
         "33",
         "30",
         "1489",
         "10"
        ],
        [
         "34",
         "31",
         "1414",
         "8"
        ],
        [
         "35",
         "32",
         "1424",
         "9"
        ],
        [
         "36",
         "33",
         "1546",
         "7"
        ],
        [
         "37",
         "34",
         "1097",
         "6"
        ],
        [
         "38",
         "34",
         "320",
         "1"
        ],
        [
         "39",
         "35",
         "1447",
         "8"
        ],
        [
         "40",
         "36",
         "1485",
         "6"
        ],
        [
         "41",
         "37",
         "1536",
         "4"
        ],
        [
         "42",
         "38",
         "1477",
         "10"
        ],
        [
         "43",
         "39",
         "1524",
         "4"
        ],
        [
         "44",
         "40",
         "1525",
         "6"
        ],
        [
         "45",
         "41",
         "686",
         "3"
        ],
        [
         "46",
         "41",
         "817",
         "6"
        ],
        [
         "47",
         "42",
         "1526",
         "9"
        ],
        [
         "48",
         "43",
         "1520",
         "8"
        ],
        [
         "49",
         "44",
         "1450",
         "1"
        ]
       ],
       "shape": {
        "columns": 3,
        "rows": 287
       }
      },
      "text/html": [
       "<div>\n",
       "<style scoped>\n",
       "    .dataframe tbody tr th:only-of-type {\n",
       "        vertical-align: middle;\n",
       "    }\n",
       "\n",
       "    .dataframe tbody tr th {\n",
       "        vertical-align: top;\n",
       "    }\n",
       "\n",
       "    .dataframe thead th {\n",
       "        text-align: right;\n",
       "    }\n",
       "</style>\n",
       "<table border=\"1\" class=\"dataframe\">\n",
       "  <thead>\n",
       "    <tr style=\"text-align: right;\">\n",
       "      <th></th>\n",
       "      <th>Block</th>\n",
       "      <th>Effect 1</th>\n",
       "      <th>Effect 2</th>\n",
       "    </tr>\n",
       "  </thead>\n",
       "  <tbody>\n",
       "    <tr>\n",
       "      <th>0</th>\n",
       "      <td>1</td>\n",
       "      <td>1453</td>\n",
       "      <td>4</td>\n",
       "    </tr>\n",
       "    <tr>\n",
       "      <th>1</th>\n",
       "      <td>2</td>\n",
       "      <td>1498</td>\n",
       "      <td>12</td>\n",
       "    </tr>\n",
       "    <tr>\n",
       "      <th>2</th>\n",
       "      <td>3</td>\n",
       "      <td>1455</td>\n",
       "      <td>12</td>\n",
       "    </tr>\n",
       "    <tr>\n",
       "      <th>3</th>\n",
       "      <td>4</td>\n",
       "      <td>1570</td>\n",
       "      <td>11</td>\n",
       "    </tr>\n",
       "    <tr>\n",
       "      <th>4</th>\n",
       "      <td>5</td>\n",
       "      <td>1424</td>\n",
       "      <td>8</td>\n",
       "    </tr>\n",
       "    <tr>\n",
       "      <th>...</th>\n",
       "      <td>...</td>\n",
       "      <td>...</td>\n",
       "      <td>...</td>\n",
       "    </tr>\n",
       "    <tr>\n",
       "      <th>282</th>\n",
       "      <td>247</td>\n",
       "      <td>1541</td>\n",
       "      <td>4</td>\n",
       "    </tr>\n",
       "    <tr>\n",
       "      <th>283</th>\n",
       "      <td>248</td>\n",
       "      <td>1313</td>\n",
       "      <td>6</td>\n",
       "    </tr>\n",
       "    <tr>\n",
       "      <th>284</th>\n",
       "      <td>248</td>\n",
       "      <td>198</td>\n",
       "      <td>0</td>\n",
       "    </tr>\n",
       "    <tr>\n",
       "      <th>285</th>\n",
       "      <td>249</td>\n",
       "      <td>1497</td>\n",
       "      <td>10</td>\n",
       "    </tr>\n",
       "    <tr>\n",
       "      <th>286</th>\n",
       "      <td>250</td>\n",
       "      <td>1424</td>\n",
       "      <td>7</td>\n",
       "    </tr>\n",
       "  </tbody>\n",
       "</table>\n",
       "<p>287 rows × 3 columns</p>\n",
       "</div>"
      ],
      "text/plain": [
       "     Block  Effect 1  Effect 2\n",
       "0        1      1453         4\n",
       "1        2      1498        12\n",
       "2        3      1455        12\n",
       "3        4      1570        11\n",
       "4        5      1424         8\n",
       "..     ...       ...       ...\n",
       "282    247      1541         4\n",
       "283    248      1313         6\n",
       "284    248       198         0\n",
       "285    249      1497        10\n",
       "286    250      1424         7\n",
       "\n",
       "[287 rows x 3 columns]"
      ]
     },
     "metadata": {},
     "output_type": "display_data"
    },
    {
     "name": "stdout",
     "output_type": "stream",
     "text": [
      "fatigue_rainflow\n",
      "RC_20_1\n"
     ]
    },
    {
     "data": {
      "application/vnd.microsoft.datawrangler.viewer.v0+json": {
       "columns": [
        {
         "name": "index",
         "rawType": "int64",
         "type": "integer"
        },
        {
         "name": "Amplitude",
         "rawType": "int64",
         "type": "integer"
        },
        {
         "name": "No. Cycles",
         "rawType": "float64",
         "type": "float"
        }
       ],
       "ref": "81a21e1b-c3bf-4ee4-8a9e-24195460d054",
       "rows": [
        [
         "0",
         "100",
         "1169.5"
        ],
        [
         "1",
         "101",
         "1229.5"
        ],
        [
         "2",
         "102",
         "1306.0"
        ],
        [
         "3",
         "103",
         "1416.0"
        ],
        [
         "4",
         "104",
         "1474.5"
        ],
        [
         "5",
         "105",
         "1592.5"
        ],
        [
         "6",
         "106",
         "1610.0"
        ],
        [
         "7",
         "107",
         "1653.5"
        ],
        [
         "8",
         "108",
         "1616.0"
        ],
        [
         "9",
         "109",
         "1617.0"
        ],
        [
         "10",
         "110",
         "1611.5"
        ],
        [
         "11",
         "111",
         "1537.0"
        ],
        [
         "12",
         "112",
         "1537.0"
        ],
        [
         "13",
         "113",
         "1578.5"
        ],
        [
         "14",
         "114",
         "1548.0"
        ],
        [
         "15",
         "115",
         "1556.0"
        ],
        [
         "16",
         "116",
         "1530.5"
        ],
        [
         "17",
         "117",
         "1640.5"
        ],
        [
         "18",
         "118",
         "1600.0"
        ],
        [
         "19",
         "119",
         "1670.5"
        ],
        [
         "20",
         "120",
         "1736.0"
        ],
        [
         "21",
         "121",
         "1753.5"
        ],
        [
         "22",
         "122",
         "1774.5"
        ],
        [
         "23",
         "123",
         "1808.5"
        ],
        [
         "24",
         "124",
         "1847.5"
        ],
        [
         "25",
         "125",
         "1855.0"
        ],
        [
         "26",
         "126",
         "1937.0"
        ],
        [
         "27",
         "127",
         "1842.5"
        ],
        [
         "28",
         "128",
         "1848.5"
        ],
        [
         "29",
         "129",
         "1923.0"
        ],
        [
         "30",
         "130",
         "1930.0"
        ],
        [
         "31",
         "131",
         "1858.5"
        ],
        [
         "32",
         "132",
         "1834.5"
        ],
        [
         "33",
         "133",
         "1860.0"
        ],
        [
         "34",
         "134",
         "1828.5"
        ],
        [
         "35",
         "135",
         "1807.0"
        ],
        [
         "36",
         "136",
         "1745.0"
        ],
        [
         "37",
         "137",
         "1739.5"
        ],
        [
         "38",
         "138",
         "1708.5"
        ],
        [
         "39",
         "139",
         "1689.0"
        ],
        [
         "40",
         "140",
         "1589.5"
        ],
        [
         "41",
         "141",
         "1566.5"
        ],
        [
         "42",
         "142",
         "1531.5"
        ],
        [
         "43",
         "143",
         "1505.0"
        ],
        [
         "44",
         "144",
         "1578.5"
        ],
        [
         "45",
         "145",
         "1481.0"
        ],
        [
         "46",
         "146",
         "1513.5"
        ],
        [
         "47",
         "147",
         "1468.0"
        ],
        [
         "48",
         "148",
         "1459.5"
        ],
        [
         "49",
         "149",
         "1386.0"
        ]
       ],
       "shape": {
        "columns": 2,
        "rows": 1106
       }
      },
      "text/html": [
       "<div>\n",
       "<style scoped>\n",
       "    .dataframe tbody tr th:only-of-type {\n",
       "        vertical-align: middle;\n",
       "    }\n",
       "\n",
       "    .dataframe tbody tr th {\n",
       "        vertical-align: top;\n",
       "    }\n",
       "\n",
       "    .dataframe thead th {\n",
       "        text-align: right;\n",
       "    }\n",
       "</style>\n",
       "<table border=\"1\" class=\"dataframe\">\n",
       "  <thead>\n",
       "    <tr style=\"text-align: right;\">\n",
       "      <th></th>\n",
       "      <th>Amplitude</th>\n",
       "      <th>No. Cycles</th>\n",
       "    </tr>\n",
       "  </thead>\n",
       "  <tbody>\n",
       "    <tr>\n",
       "      <th>0</th>\n",
       "      <td>100</td>\n",
       "      <td>1169.5</td>\n",
       "    </tr>\n",
       "    <tr>\n",
       "      <th>1</th>\n",
       "      <td>101</td>\n",
       "      <td>1229.5</td>\n",
       "    </tr>\n",
       "    <tr>\n",
       "      <th>2</th>\n",
       "      <td>102</td>\n",
       "      <td>1306.0</td>\n",
       "    </tr>\n",
       "    <tr>\n",
       "      <th>3</th>\n",
       "      <td>103</td>\n",
       "      <td>1416.0</td>\n",
       "    </tr>\n",
       "    <tr>\n",
       "      <th>4</th>\n",
       "      <td>104</td>\n",
       "      <td>1474.5</td>\n",
       "    </tr>\n",
       "    <tr>\n",
       "      <th>...</th>\n",
       "      <td>...</td>\n",
       "      <td>...</td>\n",
       "    </tr>\n",
       "    <tr>\n",
       "      <th>1101</th>\n",
       "      <td>1357</td>\n",
       "      <td>0.5</td>\n",
       "    </tr>\n",
       "    <tr>\n",
       "      <th>1102</th>\n",
       "      <td>1385</td>\n",
       "      <td>0.5</td>\n",
       "    </tr>\n",
       "    <tr>\n",
       "      <th>1103</th>\n",
       "      <td>1423</td>\n",
       "      <td>0.5</td>\n",
       "    </tr>\n",
       "    <tr>\n",
       "      <th>1104</th>\n",
       "      <td>1471</td>\n",
       "      <td>0.5</td>\n",
       "    </tr>\n",
       "    <tr>\n",
       "      <th>1105</th>\n",
       "      <td>1515</td>\n",
       "      <td>0.5</td>\n",
       "    </tr>\n",
       "  </tbody>\n",
       "</table>\n",
       "<p>1106 rows × 2 columns</p>\n",
       "</div>"
      ],
      "text/plain": [
       "      Amplitude  No. Cycles\n",
       "0           100      1169.5\n",
       "1           101      1229.5\n",
       "2           102      1306.0\n",
       "3           103      1416.0\n",
       "4           104      1474.5\n",
       "...         ...         ...\n",
       "1101       1357         0.5\n",
       "1102       1385         0.5\n",
       "1103       1423         0.5\n",
       "1104       1471         0.5\n",
       "1105       1515         0.5\n",
       "\n",
       "[1106 rows x 2 columns]"
      ]
     },
     "metadata": {},
     "output_type": "display_data"
    },
    {
     "name": "stdout",
     "output_type": "stream",
     "text": [
      "RC_20_2\n"
     ]
    },
    {
     "data": {
      "application/vnd.microsoft.datawrangler.viewer.v0+json": {
       "columns": [
        {
         "name": "index",
         "rawType": "int64",
         "type": "integer"
        },
        {
         "name": "Amplitude",
         "rawType": "int64",
         "type": "integer"
        },
        {
         "name": "No. Cycles",
         "rawType": "float64",
         "type": "float"
        }
       ],
       "ref": "80239277-c1a4-4fd7-8077-1d000c02fbc7",
       "rows": [
        [
         "0",
         "100",
         "1169.5"
        ],
        [
         "1",
         "101",
         "1229.5"
        ],
        [
         "2",
         "102",
         "1306.0"
        ],
        [
         "3",
         "103",
         "1416.0"
        ],
        [
         "4",
         "104",
         "1474.5"
        ],
        [
         "5",
         "105",
         "1592.5"
        ],
        [
         "6",
         "106",
         "1610.0"
        ],
        [
         "7",
         "107",
         "1653.5"
        ],
        [
         "8",
         "108",
         "1616.0"
        ],
        [
         "9",
         "109",
         "1617.0"
        ],
        [
         "10",
         "110",
         "1611.5"
        ],
        [
         "11",
         "111",
         "1537.0"
        ],
        [
         "12",
         "112",
         "1537.0"
        ],
        [
         "13",
         "113",
         "1578.5"
        ],
        [
         "14",
         "114",
         "1548.0"
        ],
        [
         "15",
         "115",
         "1556.0"
        ],
        [
         "16",
         "116",
         "1530.5"
        ],
        [
         "17",
         "117",
         "1640.5"
        ],
        [
         "18",
         "118",
         "1600.0"
        ],
        [
         "19",
         "119",
         "1670.5"
        ],
        [
         "20",
         "120",
         "1736.0"
        ],
        [
         "21",
         "121",
         "1753.5"
        ],
        [
         "22",
         "122",
         "1774.5"
        ],
        [
         "23",
         "123",
         "1808.5"
        ],
        [
         "24",
         "124",
         "1847.5"
        ],
        [
         "25",
         "125",
         "1855.0"
        ],
        [
         "26",
         "126",
         "1937.0"
        ],
        [
         "27",
         "127",
         "1842.5"
        ],
        [
         "28",
         "128",
         "1848.5"
        ],
        [
         "29",
         "129",
         "1923.0"
        ],
        [
         "30",
         "130",
         "1930.0"
        ],
        [
         "31",
         "131",
         "1858.5"
        ],
        [
         "32",
         "132",
         "1834.5"
        ],
        [
         "33",
         "133",
         "1860.0"
        ],
        [
         "34",
         "134",
         "1828.5"
        ],
        [
         "35",
         "135",
         "1807.0"
        ],
        [
         "36",
         "136",
         "1745.0"
        ],
        [
         "37",
         "137",
         "1739.5"
        ],
        [
         "38",
         "138",
         "1708.5"
        ],
        [
         "39",
         "139",
         "1689.0"
        ],
        [
         "40",
         "140",
         "1589.5"
        ],
        [
         "41",
         "141",
         "1566.5"
        ],
        [
         "42",
         "142",
         "1531.5"
        ],
        [
         "43",
         "143",
         "1505.0"
        ],
        [
         "44",
         "144",
         "1578.5"
        ],
        [
         "45",
         "145",
         "1481.0"
        ],
        [
         "46",
         "146",
         "1513.5"
        ],
        [
         "47",
         "147",
         "1468.0"
        ],
        [
         "48",
         "148",
         "1459.5"
        ],
        [
         "49",
         "149",
         "1386.0"
        ]
       ],
       "shape": {
        "columns": 2,
        "rows": 1106
       }
      },
      "text/html": [
       "<div>\n",
       "<style scoped>\n",
       "    .dataframe tbody tr th:only-of-type {\n",
       "        vertical-align: middle;\n",
       "    }\n",
       "\n",
       "    .dataframe tbody tr th {\n",
       "        vertical-align: top;\n",
       "    }\n",
       "\n",
       "    .dataframe thead th {\n",
       "        text-align: right;\n",
       "    }\n",
       "</style>\n",
       "<table border=\"1\" class=\"dataframe\">\n",
       "  <thead>\n",
       "    <tr style=\"text-align: right;\">\n",
       "      <th></th>\n",
       "      <th>Amplitude</th>\n",
       "      <th>No. Cycles</th>\n",
       "    </tr>\n",
       "  </thead>\n",
       "  <tbody>\n",
       "    <tr>\n",
       "      <th>0</th>\n",
       "      <td>100</td>\n",
       "      <td>1169.5</td>\n",
       "    </tr>\n",
       "    <tr>\n",
       "      <th>1</th>\n",
       "      <td>101</td>\n",
       "      <td>1229.5</td>\n",
       "    </tr>\n",
       "    <tr>\n",
       "      <th>2</th>\n",
       "      <td>102</td>\n",
       "      <td>1306.0</td>\n",
       "    </tr>\n",
       "    <tr>\n",
       "      <th>3</th>\n",
       "      <td>103</td>\n",
       "      <td>1416.0</td>\n",
       "    </tr>\n",
       "    <tr>\n",
       "      <th>4</th>\n",
       "      <td>104</td>\n",
       "      <td>1474.5</td>\n",
       "    </tr>\n",
       "    <tr>\n",
       "      <th>...</th>\n",
       "      <td>...</td>\n",
       "      <td>...</td>\n",
       "    </tr>\n",
       "    <tr>\n",
       "      <th>1101</th>\n",
       "      <td>1357</td>\n",
       "      <td>0.5</td>\n",
       "    </tr>\n",
       "    <tr>\n",
       "      <th>1102</th>\n",
       "      <td>1385</td>\n",
       "      <td>0.5</td>\n",
       "    </tr>\n",
       "    <tr>\n",
       "      <th>1103</th>\n",
       "      <td>1423</td>\n",
       "      <td>0.5</td>\n",
       "    </tr>\n",
       "    <tr>\n",
       "      <th>1104</th>\n",
       "      <td>1471</td>\n",
       "      <td>0.5</td>\n",
       "    </tr>\n",
       "    <tr>\n",
       "      <th>1105</th>\n",
       "      <td>1515</td>\n",
       "      <td>0.5</td>\n",
       "    </tr>\n",
       "  </tbody>\n",
       "</table>\n",
       "<p>1106 rows × 2 columns</p>\n",
       "</div>"
      ],
      "text/plain": [
       "      Amplitude  No. Cycles\n",
       "0           100      1169.5\n",
       "1           101      1229.5\n",
       "2           102      1306.0\n",
       "3           103      1416.0\n",
       "4           104      1474.5\n",
       "...         ...         ...\n",
       "1101       1357         0.5\n",
       "1102       1385         0.5\n",
       "1103       1423         0.5\n",
       "1104       1471         0.5\n",
       "1105       1515         0.5\n",
       "\n",
       "[1106 rows x 2 columns]"
      ]
     },
     "metadata": {},
     "output_type": "display_data"
    }
   ],
   "source": [
    "from IPython.display import display\n",
    "\n",
    "case2_output = sim_output[\"Case2\"]\n",
    "\n",
    "for i in case2_output.get_summary():\n",
    "    print(i)\n",
    "\n",
    "    for j in case2_output.read_data(i):\n",
    "        print(j)\n",
    "        display(case2_output.read_data(i)[j])"
   ]
  },
  {
   "cell_type": "markdown",
   "metadata": {},
   "source": [
    "The simulation output can be saved and loaded for further analysis."
   ]
  },
  {
   "cell_type": "code",
   "execution_count": null,
   "metadata": {},
   "outputs": [
    {
     "name": "stdout",
     "output_type": "stream",
     "text": [
      "Outputs have been successfully loaded from temp/output.pkl!\n"
     ]
    }
   ],
   "source": [
    "pb.save_output(sim_output, Path(\"./temp\") / \"output.pkl\")\n",
    "sim_output = pb.load_output(Path(\"./temp\") / \"output.pkl\")"
   ]
  }
 ],
 "metadata": {
  "kernelspec": {
   "display_name": "pybtls-dev",
   "language": "python",
   "name": "python3"
  },
  "language_info": {
   "codemirror_mode": {
    "name": "ipython",
    "version": 3
   },
   "file_extension": ".py",
   "mimetype": "text/x-python",
   "name": "python",
   "nbconvert_exporter": "python",
   "pygments_lexer": "ipython3",
   "version": "3.11.9"
  }
 },
 "nbformat": 4,
 "nbformat_minor": 2
}
