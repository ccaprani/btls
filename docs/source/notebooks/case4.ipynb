{
 "cells": [
  {
   "cell_type": "markdown",
   "metadata": {},
   "source": [
    "# Case 4"
   ]
  },
  {
   "cell_type": "markdown",
   "metadata": {},
   "source": [
    "This demo is for the case generating a traffic flow and passing them over a bridge. \n",
    "\n",
    "The bridge: \n",
    "\n",
    "- Has four 3.5m-width lanes. \n",
    "- Has a length of 20m.\n",
    "- Has a width of 16m.\n",
    "- Has one load effect being considered. \n",
    "\n",
    "The traffic flow:\n",
    "\n",
    "- It is from a recorded traffic file. \n",
    "\n",
    "**Notice**: Due to Python multiprocessing, it is essential to define the simulation in a function when coding in a normal Python file. However, it is not necessary to do so in Jupyter Notebook."
   ]
  },
  {
   "cell_type": "code",
   "execution_count": null,
   "metadata": {},
   "outputs": [],
   "source": [
    "import PyBTLS as pb\n"
   ]
  },
  {
   "cell_type": "markdown",
   "metadata": {},
   "source": [
    "Set the load effect by using a 2D influence surface"
   ]
  },
  {
   "cell_type": "code",
   "execution_count": null,
   "metadata": {},
   "outputs": [],
   "source": [
    "lanes_position = [(0.5,4.0), (4.0,7.5), (8.5,12.0), (12.0,15.5)]\n",
    "IS_matrix = [\n",
    "    [0.0, 0.0, 4.0, 8.0, 12.0, 16.0],\n",
    "    [0.0, 0.0, 0.0, 0.0, 0.0, 0.0],\n",
    "    [10.0, 0.0, 2.5, 5.0, 2.5, 0.0],\n",
    "    [20.0, 0.0, 0.0, 0.0, 0.0, 0.0]\n",
    "    ]\n",
    "load_effect = pb.InfluenceSurface()\n",
    "load_effect.set_IS(IS_matrix, lanes_position)\n"
   ]
  },
  {
   "cell_type": "markdown",
   "metadata": {},
   "source": [
    "Set the bridge"
   ]
  },
  {
   "cell_type": "code",
   "execution_count": null,
   "metadata": {},
   "outputs": [],
   "source": [
    "bridge = pb.Bridge(length=20.0, no_lane=4)\n",
    "bridge.add_load_effect(inf_line_surf=load_effect, threshold=0.0)\n"
   ]
  },
  {
   "cell_type": "markdown",
   "metadata": {},
   "source": [
    "Set traffic loader"
   ]
  },
  {
   "cell_type": "code",
   "execution_count": null,
   "metadata": {},
   "outputs": [],
   "source": [
    "traffic_gen = pb.TrafficLoader(no_lane=4)\n",
    "traffic_gen.add_traffic(\"Replace this by your traffic file path\", file_format=\"Choose a file format\", use_average_speed=False, use_const_speed=False, const_speed_value=36.0)\n"
   ]
  },
  {
   "cell_type": "markdown",
   "metadata": {},
   "source": [
    "Set output, which will be written to HDD (here we output all possible results)"
   ]
  },
  {
   "cell_type": "code",
   "execution_count": null,
   "metadata": {},
   "outputs": [],
   "source": [
    "output_config = pb.OutputConfig()\n",
    "output_config.set_event_output(write_time_history=True,write_each_event=True)\n",
    "output_config.set_vehicle_file_output(write_vehicle_file=True,vehicle_file_format=4,vehicle_file_name=\"proof_traffic_file.txt\")  # you will see the proof_traffic_file.txt is the same as the test_traffic_file.txt\n",
    "output_config.set_BM_output(write_vehicle=True,write_summary=True,write_mixed=True)\n",
    "output_config.set_POT_output(write_vehicle=True,write_summary=True,write_counter=True)\n",
    "output_config.set_stats_output(write_flow_stats=True,write_overall=True,write_intervals=True)\n",
    "output_config.set_fatigue_output(write_fatigue_event=True,write_rainflow_output=True)\n"
   ]
  },
  {
   "cell_type": "markdown",
   "metadata": {},
   "source": [
    "Set simulation"
   ]
  },
  {
   "cell_type": "code",
   "execution_count": null,
   "metadata": {},
   "outputs": [],
   "source": [
    "sim_task = pb.Simulation()\n",
    "sim_task.add_sim(\n",
    "    bridge=bridge, \n",
    "    traffic_generator=traffic_gen, \n",
    "    output_config=output_config, \n",
    "    time_step=0.1, \n",
    "    min_gvw=35, \n",
    "    # active_lane=[1,2,3,4],  # optional, if not set, all lanes will be active. \n",
    "    # track_progress=False,  # optional, if True, the progress print will show up. \n",
    "    tag=\"Case4\"\n",
    "    )\n"
   ]
  },
  {
   "cell_type": "markdown",
   "metadata": {},
   "source": [
    "Run simulation"
   ]
  },
  {
   "cell_type": "code",
   "execution_count": null,
   "metadata": {},
   "outputs": [],
   "source": [
    "sim_task.run()\n"
   ]
  }
 ],
 "metadata": {
  "kernelspec": {
   "display_name": "base",
   "language": "python",
   "name": "python3"
  },
  "language_info": {
   "codemirror_mode": {
    "name": "ipython",
    "version": 3
   },
   "file_extension": ".py",
   "mimetype": "text/x-python",
   "name": "python",
   "nbconvert_exporter": "python",
   "pygments_lexer": "ipython3",
   "version": "3.11.4"
  }
 },
 "nbformat": 4,
 "nbformat_minor": 2
}
