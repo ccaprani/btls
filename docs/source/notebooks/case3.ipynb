{
 "cells": [
  {
   "cell_type": "markdown",
   "metadata": {},
   "source": [
    "# Case 3"
   ]
  },
  {
   "cell_type": "markdown",
   "metadata": {},
   "source": [
    "This demo is for the case generating a traffic flow by multiple gen models, which is an add-on to the case2. \n",
    "\n",
    "There are four lanes of traffic: \n",
    "\n",
    "- Lane 1: Vehicles are generated from Grave model, and headways are in NHM condition.\n",
    "- Lane 2: Vehicles are generated from Nominal model, and headways are in Congested condition. \n",
    "- Lane 3: Vehicles are generated from Garage model, and headways are in Constant condition. \n",
    "- Lane 4: Vehicles are generated from Garage model, and headways are in Freeflow condition (Poisson arrival model). \n",
    "\n",
    "**Notice**: Due to Python multiprocessing, it is essential to define the simulation in a function when coding in a normal Python file. However, it is not necessary to do so in Jupyter Notebook."
   ]
  },
  {
   "cell_type": "code",
   "execution_count": null,
   "metadata": {},
   "outputs": [],
   "source": [
    "import PyBTLS as pb"
   ]
  },
  {
   "cell_type": "markdown",
   "metadata": {},
   "source": [
    "Set lane flow compositions"
   ]
  },
  {
   "cell_type": "code",
   "execution_count": null,
   "metadata": {},
   "outputs": [],
   "source": [
    "lfc_1 = pb.LaneFlowComposition(lane_index=1,lane_dir=1)\n",
    "lfc_1.assign_lane_data(\n",
    "    hourly_truck_flow=[100]*24,\n",
    "    hourly_car_flow=[0]*24,\n",
    "    hourly_speed_mean=[80/3.6*10]*24,\n",
    "    hourly_speed_std=[10.0]*24,\n",
    "    truck_composition_list=[[25.0,25.0,25.0,25.0] for _ in range(24)]  # only the Grave model requires this info. \n",
    "    )\n",
    "\n",
    "lfc_2 = pb.LaneFlowComposition(lane_index=2,lane_dir=1)\n",
    "lfc_2.assign_lane_data(\n",
    "    hourly_truck_flow=[100]*24,\n",
    "    hourly_car_flow=[0]*24\n",
    "    )\n",
    "\n",
    "lfc_3 = pb.LaneFlowComposition(lane_index=3,lane_dir=2)\n",
    "lfc_3.assign_lane_data(\n",
    "    hourly_truck_flow=[100]*24,\n",
    "    hourly_car_flow=[0]*24\n",
    "    )\n",
    "\n",
    "lfc_4 = pb.LaneFlowComposition(lane_index=4,lane_dir=2)\n",
    "lfc_4.assign_lane_data(\n",
    "    hourly_truck_flow=[100]*24,\n",
    "    hourly_car_flow=[0]*24,\n",
    "    hourly_speed_mean=[80/3.6*10]*24,\n",
    "    hourly_speed_std=[10.0]*24\n",
    "    )\n"
   ]
  },
  {
   "cell_type": "markdown",
   "metadata": {},
   "source": [
    "Set the Garage vehicle generator"
   ]
  },
  {
   "cell_type": "code",
   "execution_count": null,
   "metadata": {},
   "outputs": [],
   "source": [
    "garage_list = pb.GarageProcessing.load_garage_file(\"Replace this by your Garage file path\")\n",
    "kernel = [\n",
    "    [1.0, 0.08],\n",
    "    [1.0, 0.05],\n",
    "    [1.0, 0.02]\n",
    "    ]\n",
    "\n",
    "vehicle_gen_Garage = pb.VehicleGenGarage(garage=garage_list, kernel=kernel)\n"
   ]
  },
  {
   "cell_type": "markdown",
   "metadata": {},
   "source": [
    "Set the Nominal vehicle generator"
   ]
  },
  {
   "cell_type": "code",
   "execution_count": null,
   "metadata": {},
   "outputs": [],
   "source": [
    "vehicle = pb.Vehicle(no_axle=3)\n",
    "vehicle.set_axle_weights([100.0, 100.0, 100.0])\n",
    "vehicle.set_axle_spacings([3.0, 7.0])\n",
    "vehicle.set_axle_widths([2.0, 2.0, 2.0])\n",
    "\n",
    "vehicle_gen_Nominal = pb.VehicleGenNominal(nominal_vehicle=vehicle,COV_list=[1.0,0.1])\n"
   ]
  },
  {
   "cell_type": "markdown",
   "metadata": {},
   "source": [
    "Set the Grave vehicle generator"
   ]
  },
  {
   "cell_type": "code",
   "execution_count": null,
   "metadata": {},
   "outputs": [],
   "source": [
    "vehicle_gen_Grave = pb.VehicleGenGrave(traffic_site=\"Auxerre\")\n"
   ]
  },
  {
   "cell_type": "markdown",
   "metadata": {},
   "source": [
    "Set the NHM headway generator"
   ]
  },
  {
   "cell_type": "code",
   "execution_count": null,
   "metadata": {},
   "outputs": [],
   "source": [
    "headway_gen_NHM = pb.HeadwayGenNHM()\n"
   ]
  },
  {
   "cell_type": "markdown",
   "metadata": {},
   "source": [
    "Set the Congested headway generator"
   ]
  },
  {
   "cell_type": "code",
   "execution_count": null,
   "metadata": {},
   "outputs": [],
   "source": [
    "headway_gen_Congested = pb.HeadwayGenCongested(congested_spacing=26.1, congested_speed=36.0, congested_gap_coef_var=0.05)\n"
   ]
  },
  {
   "cell_type": "markdown",
   "metadata": {},
   "source": [
    "Set the Constant headway generator"
   ]
  },
  {
   "cell_type": "code",
   "execution_count": null,
   "metadata": {},
   "outputs": [],
   "source": [
    "headway_gen_Constant = pb.HeadwayGenConstant(constant_speed=36.0, constant_gap=5.0)\n"
   ]
  },
  {
   "cell_type": "markdown",
   "metadata": {},
   "source": [
    "Set the Freeflow headway generator"
   ]
  },
  {
   "cell_type": "code",
   "execution_count": null,
   "metadata": {},
   "outputs": [],
   "source": [
    "headway_gen_Freeflow = pb.HeadwayGenFreeflow()\n"
   ]
  },
  {
   "cell_type": "markdown",
   "metadata": {},
   "source": [
    "Assemble traffic generator"
   ]
  },
  {
   "cell_type": "code",
   "execution_count": null,
   "metadata": {},
   "outputs": [],
   "source": [
    "traffic_gen = pb.TrafficGenerator(no_lane=4)\n",
    "traffic_gen.add_lane(vehicle_gen=vehicle_gen_Grave, headway_gen=headway_gen_NHM, lfc=lfc_1)\n",
    "traffic_gen.add_lane(vehicle_gen=vehicle_gen_Nominal, headway_gen=headway_gen_Congested, lfc=lfc_2)\n",
    "traffic_gen.add_lane(vehicle_gen=vehicle_gen_Garage, headway_gen=headway_gen_Constant, lfc=lfc_3)\n",
    "traffic_gen.add_lane(vehicle_gen=vehicle_gen_Garage, headway_gen=headway_gen_Freeflow, lfc=lfc_4)\n",
    "# traffic_gen.set_start_time(0.0)  # optional, the default start_time is 0.0 unless you want to change it. \n"
   ]
  },
  {
   "cell_type": "markdown",
   "metadata": {},
   "source": [
    "Set output, which will be written to HDD (here we only want the generated traffic)"
   ]
  },
  {
   "cell_type": "code",
   "execution_count": null,
   "metadata": {},
   "outputs": [],
   "source": [
    "output_config = pb.OutputConfig()\n",
    "output_config.set_vehicle_file_output(write_vehicle_file=True,vehicle_file_format=4,vehicle_file_name=\"test_traffic_file.txt\")\n"
   ]
  },
  {
   "cell_type": "markdown",
   "metadata": {},
   "source": [
    "Set simulation"
   ]
  },
  {
   "cell_type": "code",
   "execution_count": null,
   "metadata": {},
   "outputs": [],
   "source": [
    "sim_task = pb.Simulation()\n",
    "sim_task.add_sim(\n",
    "    traffic_generator=traffic_gen, \n",
    "    no_day=10, \n",
    "    output_config=output_config, \n",
    "    # active_lane=[1,2,3,4],  # optional, if not set, all lanes will be active. \n",
    "    # track_progress=False,  # optional, if True, the progress print will show up. \n",
    "    tag=\"Case3\"\n",
    "    )\n"
   ]
  },
  {
   "cell_type": "markdown",
   "metadata": {},
   "source": [
    "Run simulation"
   ]
  },
  {
   "cell_type": "code",
   "execution_count": null,
   "metadata": {},
   "outputs": [],
   "source": [
    "sim_task.run()\n"
   ]
  }
 ],
 "metadata": {
  "kernelspec": {
   "display_name": "SphinxTest",
   "language": "python",
   "name": "python3"
  },
  "language_info": {
   "name": "python",
   "version": "3.11.4"
  }
 },
 "nbformat": 4,
 "nbformat_minor": 2
}
