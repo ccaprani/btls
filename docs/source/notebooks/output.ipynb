{
 "cells": [
  {
   "cell_type": "code",
   "execution_count": null,
   "id": "2548986b",
   "metadata": {},
   "outputs": [],
   "source": [
    "pb.plot.plot_TH(sim_output[\"Case2\"].read_data(\"time_history\")[\"TH_20\"])\n",
    "pb.plot.plot_AE(sim_output[\"Case2\"].read_data(\"all_events\")[\"BL_20_AllEvents\"])\n",
    "pb.plot.plot_BM_S(sim_output[\"Case2\"].read_data(\"BM_summary\")[\"BM_S_20_Eff_1\"])\n",
    "pb.plot.plot_POT_S(sim_output[\"Case2\"].read_data(\"POT_summary\")[\"PT_S_20_Eff_1\"])\n",
    "pb.plot.plot_FR(sim_output[\"Case2\"].read_data(\"fatigue_rainflow\")[\"RC_20_1\"])"
   ]
  }
 ],
 "metadata": {
  "language_info": {
   "name": "python"
  }
 },
 "nbformat": 4,
 "nbformat_minor": 5
}
