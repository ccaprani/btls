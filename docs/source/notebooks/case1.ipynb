{
 "cells": [
  {
   "cell_type": "markdown",
   "metadata": {},
   "source": [
    "# Case 1"
   ]
  },
  {
   "cell_type": "markdown",
   "metadata": {},
   "source": [
    "This demo is for the case passing a single heavy vehicle over a bridge, to check the corresponding maximum load effect. \n",
    "\n",
    "The bridge: \n",
    "\n",
    "- Has two 3.5m-width lanes. \n",
    "- Has a length of 20m.\n",
    "- Has a width of 9m.\n",
    "- Has two load effects being considered. \n",
    "\n",
    "The vehicle:\n",
    "\n",
    "- Has 3 axles, with axle weights of 100kN, 100kN, and 100kN.\n",
    "- Has axle spacings of 3m and 7m.\n",
    "- Has axle widths of 2m, 2m, and 2m.\n",
    "\n",
    "**Notice**: Due to Python multiprocessing, it is essential to define the simulation in a function when coding in a normal Python file. However, it is not necessary to do so in Jupyter Notebook.\n"
   ]
  },
  {
   "cell_type": "code",
   "execution_count": null,
   "metadata": {},
   "outputs": [],
   "source": [
    "import PyBTLS as pb"
   ]
  },
  {
   "cell_type": "markdown",
   "metadata": {},
   "source": [
    "Set the first load effect by using a 2D influence surface"
   ]
  },
  {
   "cell_type": "code",
   "execution_count": null,
   "metadata": {},
   "outputs": [],
   "source": [
    "lanes_position = [(0.5,4.0), (5.0,8.5)]  # 1m gap between lane 1 and lane 2. \n",
    "IS_matrix = [\n",
    "    [0.0, 0.0, 2.0, 4.5, 7.0, 9.0],\n",
    "    [0.0, 0.0, 0.0, 0.0, 0.0, 0.0],\n",
    "    [10.0, 0.0, 2.5, 5.0, 2.5, 0.0],\n",
    "    [20.0, 0.0, 0.0, 0.0, 0.0, 0.0]\n",
    "    ]\n",
    "load_effect_1 = pb.InfluenceSurface()\n",
    "load_effect_1.set_IS(IS_matrix, lanes_position)\n"
   ]
  },
  {
   "cell_type": "markdown",
   "metadata": {},
   "source": [
    "Set the second load effect by using discrete influence lines"
   ]
  },
  {
   "cell_type": "code",
   "execution_count": null,
   "metadata": {},
   "outputs": [],
   "source": [
    "load_effect_2_lane_1 = pb.InfluenceLine('discrete')\n",
    "load_effect_2_lane_1.set_IL(\n",
    "    position=[0.0, 5.0, 10.0, 15.0, 20.0], \n",
    "    ordinate=[0.0, 3.75, 2.5, 1.25, 0.0]\n",
    "    )\n",
    "load_effect_2_lane_2 = pb.InfluenceLine('built-in')\n",
    "load_effect_2_lane_2.set_IL(\n",
    "    type=\"1MidSpanBM\",\n",
    "    length=20.0\n",
    "    )\n"
   ]
  },
  {
   "cell_type": "markdown",
   "metadata": {},
   "source": [
    "Set the bridge"
   ]
  },
  {
   "cell_type": "code",
   "execution_count": null,
   "metadata": {},
   "outputs": [],
   "source": [
    "bridge = pb.Bridge(length=20.0, no_lane=2)\n",
    "bridge.add_load_effect(inf_line_surf=load_effect_1)\n",
    "bridge.add_load_effect(inf_line_surf=[load_effect_2_lane_1,load_effect_2_lane_2])\n"
   ]
  },
  {
   "cell_type": "markdown",
   "metadata": {},
   "source": [
    "Set the vehicle"
   ]
  },
  {
   "cell_type": "code",
   "execution_count": null,
   "metadata": {},
   "outputs": [],
   "source": [
    "vehicle = pb.Vehicle(no_axle=3)\n",
    "vehicle.set_axle_weights([100.0, 100.0, 100.0])\n",
    "vehicle.set_axle_spacings([3.0, 7.0])\n",
    "vehicle.set_axle_widths([2.0, 2.0, 2.0])\n"
   ]
  },
  {
   "cell_type": "markdown",
   "metadata": {},
   "source": [
    "Set simulation"
   ]
  },
  {
   "cell_type": "code",
   "execution_count": null,
   "metadata": {},
   "outputs": [],
   "source": [
    "sim_task = pb.Simulation()\n",
    "sim_task.add_sim(\n",
    "    bridge=bridge, \n",
    "    vehicle=vehicle,\n",
    "    active_lane=[1],\n",
    "    tag=\"Case1-Lane1\"\n",
    "    )  # vehicle passes lane 1\n",
    "sim_task.add_sim(\n",
    "    bridge=bridge, \n",
    "    vehicle=vehicle,\n",
    "    active_lane=[2],\n",
    "    tag=\"Case1-Lane2\"\n",
    "    )  # vehicle passes lane 2\n"
   ]
  },
  {
   "cell_type": "markdown",
   "metadata": {},
   "source": [
    "Run simulation simultaneously"
   ]
  },
  {
   "cell_type": "code",
   "execution_count": null,
   "metadata": {},
   "outputs": [],
   "source": [
    "sim_task.run(no_core=2)\n"
   ]
  }
 ],
 "metadata": {
  "kernelspec": {
   "display_name": "base",
   "language": "python",
   "name": "python3"
  },
  "language_info": {
   "codemirror_mode": {
    "name": "ipython",
    "version": 3
   },
   "file_extension": ".py",
   "mimetype": "text/x-python",
   "name": "python",
   "nbconvert_exporter": "python",
   "pygments_lexer": "ipython3",
   "version": "3.11.4"
  }
 },
 "nbformat": 4,
 "nbformat_minor": 2
}
