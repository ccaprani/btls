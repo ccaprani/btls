{
 "cells": [
  {
   "cell_type": "markdown",
   "metadata": {},
   "source": [
    "# Simulation with traffic reading. \n",
    "\n",
    "This demo is for the case reading a recorded traffic flow and passing them over a bridge. \n",
    "\n",
    "The bridge: \n",
    "\n",
    "- Has four 3.5m-width lanes. \n",
    "- Has a length of 20m.\n",
    "- Has a width of 16m.\n",
    "- Has one load effect being considered. \n",
    "\n",
    "The traffic flow:\n",
    "\n",
    "- It is a history traffic. "
   ]
  },
  {
   "cell_type": "markdown",
   "metadata": {},
   "source": [
    "---"
   ]
  },
  {
   "cell_type": "markdown",
   "metadata": {},
   "source": [
    "Same processes for the bridge definition as the previous demo."
   ]
  },
  {
   "cell_type": "code",
   "execution_count": 4,
   "metadata": {},
   "outputs": [],
   "source": [
    "import pybtls as pb\n",
    "from pathlib import Path\n",
    "\n",
    "\n",
    "# set the load effect by using a 2D influence surface\n",
    "lanes_position = [(0.5, 4.0), (4.0, 7.5), (8.5, 12.0), (12.0, 15.5)]\n",
    "IS_matrix = [\n",
    "    [0.0, 0.0, 4.0, 8.0, 12.0, 16.0],\n",
    "    [0.0, 0.0, 0.0, 0.0, 0.0, 0.0],\n",
    "    [10.0, 0.0, 2.5, 5.0, 2.5, 0.0],\n",
    "    [20.0, 0.0, 0.0, 0.0, 0.0, 0.0],\n",
    "]\n",
    "load_effect = pb.InfluenceSurface()\n",
    "load_effect.set_IS(IS_matrix, lanes_position)\n",
    "\n",
    "# set the bridge\n",
    "bridge = pb.Bridge(length=20.0, no_lane=4)\n",
    "bridge.add_load_effect(inf_line_surf=load_effect, threshold=0.0)\n"
   ]
  },
  {
   "cell_type": "markdown",
   "metadata": {},
   "source": [
    "Load a history traffic flow."
   ]
  },
  {
   "cell_type": "code",
   "execution_count": 5,
   "metadata": {},
   "outputs": [],
   "source": [
    "traffic_loader = pb.TrafficLoader(no_lane=4)\n",
    "traffic_loader.add_traffic(\n",
    "    traffic=Path(\".\") / \"test_traffic_file.txt\",\n",
    "    traffic_format=4,\n",
    "    # use_average_speed=False,  # optional\n",
    "    # use_const_speed=False,  # optional\n",
    "    # const_speed_value=36.0,  # optional, valid if use_const_speed=True\n",
    ")\n"
   ]
  },
  {
   "cell_type": "markdown",
   "metadata": {},
   "source": [
    "Set output. Here we output all possible results. "
   ]
  },
  {
   "cell_type": "code",
   "execution_count": 6,
   "metadata": {},
   "outputs": [],
   "source": [
    "output_config = pb.OutputConfig()\n",
    "output_config.set_event_output(write_time_history=True, write_each_event=True)\n",
    "output_config.set_vehicle_file_output(\n",
    "    write_vehicle_file=True,\n",
    "    vehicle_file_format=4,\n",
    "    vehicle_file_name=\"proof_traffic_file.txt\",\n",
    ")  # you will see the proof_traffic_file.txt is the same as the test_traffic_file.txt\n",
    "output_config.set_BM_output(\n",
    "    write_vehicle=True, write_summary=True, write_mixed=True\n",
    ")\n",
    "output_config.set_POT_output(\n",
    "    write_vehicle=True, write_summary=True, write_counter=True\n",
    ")\n",
    "output_config.set_stats_output(\n",
    "    write_flow_stats=True, write_overall=True, write_intervals=True\n",
    ")\n",
    "output_config.set_fatigue_output(\n",
    "    write_fatigue_event=True, write_rainflow_output=True\n",
    ")\n"
   ]
  },
  {
   "cell_type": "markdown",
   "metadata": {},
   "source": [
    "Set simulation and get the outputs. "
   ]
  },
  {
   "cell_type": "code",
   "execution_count": 7,
   "metadata": {},
   "outputs": [
    {
     "name": "stdout",
     "output_type": "stream",
     "text": [
      "\n",
      "Bridge 20 m: Flushing AllEvents buffer: 1415 events at 1/1/0 23:57:48\t\n",
      "Bridge 20 m: Flushing Fatigue buffer: 1415 events at 1/1/0 23:57:48\t\n",
      "Flushing buffer of 9427 vehicles at 2/1/0 0:0:17.395\n",
      "['time_history', 'all_events', 'traffic', 'BM_by_no_trucks', 'BM_by_mixed', 'BM_summary', 'POT_vehicle', 'POT_summary', 'POT_counter', 'traffic_statistics', 'E_cumulative_statistics', 'E_interval_statistics', 'fatigue_events', 'fatigue_rainflow']\n"
     ]
    }
   ],
   "source": [
    "sim_task = pb.Simulation(Path(\".\") / \"temp\")\n",
    "sim_task.add_sim(\n",
    "    bridge=bridge,\n",
    "    traffic=traffic_loader,\n",
    "    output_config=output_config,\n",
    "    time_step=0.1,\n",
    "    min_gvw=35,\n",
    "    # active_lane=[1,2,3,4],  # optional, if not set, all lanes will be active.\n",
    "    # track_progress=False,  # optional, if True, the progress print will show up.\n",
    "    tag=\"Case3\",\n",
    ")\n",
    "\n",
    "# run simulation\n",
    "sim_task.run(no_core=1)\n",
    "\n",
    "# get the result\n",
    "sim_output = sim_task.get_output()\n",
    "\n",
    "# See what is included\n",
    "print(sim_output[\"Case3\"].get_summary())\n"
   ]
  }
 ],
 "metadata": {
  "kernelspec": {
   "display_name": "SphinxTest",
   "language": "python",
   "name": "python3"
  },
  "language_info": {
   "codemirror_mode": {
    "name": "ipython",
    "version": 3
   },
   "file_extension": ".py",
   "mimetype": "text/x-python",
   "name": "python",
   "nbconvert_exporter": "python",
   "pygments_lexer": "ipython3",
   "version": "3.11.4"
  }
 },
 "nbformat": 4,
 "nbformat_minor": 2
}
